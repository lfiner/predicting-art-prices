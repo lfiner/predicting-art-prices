{
 "cells": [
  {
   "cell_type": "markdown",
   "metadata": {},
   "source": [
    "## <a id=\"top\"></a>Predicting contemporary art prices\n",
    "LB Finer \n",
    "February 2019\n",
    "\n",
    "The goal of this project was to predict the prices of contemporary artworks on [Artspace](https://artspace.com) using characteristics of the artwork and artist. The project entailed downloading artist and artwork data, cleaning the data, and then developing a linear regression model through feature engineering, adding polynomial features, and testing regularization approaches."
   ]
  },
  {
   "cell_type": "markdown",
   "metadata": {},
   "source": [
    "### Outline of work\n",
    "0. [Imports and other setup](#s0)\n",
    "1. [Create dictionary of artist names and features from Artspace.com](#s1)\n",
    "    1. [Manually download the lists of artist names](#s1a)\n",
    "    2. [Dict-ify and concatenate the lists of artist names](#s1b)\n",
    "2. [Extract artist and artwork features](#s2)\n",
    "    1. [Extract artist-level features and most artwork features from the _artists'_ individual pages](#s2a)\n",
    "    2. [Extract a few more artwork characteristics from the individual _artwork_ pages](#s2b)\n",
    "3. [Clean artist and artwork data](#s3)\n",
    "    1. [Artist data](#s3a)\n",
    "    2. [Artwork data](#s3b)\n",
    "4. [Merge artist and artwork datasets](#s4)\n",
    "5. [Data analysis](#s5)\n",
    "    1. [Exploratory data analysis](#s5a)\n",
    "    2. [Predicting price: model-building and feature engineering](#s5b)"
   ]
  },
  {
   "cell_type": "markdown",
   "metadata": {},
   "source": [
    "---\n",
    "### <a id=\"s0\"></a>Step 0: Imports and other setup"
   ]
  },
  {
   "cell_type": "code",
   "execution_count": 1,
   "metadata": {
    "ExecuteTime": {
     "end_time": "2019-03-08T18:43:53.835127Z",
     "start_time": "2019-03-08T18:43:51.943656Z"
    }
   },
   "outputs": [],
   "source": [
    "# General\n",
    "from __future__ import print_function, division\n",
    "from collections import defaultdict\n",
    "import re\n",
    "import pickle\n",
    "import time\n",
    "import operator\n",
    "import ast\n",
    "\n",
    "# Pandas/math\n",
    "import pandas as pd\n",
    "import numpy as np\n",
    "import random\n",
    "\n",
    "# Web\n",
    "import requests\n",
    "requests.__path__\n",
    "from lxml import html\n",
    "from bs4 import BeautifulSoup\n",
    "from fake_useragent import UserAgent\n",
    "\n",
    "# Statistics\n",
    "import scipy.stats as stats\n",
    "import statsmodels.api as sm\n",
    "from sklearn.preprocessing import PolynomialFeatures\n",
    "from sklearn.preprocessing import StandardScaler\n",
    "from sklearn.pipeline import make_pipeline\n",
    "from sklearn.model_selection import train_test_split\n",
    "from sklearn.linear_model import LinearRegression, Lasso, LassoCV, Ridge, RidgeCV\n",
    "from sklearn.metrics import r2_score\n",
    "import patsy\n",
    "\n",
    "# Graphics\n",
    "import matplotlib.pyplot as plt\n",
    "%matplotlib inline\n",
    "import seaborn as sns"
   ]
  },
  {
   "cell_type": "markdown",
   "metadata": {},
   "source": [
    "### <a id=\"s1\"></a>Step 1: Create dictionary of artist names and characteristics from Artspace.com"
   ]
  },
  {
   "cell_type": "markdown",
   "metadata": {},
   "source": [
    "#### <a id=\"s1a\"></a>Step 1a: Manually download the lists of artist names"
   ]
  },
  {
   "cell_type": "markdown",
   "metadata": {},
   "source": [
    "At the website [Artspace.com](https://www.artspace.com), there is an artist list page for each letter of the alphabet (e.g., for the letter A, it's [https://www.artspace.com/artists/?nm=last&letter=a](https://www.artspace.com/artists/?nm=last&letter=a)). For each letter page, the artist names and other info were _already_ contained in a list of dictionaries, one dictionary for each artist. This list was stored in the page's HTML. I manually extracted and saved these lists into files named artists_a.txt, artists_b.txt, etc."
   ]
  },
  {
   "cell_type": "markdown",
   "metadata": {},
   "source": [
    "#### <a id=\"s1b\"></a>Step 1b: Dict-ify and concatenate the lists of artist names"
   ]
  },
  {
   "cell_type": "code",
   "execution_count": 3,
   "metadata": {},
   "outputs": [],
   "source": [
    "# Initialize the master list.\n",
    "artist_list = []\n",
    "\n",
    "# Loop over every letter in the alphabet.\n",
    "# 'a' = 97; 'z' = 122\n",
    "for ascii_letter in range(97, 123):\n",
    "    \n",
    "    # Get the letter that corresponds to the ASCII value.\n",
    "    letter = chr(ascii_letter)\n",
    "    \n",
    "    # Open the file with the list of artist last names starting with that letter.\n",
    "    file = open('./artist-lists/artists_' + letter + '.txt', 'r') \n",
    "    artist_letter_list = file.read()\n",
    "    \n",
    "    # Do a couple of fixes to make the dictionaries Pythonic.\n",
    "    artist_letter_list = artist_letter_list.replace(': false,', ': False,')\n",
    "    artist_letter_list = artist_letter_list.replace(': true,', ': True,')\n",
    "    \n",
    "    # The above code yields a string containing a list of dictionaries.\n",
    "    # Convert it to an actual list of dictionaries.\n",
    "    artist_letter_list = ast.literal_eval(artist_letter_list)\n",
    "    \n",
    "    # Append this letter's list onto the cumulative list.\n",
    "    artist_list = artist_list + artist_letter_list"
   ]
  },
  {
   "cell_type": "code",
   "execution_count": 4,
   "metadata": {
    "scrolled": false
   },
   "outputs": [
    {
     "data": {
      "text/plain": [
       "[{'is_linked': True,\n",
       "  'cname': 'peter-aaron',\n",
       "  'display_name': 'Aaron, Peter',\n",
       "  'id': '11502',\n",
       "  'name': 'Peter Aaron'},\n",
       " {'is_linked': True,\n",
       "  'cname': 'knut-ivar-aaser',\n",
       "  'display_name': 'Aaser, Knut Ivar',\n",
       "  'id': '11840',\n",
       "  'name': 'Knut Ivar Aaser'},\n",
       " {'is_linked': True,\n",
       "  'cname': 'pio-abad',\n",
       "  'display_name': 'Abad, Pio',\n",
       "  'id': '11813',\n",
       "  'name': 'Pio Abad'}]"
      ]
     },
     "execution_count": 4,
     "metadata": {},
     "output_type": "execute_result"
    }
   ],
   "source": [
    "# Filter the list to only those artists who have their own page on the website\n",
    "# (i.e., those that have a link).\n",
    "artist_linked_list = [artist for artist in artist_list if artist['is_linked'] == True]\n",
    "\n",
    "# Look at a few artists.\n",
    "artist_linked_list[:3]"
   ]
  },
  {
   "cell_type": "code",
   "execution_count": 6,
   "metadata": {},
   "outputs": [
    {
     "data": {
      "text/plain": [
       "{'peter-aaron': {'is_linked': True,\n",
       "  'cname': 'peter-aaron',\n",
       "  'display_name': 'Aaron, Peter',\n",
       "  'id': '11502',\n",
       "  'name': 'Peter Aaron'},\n",
       " 'knut-ivar-aaser': {'is_linked': True,\n",
       "  'cname': 'knut-ivar-aaser',\n",
       "  'display_name': 'Aaser, Knut Ivar',\n",
       "  'id': '11840',\n",
       "  'name': 'Knut Ivar Aaser'},\n",
       " 'pio-abad': {'is_linked': True,\n",
       "  'cname': 'pio-abad',\n",
       "  'display_name': 'Abad, Pio',\n",
       "  'id': '11813',\n",
       "  'name': 'Pio Abad'}}"
      ]
     },
     "execution_count": 6,
     "metadata": {},
     "output_type": "execute_result"
    }
   ],
   "source": [
    "# Convert the list of artist dictionaries into a nested dictionary.\n",
    "# The key of the new (outer) dictionary is the unique identifier 'cname' \n",
    "# from the original (now inner) dictionary.\n",
    "# 'cname' is typically in the format 'roy_lichtenstein' or 'charles-hinman'\n",
    "# The value of the new (outer) dictionary is the original (now inner) dictionary \n",
    "# and all its contents.\n",
    "artists = {}\n",
    "for artist in artist_linked_list:\n",
    "    artists[artist['cname']] = artist\n",
    "    \n",
    "# Look at a few artists in the new structure\n",
    "{k: artists[k] for k in list(artists)[:3]}"
   ]
  },
  {
   "cell_type": "markdown",
   "metadata": {},
   "source": [
    "---\n",
    "### <a id=\"s2\"></a>Step 2: Extract artist and artwork features"
   ]
  },
  {
   "cell_type": "markdown",
   "metadata": {},
   "source": [
    "#### <a id=\"s2a\"></a>Step 2a: Extract (a) artist-level features and (b) most artwork features from the artists' individual pages"
   ]
  },
  {
   "cell_type": "markdown",
   "metadata": {},
   "source": [
    "Individual _artist_ characteristics are located in identifiable tags on the artist's page.\n",
    "\n",
    "In addition, _artwork_ data are also located on the artist's page, in a dictionary similar to the ones above that contained the artist names. So all the artworks for a particular artist can be extracted from the artist's page."
   ]
  },
  {
   "cell_type": "code",
   "execution_count": 7,
   "metadata": {},
   "outputs": [
    {
     "data": {
      "text/plain": [
       "['lola-soloveychik',\n",
       " 'mimmo_paladino',\n",
       " 'jonathan-ryan-storm',\n",
       " 'john-kelly',\n",
       " 'john_fraser']"
      ]
     },
     "execution_count": 7,
     "metadata": {},
     "output_type": "execute_result"
    }
   ],
   "source": [
    "# Shuffle the artists.\n",
    "artist_cnames = list(artists.keys())\n",
    "random.seed(20190117)\n",
    "random.shuffle(artist_cnames)\n",
    "# Save the shuffled list in case it's needed later.\n",
    "pickle.dump(artist_cnames, open('artist_cnames.pickle', 'wb'))\n",
    "artist_cnames[:5]"
   ]
  },
  {
   "cell_type": "code",
   "execution_count": 288,
   "metadata": {
    "scrolled": true
   },
   "outputs": [
    {
     "name": "stdout",
     "output_type": "stream",
     "text": [
      "Previously pickled artists: 6389\n",
      "Artist count: 6389\n",
      "Artist download complete\n"
     ]
    }
   ],
   "source": [
    "# Now, loop over the artists to extract artist and artwork data.\n",
    "\n",
    "# Load previously pickled files.\n",
    "# Un-pickle the artist bios dictionary.\n",
    "# artist_bios = pickle.load(open('artist_bios.pickle', 'rb'))\n",
    "# Un-pickle the artists dictionary.\n",
    "# artists = pickle.load(open('artists.pickle', 'rb'))\n",
    "# Un-pickle the artworks dictionary.\n",
    "# artworks = pickle.load(open('artworks.pickle', 'rb'))\n",
    "\n",
    "# Initialize the pickle counter.\n",
    "# artist_pickle_count = len(artist_bios)\n",
    "# print('Previously pickled artists:', artist_pickle_count)\n",
    "artist_pickle_count = 0\n",
    "\n",
    "# Initialize the artworks dictionary.\n",
    "artworks = {}\n",
    "artist_bios = {}\n",
    "\n",
    "########################\n",
    "# Loop over the artists.\n",
    "for artist_cname in artist_cnames[artist_pickle_count:]:\n",
    "    \n",
    "    # Indicate which artist we're on.\n",
    "    print(artists[artist_cname]['display_name'])\n",
    "\n",
    "    url = 'https://www.artspace.com/artist/' + artist_cname\n",
    "\n",
    "    ua = UserAgent()\n",
    "    user_agent = {'User-agent': ua.random}\n",
    "\n",
    "    # Soupify the page.\n",
    "    timeDelay = random.randrange(20, 40)/1000\n",
    "    time.sleep(timeDelay)        \n",
    "    soup = BeautifulSoup(requests.get(url, headers = user_agent).text, \"lxml\")\n",
    "\n",
    "    \n",
    "    #################################\n",
    "    # Extract artist characteristics.\n",
    "    #################################\n",
    "    \n",
    "    try:\n",
    "        artists[artist_cname]['birth_year'] = soup.find(itemprop='birthDate').text\n",
    "    except:\n",
    "        artists[artist_cname]['birth_year'] = 'n/a'\n",
    "        \n",
    "    try:\n",
    "        artists[artist_cname]['hometown'] = soup.find(itemprop='homeLocation').text\n",
    "    except:\n",
    "        artists[artist_cname]['hometown'] = 'n/a'\n",
    "\n",
    "    try:\n",
    "        artists[artist_cname]['lives_in'] = soup.find(itemprop='workLocation').text\n",
    "    except AttributeError:\n",
    "        artists[artist_cname]['lives_in'] = 'n/a'\n",
    "\n",
    "    try:\n",
    "        degrees = []\n",
    "        for degree in soup.find_all(class_='artist-education-item'):\n",
    "            degrees.append(degree.text.strip())\n",
    "        artists[artist_cname]['degrees'] = degrees\n",
    "        artists[artist_cname]['degree_count'] = len(degrees)\n",
    "    except AttributeError:\n",
    "        artists[artist_cname]['degrees'] = 'n/a'\n",
    "        artists[artist_cname]['degree_count'] = None\n",
    "\n",
    "    try:\n",
    "        genres = []\n",
    "        for genre in soup.find(class_='artist-movement-style').find_all(href=re.compile(\"/tags\")):\n",
    "            genres.append(genre.text.strip())\n",
    "        artists[artist_cname]['genres'] = genres\n",
    "    except AttributeError:\n",
    "        artists[artist_cname]['genres'] = 'n/a'\n",
    "\n",
    "    try:\n",
    "        permanent_collections = []\n",
    "        for permanent_collection in soup.find(class_='artist-permanent-collection-item artist-lists-item').find_all(itemprop='worksFor'):\n",
    "            permanent_collections.append(permanent_collection.text.strip())\n",
    "        artists[artist_cname]['permanent_collections'] = permanent_collections\n",
    "        artists[artist_cname]['permanent_collection_count'] = len(permanent_collections)\n",
    "    except:\n",
    "        artists[artist_cname]['permanent_collections'] = 'n/a'\n",
    "        artists[artist_cname]['permanent_collection_count'] = None\n",
    "\n",
    "    try:\n",
    "        galleries = []\n",
    "        for gallery in soup.find(class_='artist-galleries-item artist-lists-item').find_all(itemprop='worksFor'):\n",
    "            galleries.append(gallery.text.strip())\n",
    "        artists[artist_cname]['galleries'] = galleries\n",
    "        artists[artist_cname]['gallery_count'] = len(galleries)\n",
    "    except:\n",
    "        artists[artist_cname]['galleries'] = 'n/a'\n",
    "        artists[artist_cname]['gallery_count'] = None\n",
    "\n",
    "        \n",
    "    #################################\n",
    "    # Extract artworks.\n",
    "    #################################\n",
    "    \n",
    "    artwork_list = soup.find(string=re.compile('works:'))\n",
    "    \n",
    "    # print(artwork_list)\n",
    "    left_end = 'works:'\n",
    "    right_end = 'page_param:'\n",
    "    artwork_list = artwork_list[artwork_list.index(left_end)+7:]\n",
    "    try:\n",
    "        artwork_list = artwork_list[:artwork_list.index(right_end)]\n",
    "    except:\n",
    "        artwork_list = '[],'    \n",
    "    \n",
    "    # Strip blank spaces and trailing comma\n",
    "    artwork_list = artwork_list.strip()\n",
    "    artwork_list = artwork_list[:-1]\n",
    "    \n",
    "    # Do a few fixes to make the list Pythonic.\n",
    "    artwork_list = artwork_list.replace(': false,', ': False,')\n",
    "    artwork_list = artwork_list.replace(': true,', ': True,')\n",
    "    artwork_list = artwork_list.replace('null', 'None')   \n",
    "    artwork_list = artwork_list.replace('\\'', '’')\n",
    "    \n",
    "    # The above yields a string containing a list of dictionaries.\n",
    "    # Convert it to an actual list of dictionaries.\n",
    "    artwork_list = ast.literal_eval(artwork_list)\n",
    "    \n",
    "    # For each artwork, extract details.\n",
    "    for artwork in artwork_list:\n",
    "        # print(' ' + artwork['t'])\n",
    "        artwork_id = artwork['d']\n",
    "        title = artwork['t']\n",
    "        medium = artwork['m']\n",
    "        price = artwork['p']\n",
    "        height = artwork['height_in']\n",
    "        width = artwork['width_in']\n",
    "        year = artwork['y']\n",
    "        image_url = artwork['lg'] # 'lg' = large image\n",
    "        artwork_url = 'https:/www.artspace.com' + artwork['wl']\n",
    "        styles = artwork['styles']\n",
    "        location = artwork['pc']\n",
    "        \n",
    "        # Write the artwork to the artworks dictionary.\n",
    "        artworks[artwork_id] = {'artist': artist_cname, \n",
    "                                'title': title, \n",
    "                                'medium': medium, \n",
    "                                'price': price, \n",
    "                                'height': height, \n",
    "                                'width': width, \n",
    "                                'year': year, \n",
    "                                'location': location, \n",
    "                                'fame_cat': fame_cat, \n",
    "                                'styles': styles,\n",
    "                                'artwork_url': artwork_url,\n",
    "                                'image_url': image_url}\n",
    "        \n",
    "        # There's one more artist characteristic I can get from the artworks dictionary.\n",
    "        # Extract it.\n",
    "        artists[artist_cname]['last_name'] = artwork['ln']\n",
    "        fame_cat = artwork['ar']\n",
    "        artists[artist_cname]['fame_cat'] = fame_cat\n",
    "\n",
    "        # End of artwork loop.\n",
    "        \n",
    "    # Finally, extract and add the artist's biography, which is a big\n",
    "    # chunk of text, to a SEPARATE artist_bios dictionary.\n",
    "    try:\n",
    "        artist_bio = soup.find(class_='info-text').text\n",
    "    except:\n",
    "        artist_bio = 'n/a'\n",
    "    artist_bios[artist_cname] = artist_bio\n",
    "    \n",
    "    # This artist is complete.\n",
    "    artist_pickle_count = artist_pickle_count + 1\n",
    "    \n",
    "    # Pickle all the dictionaries every 50 artists.\n",
    "    if artist_pickle_count % 50 == 0:\n",
    "        # Print a status update.\n",
    "        print('\\nArtist count:', artist_pickle_count, '\\n')\n",
    "        # Pickle the artists dictionary.\n",
    "        pickle.dump(artists, open('artists.pickle', 'wb'))\n",
    "        # Pickle the artworks dictionary.\n",
    "        pickle.dump(artworks, open('artworks.pickle', 'wb'))\n",
    "        # Pickle the artist bios dictionary.\n",
    "        pickle.dump(artist_bios, open('artist_bios.pickle', 'wb'))\n",
    "        \n",
    "print('Artist count:', artist_pickle_count)\n",
    "print('Artist download complete')\n",
    "\n",
    "# Pickle again when download is complete.\n",
    "pickle.dump(artists, open('artists.pickle', 'wb'))\n",
    "pickle.dump(artworks, open('artworks.pickle', 'wb'))\n",
    "pickle.dump(artist_bios, open('artist_bios.pickle', 'wb'))"
   ]
  },
  {
   "cell_type": "markdown",
   "metadata": {},
   "source": [
    "#### <a id=\"s2b\"></a>Step 2b: Extract a few more artwork characteristics from the individual artwork pages"
   ]
  },
  {
   "cell_type": "code",
   "execution_count": 1,
   "metadata": {
    "ExecuteTime": {
     "end_time": "2019-04-03T19:17:05.150838Z",
     "start_time": "2019-04-03T19:17:05.139911Z"
    }
   },
   "outputs": [],
   "source": [
    "# Load previously pickled files.\n",
    "# Un-pickle the artworks dictionary.\n",
    "artworks = pickle.load(open('artworks.pickle', 'rb'))\n",
    "# Un-pickle the counter.\n",
    "artwork_pickle_count = pickle.load(open('artwork_pickle_count.pickle', 'rb'))\n",
    "\n",
    "# print('Previously pickled artists:', artist_pickle_count)\n",
    "# artwork_pickle_count = 0\n",
    "\n",
    "for artwork in artworks:\n",
    "    \n",
    "    url = 'https://' + artworks[artwork]['artwork_url'][30:]\n",
    "    print(url)\n",
    "    \n",
    "    # Soupify the page.\n",
    "    timeDelay = random.randrange(5, 10)/1000\n",
    "    time.sleep(timeDelay)        \n",
    "    soup = BeautifulSoup(requests.get(url, headers = user_agent).text, \"lxml\")\n",
    "    \n",
    "    try:\n",
    "        artworks[artwork]['edition_size'] = soup.find(class_='size-edition').text.strip()\n",
    "    except:\n",
    "        artworks[artwork]['edition_size'] = None\n",
    "        \n",
    "    try:\n",
    "        artworks[artwork]['authentication'] = soup.find(class_='authentication').text.strip()\n",
    "    except:\n",
    "        artworks[artwork]['authentication'] = None\n",
    "        \n",
    "    try:\n",
    "        artworks[artwork]['physical_description'] = soup.find(class_='physical-description ').text.strip()\n",
    "    except:\n",
    "        artworks[artwork]['physical_description'] = None\n",
    "    \n",
    "    tags = []\n",
    "    try:\n",
    "        for tag in soup.find(class_='tags visible-md visible-lg').find_all(href=re.compile('/tags')):\n",
    "            tags.append(tag.text.strip())\n",
    "        artworks[artwork]['tags'] = tags\n",
    "    except:\n",
    "        artworks[artwork]['tags'] = tags\n",
    "        \n",
    "    # This artwork is complete.\n",
    "    artwork_pickle_count = artwork_pickle_count + 1\n",
    "     \n",
    "     # Pickle the artwork dictionary every 50 artists.\n",
    "    if artwork_pickle_count % 100 == 0:\n",
    "        # Print a status update.\n",
    "        print('\\nArtwork count:', artwork_pickle_count, '\\n')\n",
    "        # Pickle the artworks dictionary.\n",
    "        pickle.dump(artworks, open('artworks.pickle', 'wb'))\n",
    "        # Pickle the counter.\n",
    "        pickle.dump(artwork_pickle_count, open('artwork_pickle_count.pickle', 'wb'))\n",
    "     \n",
    "print('\\nArtwork count:', artwork_pickle_count)\n",
    "print('Artwork download complete')\n",
    "\n",
    "# Pickle again when download is complete.\n",
    "pickle.dump(artworks, open('artworks.pickle', 'wb'))"
   ]
  },
  {
   "cell_type": "markdown",
   "metadata": {},
   "source": [
    "### <a id=\"s3\"></a>Step 3: Clean artist and artwork data"
   ]
  },
  {
   "cell_type": "markdown",
   "metadata": {},
   "source": [
    "#### <a id=\"s3a\"></a>Artist data"
   ]
  },
  {
   "cell_type": "code",
   "execution_count": 8,
   "metadata": {},
   "outputs": [],
   "source": [
    "# Reload artist data from pickle file.\n",
    "artists = pickle.load(open('artists.pickle', 'rb'))"
   ]
  },
  {
   "cell_type": "code",
   "execution_count": 9,
   "metadata": {},
   "outputs": [
    {
     "data": {
      "text/html": [
       "<div>\n",
       "<style scoped>\n",
       "    .dataframe tbody tr th:only-of-type {\n",
       "        vertical-align: middle;\n",
       "    }\n",
       "\n",
       "    .dataframe tbody tr th {\n",
       "        vertical-align: top;\n",
       "    }\n",
       "\n",
       "    .dataframe thead th {\n",
       "        text-align: right;\n",
       "    }\n",
       "</style>\n",
       "<table border=\"1\" class=\"dataframe\">\n",
       "  <thead>\n",
       "    <tr style=\"text-align: right;\">\n",
       "      <th></th>\n",
       "      <th>name_lf</th>\n",
       "      <th>id</th>\n",
       "      <th>name_pretty</th>\n",
       "      <th>birth_year</th>\n",
       "      <th>hometown</th>\n",
       "      <th>lives_in</th>\n",
       "      <th>degrees</th>\n",
       "      <th>degree_count</th>\n",
       "      <th>genres</th>\n",
       "      <th>permanent_collections</th>\n",
       "      <th>permanent_collection_count</th>\n",
       "      <th>galleries</th>\n",
       "      <th>gallery_count</th>\n",
       "      <th>name_last</th>\n",
       "      <th>fame_cat</th>\n",
       "    </tr>\n",
       "  </thead>\n",
       "  <tbody>\n",
       "    <tr>\n",
       "      <th>a-m-rousseau</th>\n",
       "      <td>M. Rousseau, A.</td>\n",
       "      <td>37298</td>\n",
       "      <td>A. M. Rousseau</td>\n",
       "      <td>n/a</td>\n",
       "      <td>n/a</td>\n",
       "      <td>n/a</td>\n",
       "      <td>[]</td>\n",
       "      <td>0</td>\n",
       "      <td>n/a</td>\n",
       "      <td>n/a</td>\n",
       "      <td>NaN</td>\n",
       "      <td>n/a</td>\n",
       "      <td>NaN</td>\n",
       "      <td>mrousseau</td>\n",
       "      <td>non-strategic</td>\n",
       "    </tr>\n",
       "    <tr>\n",
       "      <th>a_l__steiner</th>\n",
       "      <td>Steiner, A. L.</td>\n",
       "      <td>993</td>\n",
       "      <td>A. L. Steiner</td>\n",
       "      <td>1967</td>\n",
       "      <td>Miami, FL</td>\n",
       "      <td>Brooklyn, NY</td>\n",
       "      <td>[]</td>\n",
       "      <td>0</td>\n",
       "      <td>n/a</td>\n",
       "      <td>n/a</td>\n",
       "      <td>NaN</td>\n",
       "      <td>n/a</td>\n",
       "      <td>NaN</td>\n",
       "      <td>NaN</td>\n",
       "      <td>NaN</td>\n",
       "    </tr>\n",
       "    <tr>\n",
       "      <th>aa_bronson</th>\n",
       "      <td>Bronson, AA</td>\n",
       "      <td>3455</td>\n",
       "      <td>AA Bronson</td>\n",
       "      <td>1946</td>\n",
       "      <td>Vancouver, Canada</td>\n",
       "      <td>Berlin, Germany</td>\n",
       "      <td>[]</td>\n",
       "      <td>0</td>\n",
       "      <td>[Art Books, Death, Political Art]</td>\n",
       "      <td>n/a</td>\n",
       "      <td>NaN</td>\n",
       "      <td>[Esther Schipper, Berlin, Germany, Maureen Pal...</td>\n",
       "      <td>2.0</td>\n",
       "      <td>NaN</td>\n",
       "      <td>NaN</td>\n",
       "    </tr>\n",
       "    <tr>\n",
       "      <th>aaditi_joshi</th>\n",
       "      <td>Joshi, Aaditi</td>\n",
       "      <td>1416</td>\n",
       "      <td>Aaditi Joshi</td>\n",
       "      <td>1980</td>\n",
       "      <td>Mumbai, India</td>\n",
       "      <td>Mumbai, India</td>\n",
       "      <td>[L.S. Drawing and Painting, Raheja School of A...</td>\n",
       "      <td>1</td>\n",
       "      <td>n/a</td>\n",
       "      <td>n/a</td>\n",
       "      <td>NaN</td>\n",
       "      <td>[Gallery Maskara, Mumbai, India]</td>\n",
       "      <td>1.0</td>\n",
       "      <td>NaN</td>\n",
       "      <td>NaN</td>\n",
       "    </tr>\n",
       "    <tr>\n",
       "      <th>aaron-angell</th>\n",
       "      <td>Angell, Aaron</td>\n",
       "      <td>11645</td>\n",
       "      <td>Aaron Angell</td>\n",
       "      <td>1987</td>\n",
       "      <td>Kent, UK</td>\n",
       "      <td>London, UK</td>\n",
       "      <td>[BFA, Slade School of Fine Art, London, UK]</td>\n",
       "      <td>1</td>\n",
       "      <td>[Ceramic]</td>\n",
       "      <td>n/a</td>\n",
       "      <td>NaN</td>\n",
       "      <td>n/a</td>\n",
       "      <td>NaN</td>\n",
       "      <td>angell</td>\n",
       "      <td>up-and-coming</td>\n",
       "    </tr>\n",
       "  </tbody>\n",
       "</table>\n",
       "</div>"
      ],
      "text/plain": [
       "                      name_lf     id     name_pretty birth_year  \\\n",
       "a-m-rousseau  M. Rousseau, A.  37298  A. M. Rousseau        n/a   \n",
       "a_l__steiner   Steiner, A. L.    993   A. L. Steiner       1967   \n",
       "aa_bronson        Bronson, AA   3455      AA Bronson       1946   \n",
       "aaditi_joshi    Joshi, Aaditi   1416    Aaditi Joshi       1980   \n",
       "aaron-angell    Angell, Aaron  11645    Aaron Angell       1987   \n",
       "\n",
       "                       hometown         lives_in  \\\n",
       "a-m-rousseau                n/a              n/a   \n",
       "a_l__steiner         Miami, FL      Brooklyn, NY   \n",
       "aa_bronson    Vancouver, Canada  Berlin, Germany   \n",
       "aaditi_joshi      Mumbai, India    Mumbai, India   \n",
       "aaron-angell           Kent, UK       London, UK   \n",
       "\n",
       "                                                        degrees  degree_count  \\\n",
       "a-m-rousseau                                                 []             0   \n",
       "a_l__steiner                                                 []             0   \n",
       "aa_bronson                                                   []             0   \n",
       "aaditi_joshi  [L.S. Drawing and Painting, Raheja School of A...             1   \n",
       "aaron-angell        [BFA, Slade School of Fine Art, London, UK]             1   \n",
       "\n",
       "                                         genres permanent_collections  \\\n",
       "a-m-rousseau                                n/a                   n/a   \n",
       "a_l__steiner                                n/a                   n/a   \n",
       "aa_bronson    [Art Books, Death, Political Art]                   n/a   \n",
       "aaditi_joshi                                n/a                   n/a   \n",
       "aaron-angell                          [Ceramic]                   n/a   \n",
       "\n",
       "              permanent_collection_count  \\\n",
       "a-m-rousseau                         NaN   \n",
       "a_l__steiner                         NaN   \n",
       "aa_bronson                           NaN   \n",
       "aaditi_joshi                         NaN   \n",
       "aaron-angell                         NaN   \n",
       "\n",
       "                                                      galleries  \\\n",
       "a-m-rousseau                                                n/a   \n",
       "a_l__steiner                                                n/a   \n",
       "aa_bronson    [Esther Schipper, Berlin, Germany, Maureen Pal...   \n",
       "aaditi_joshi                   [Gallery Maskara, Mumbai, India]   \n",
       "aaron-angell                                                n/a   \n",
       "\n",
       "              gallery_count  name_last       fame_cat  \n",
       "a-m-rousseau            NaN  mrousseau  non-strategic  \n",
       "a_l__steiner            NaN        NaN            NaN  \n",
       "aa_bronson              2.0        NaN            NaN  \n",
       "aaditi_joshi            1.0        NaN            NaN  \n",
       "aaron-angell            NaN     angell  up-and-coming  "
      ]
     },
     "execution_count": 9,
     "metadata": {},
     "output_type": "execute_result"
    }
   ],
   "source": [
    "# Load the artist data into a dataframe.\n",
    "df_artists = pd.DataFrame.from_dict(artists, orient='index')\n",
    "df_artists = df_artists.drop(['cname', 'is_linked'], axis=1)\n",
    "df_artists.rename(index=str, columns={'display_name': 'name_lf', 'name': 'name_pretty', 'last_name': 'name_last'}, inplace=True)\n",
    "df_artists.head()"
   ]
  },
  {
   "cell_type": "code",
   "execution_count": 10,
   "metadata": {},
   "outputs": [
    {
     "data": {
      "text/plain": [
       "(6389, 15)"
      ]
     },
     "execution_count": 10,
     "metadata": {},
     "output_type": "execute_result"
    }
   ],
   "source": [
    "df_artists.shape"
   ]
  },
  {
   "cell_type": "code",
   "execution_count": 11,
   "metadata": {
    "scrolled": true
   },
   "outputs": [
    {
     "data": {
      "text/plain": [
       "Index(['name_lf', 'id', 'name_pretty', 'birth_year', 'hometown', 'lives_in',\n",
       "       'degrees', 'degree_count', 'genres', 'permanent_collections',\n",
       "       'permanent_collection_count', 'galleries', 'gallery_count', 'name_last',\n",
       "       'fame_cat'],\n",
       "      dtype='object')"
      ]
     },
     "execution_count": 11,
     "metadata": {},
     "output_type": "execute_result"
    }
   ],
   "source": [
    "df_artists.columns"
   ]
  },
  {
   "cell_type": "markdown",
   "metadata": {},
   "source": [
    "##### Birth year"
   ]
  },
  {
   "cell_type": "code",
   "execution_count": 12,
   "metadata": {},
   "outputs": [
    {
     "data": {
      "text/plain": [
       "n/a                                 1094\n",
       "1977                                 218\n",
       "1979                                 216\n",
       "1980                                 208\n",
       "1978                                 207\n",
       "1976                                 180\n",
       "1981                                 163\n",
       "1970                                 136\n",
       "1973                                 136\n",
       "1972                                 136\n",
       "1974                                 135\n",
       "1982                                 132\n",
       "1975                                 130\n",
       "1969                                 118\n",
       "1983                                 114\n",
       "1984                                 109\n",
       "1971                                 104\n",
       "1967                                 101\n",
       "1985                                  99\n",
       "1968                                  91\n",
       "1963                                  90\n",
       "1962                                  89\n",
       "1966                                  87\n",
       "1964                                  85\n",
       "1955                                  78\n",
       "1961                                  77\n",
       "1986                                  76\n",
       "1965                                  76\n",
       "1960                                  73\n",
       "1956                                  63\n",
       "                                    ... \n",
       "Ilya: 1933                             1\n",
       "1935                                   1\n",
       "1980 & 1981                            1\n",
       " 1986                                  1\n",
       "San Antonio, Texas                     1\n",
       "1970                                   1\n",
       "Robert: 1968 Shan: 1964                1\n",
       "1883                                   1\n",
       "nicholas-frank                         1\n",
       "1917                                   1\n",
       "1942                                   1\n",
       "Lieske: 1979, Kulisek: 1989            1\n",
       "JF:1973, TS:1979                       1\n",
       "2009                                   1\n",
       "Bernd: 1931; Hilla: 1934               1\n",
       "Lee: 1963; Kizys: 1960                 1\n",
       "Broomerg (1970), Chanarin (1971)       1\n",
       "1885                                   1\n",
       "1869                                   1\n",
       "Wolfsburg, Germany                     1\n",
       "Albertslund, Denmark                   1\n",
       "1969\\t                                 1\n",
       "1960s                                  1\n",
       "Fischli: 1952; Weiss: 1946             1\n",
       "1862                                   1\n",
       "1927 and 1943                          1\n",
       "1975                                   1\n",
       "1979                                   1\n",
       "1973, 1974                             1\n",
       "1946                                   1\n",
       "Name: birth_year, Length: 186, dtype: int64"
      ]
     },
     "execution_count": 12,
     "metadata": {},
     "output_type": "execute_result"
    }
   ],
   "source": [
    "# pd.options.display.max_rows = 999\n",
    "df_artists['birth_year'].value_counts()"
   ]
  },
  {
   "cell_type": "code",
   "execution_count": 13,
   "metadata": {},
   "outputs": [],
   "source": [
    "# Case-specific cleanups\n",
    "df_artists.loc[df_artists['birth_year'] == 'n/a', 'birth_year'] = None\n",
    "df_artists.loc[df_artists['birth_year'] == 'Tarrytown, New York', 'birth_year'] = None\n",
    "df_artists.loc[df_artists['birth_year'] == '1960s', 'birth_year'] = 1965\n",
    "df_artists.loc[df_artists['birth_year'] == 'Lieske: 1979, Kulisek: 1989', 'birth_year'] = 1984\n",
    "df_artists.loc[df_artists['birth_year'] == 'Fischli: 1952; Weiss: 1946', 'birth_year'] = 1949\n",
    "df_artists.loc[df_artists['birth_year'] == 'Ilya: 1933', 'birth_year'] = 1933\n",
    "df_artists.loc[df_artists['birth_year'] == 'Pennacchio (1979) / Argentato (1977)', 'birth_year'] = 1978\n",
    "df_artists.loc[df_artists['birth_year'] == '1978 and 1980', 'birth_year'] = 1979\n",
    "df_artists.loc[df_artists['birth_year'] == 'Los Angeles, CA', 'birth_year'] = None\n",
    "df_artists.loc[df_artists['birth_year'] == 'Adam Frezza, b. 1977, Rochester, NY; Terri Chiao, b. 1981, Atlanta, GA', 'birth_year'] = 1979\n",
    "df_artists.loc[df_artists['birth_year'] == 'Kuehne (1962) / Klein (1956) ', 'birth_year'] = 1959\n",
    "df_artists.loc[df_artists['birth_year'] == 'nicholas-frank', 'birth_year'] = None\n",
    "df_artists.loc[df_artists['birth_year'] == 'Zaragoza, Spain', 'birth_year'] = None\n",
    "df_artists.loc[df_artists['birth_year'] == 'San Antonio, Texas', 'birth_year'] = None\n",
    "df_artists.loc[df_artists['birth_year'] == '1980 & 1981', 'birth_year'] = 1980\n",
    "df_artists.loc[df_artists['birth_year'] == '1963, 1967', 'birth_year'] = 1965\n",
    "df_artists.loc[df_artists['birth_year'] == '1973, 1974', 'birth_year'] = 1974\n",
    "df_artists.loc[df_artists['birth_year'] == '1965/1962', 'birth_year'] = 1964\n",
    "df_artists.loc[df_artists['birth_year'] == 'Scheltens (1972), Abbenes (1970)', 'birth_year'] = 1971\n",
    "df_artists.loc[df_artists['birth_year'] == 'May 4, 1937', 'birth_year'] = 1937\n",
    "df_artists.loc[df_artists['birth_year'] == 'Broomerg (1970), Chanarin (1971)', 'birth_year'] = 1970\n",
    "df_artists.loc[df_artists['birth_year'] == 'Nourry: 1985', 'birth_year'] = 1985\n",
    "df_artists.loc[df_artists['birth_year'] == 'Switzeland', 'birth_year'] = None\n",
    "df_artists.loc[df_artists['birth_year'] == '1927 and 1943', 'birth_year'] = 1935\n",
    "df_artists.loc[df_artists['birth_year'] == 'Seattle, WA', 'birth_year'] = None\n",
    "df_artists.loc[df_artists['birth_year'] == 'Steven: 1976; Billy: 1981', 'birth_year'] = 1978\n",
    "df_artists.loc[df_artists['birth_year'] == '969\\t', 'birth_year'] = 1969\n",
    "df_artists.loc[df_artists['birth_year'] == 'JF:1973, TS:1979', 'birth_year'] = 1976\n",
    "df_artists.loc[df_artists['birth_year'] == 'Robert: 1968 Shan: 1964', 'birth_year'] = 1966\n",
    "df_artists.loc[df_artists['birth_year'] == 'Robbins: 1963; Becher: 1964', 'birth_year'] = 1964\n",
    "df_artists.loc[df_artists['birth_year'] == 'Detroit, MI', 'birth_year'] = None\n",
    "df_artists.loc[df_artists['birth_year'] == 'Fernando: 1961; Humberto: 1953', 'birth_year'] = 1957\n",
    "df_artists.loc[df_artists['birth_year'] == 'Wolfsburg, Germany', 'birth_year'] = None\n",
    "df_artists.loc[df_artists['birth_year'] == 'Unknown', 'birth_year'] = None\n",
    "df_artists.loc[df_artists['birth_year'] == '1951 and 1945', 'birth_year'] = 1948\n",
    "df_artists.loc[df_artists['birth_year'] == 'Bernd: 1931; Hilla: 1934', 'birth_year'] = 1932\n",
    "df_artists.loc[df_artists['birth_year'] == 'Lee: 1963; Kizys: 1960', 'birth_year'] = 1962\n",
    "df_artists.loc[df_artists['birth_year'] == 'Albertslund, Denmark', 'birth_year'] = None\n",
    "df_artists.loc[df_artists['birth_year'] == 'December 12', 'birth_year'] = None\n",
    "df_artists.loc[df_artists['birth_year'] == 'August 25, 1930', 'birth_year'] = 1930\n",
    "df_artists.loc[df_artists['birth_year'] == 'Simmons: 1949; Jenson: 1969', 'birth_year'] = 1959\n",
    "\n"
   ]
  },
  {
   "cell_type": "code",
   "execution_count": 14,
   "metadata": {},
   "outputs": [],
   "source": [
    "df_artists['birth_year'] = pd.to_numeric(df_artists['birth_year'])"
   ]
  },
  {
   "cell_type": "markdown",
   "metadata": {},
   "source": [
    "##### Death year"
   ]
  },
  {
   "cell_type": "code",
   "execution_count": 17,
   "metadata": {},
   "outputs": [],
   "source": [
    "# Read Nora's data\n",
    "df_christies = pd.read_csv(\"Christie's data from Nora.csv\", usecols=['artist_name', 'artist_death'])\n",
    "df_christies = df_christies.groupby('artist_name').first()"
   ]
  },
  {
   "cell_type": "code",
   "execution_count": 18,
   "metadata": {},
   "outputs": [
    {
     "data": {
      "text/html": [
       "<div>\n",
       "<style scoped>\n",
       "    .dataframe tbody tr th:only-of-type {\n",
       "        vertical-align: middle;\n",
       "    }\n",
       "\n",
       "    .dataframe tbody tr th {\n",
       "        vertical-align: top;\n",
       "    }\n",
       "\n",
       "    .dataframe thead th {\n",
       "        text-align: right;\n",
       "    }\n",
       "</style>\n",
       "<table border=\"1\" class=\"dataframe\">\n",
       "  <thead>\n",
       "    <tr style=\"text-align: right;\">\n",
       "      <th></th>\n",
       "      <th>name_lf</th>\n",
       "      <th>id</th>\n",
       "      <th>name_pretty</th>\n",
       "      <th>birth_year</th>\n",
       "      <th>hometown</th>\n",
       "      <th>lives_in</th>\n",
       "      <th>degrees</th>\n",
       "      <th>degree_count</th>\n",
       "      <th>genres</th>\n",
       "      <th>permanent_collections</th>\n",
       "      <th>permanent_collection_count</th>\n",
       "      <th>galleries</th>\n",
       "      <th>gallery_count</th>\n",
       "      <th>name_last</th>\n",
       "      <th>fame_cat</th>\n",
       "    </tr>\n",
       "  </thead>\n",
       "  <tbody>\n",
       "    <tr>\n",
       "      <th>a-m-rousseau</th>\n",
       "      <td>M. Rousseau, A.</td>\n",
       "      <td>37298</td>\n",
       "      <td>A. M. Rousseau</td>\n",
       "      <td>NaN</td>\n",
       "      <td>n/a</td>\n",
       "      <td>n/a</td>\n",
       "      <td>[]</td>\n",
       "      <td>0</td>\n",
       "      <td>n/a</td>\n",
       "      <td>n/a</td>\n",
       "      <td>NaN</td>\n",
       "      <td>n/a</td>\n",
       "      <td>NaN</td>\n",
       "      <td>mrousseau</td>\n",
       "      <td>non-strategic</td>\n",
       "    </tr>\n",
       "    <tr>\n",
       "      <th>a_l__steiner</th>\n",
       "      <td>Steiner, A. L.</td>\n",
       "      <td>993</td>\n",
       "      <td>A. L. Steiner</td>\n",
       "      <td>1967.0</td>\n",
       "      <td>Miami, FL</td>\n",
       "      <td>Brooklyn, NY</td>\n",
       "      <td>[]</td>\n",
       "      <td>0</td>\n",
       "      <td>n/a</td>\n",
       "      <td>n/a</td>\n",
       "      <td>NaN</td>\n",
       "      <td>n/a</td>\n",
       "      <td>NaN</td>\n",
       "      <td>NaN</td>\n",
       "      <td>NaN</td>\n",
       "    </tr>\n",
       "    <tr>\n",
       "      <th>aa_bronson</th>\n",
       "      <td>Bronson, AA</td>\n",
       "      <td>3455</td>\n",
       "      <td>AA Bronson</td>\n",
       "      <td>1946.0</td>\n",
       "      <td>Vancouver, Canada</td>\n",
       "      <td>Berlin, Germany</td>\n",
       "      <td>[]</td>\n",
       "      <td>0</td>\n",
       "      <td>[Art Books, Death, Political Art]</td>\n",
       "      <td>n/a</td>\n",
       "      <td>NaN</td>\n",
       "      <td>[Esther Schipper, Berlin, Germany, Maureen Pal...</td>\n",
       "      <td>2.0</td>\n",
       "      <td>NaN</td>\n",
       "      <td>NaN</td>\n",
       "    </tr>\n",
       "    <tr>\n",
       "      <th>aaditi_joshi</th>\n",
       "      <td>Joshi, Aaditi</td>\n",
       "      <td>1416</td>\n",
       "      <td>Aaditi Joshi</td>\n",
       "      <td>1980.0</td>\n",
       "      <td>Mumbai, India</td>\n",
       "      <td>Mumbai, India</td>\n",
       "      <td>[L.S. Drawing and Painting, Raheja School of A...</td>\n",
       "      <td>1</td>\n",
       "      <td>n/a</td>\n",
       "      <td>n/a</td>\n",
       "      <td>NaN</td>\n",
       "      <td>[Gallery Maskara, Mumbai, India]</td>\n",
       "      <td>1.0</td>\n",
       "      <td>NaN</td>\n",
       "      <td>NaN</td>\n",
       "    </tr>\n",
       "    <tr>\n",
       "      <th>aaron-angell</th>\n",
       "      <td>Angell, Aaron</td>\n",
       "      <td>11645</td>\n",
       "      <td>Aaron Angell</td>\n",
       "      <td>1987.0</td>\n",
       "      <td>Kent, UK</td>\n",
       "      <td>London, UK</td>\n",
       "      <td>[BFA, Slade School of Fine Art, London, UK]</td>\n",
       "      <td>1</td>\n",
       "      <td>[Ceramic]</td>\n",
       "      <td>n/a</td>\n",
       "      <td>NaN</td>\n",
       "      <td>n/a</td>\n",
       "      <td>NaN</td>\n",
       "      <td>angell</td>\n",
       "      <td>up-and-coming</td>\n",
       "    </tr>\n",
       "  </tbody>\n",
       "</table>\n",
       "</div>"
      ],
      "text/plain": [
       "                      name_lf     id     name_pretty  birth_year  \\\n",
       "a-m-rousseau  M. Rousseau, A.  37298  A. M. Rousseau         NaN   \n",
       "a_l__steiner   Steiner, A. L.    993   A. L. Steiner      1967.0   \n",
       "aa_bronson        Bronson, AA   3455      AA Bronson      1946.0   \n",
       "aaditi_joshi    Joshi, Aaditi   1416    Aaditi Joshi      1980.0   \n",
       "aaron-angell    Angell, Aaron  11645    Aaron Angell      1987.0   \n",
       "\n",
       "                       hometown         lives_in  \\\n",
       "a-m-rousseau                n/a              n/a   \n",
       "a_l__steiner         Miami, FL      Brooklyn, NY   \n",
       "aa_bronson    Vancouver, Canada  Berlin, Germany   \n",
       "aaditi_joshi      Mumbai, India    Mumbai, India   \n",
       "aaron-angell           Kent, UK       London, UK   \n",
       "\n",
       "                                                        degrees  degree_count  \\\n",
       "a-m-rousseau                                                 []             0   \n",
       "a_l__steiner                                                 []             0   \n",
       "aa_bronson                                                   []             0   \n",
       "aaditi_joshi  [L.S. Drawing and Painting, Raheja School of A...             1   \n",
       "aaron-angell        [BFA, Slade School of Fine Art, London, UK]             1   \n",
       "\n",
       "                                         genres permanent_collections  \\\n",
       "a-m-rousseau                                n/a                   n/a   \n",
       "a_l__steiner                                n/a                   n/a   \n",
       "aa_bronson    [Art Books, Death, Political Art]                   n/a   \n",
       "aaditi_joshi                                n/a                   n/a   \n",
       "aaron-angell                          [Ceramic]                   n/a   \n",
       "\n",
       "              permanent_collection_count  \\\n",
       "a-m-rousseau                         NaN   \n",
       "a_l__steiner                         NaN   \n",
       "aa_bronson                           NaN   \n",
       "aaditi_joshi                         NaN   \n",
       "aaron-angell                         NaN   \n",
       "\n",
       "                                                      galleries  \\\n",
       "a-m-rousseau                                                n/a   \n",
       "a_l__steiner                                                n/a   \n",
       "aa_bronson    [Esther Schipper, Berlin, Germany, Maureen Pal...   \n",
       "aaditi_joshi                   [Gallery Maskara, Mumbai, India]   \n",
       "aaron-angell                                                n/a   \n",
       "\n",
       "              gallery_count  name_last       fame_cat  \n",
       "a-m-rousseau            NaN  mrousseau  non-strategic  \n",
       "a_l__steiner            NaN        NaN            NaN  \n",
       "aa_bronson              2.0        NaN            NaN  \n",
       "aaditi_joshi            1.0        NaN            NaN  \n",
       "aaron-angell            NaN     angell  up-and-coming  "
      ]
     },
     "execution_count": 18,
     "metadata": {},
     "output_type": "execute_result"
    }
   ],
   "source": [
    "df_artists.head()"
   ]
  },
  {
   "cell_type": "code",
   "execution_count": 19,
   "metadata": {},
   "outputs": [
    {
     "data": {
      "text/plain": [
       "(6389, 15)"
      ]
     },
     "execution_count": 19,
     "metadata": {},
     "output_type": "execute_result"
    }
   ],
   "source": [
    "df_artists.shape"
   ]
  },
  {
   "cell_type": "code",
   "execution_count": 20,
   "metadata": {},
   "outputs": [
    {
     "data": {
      "text/html": [
       "<div>\n",
       "<style scoped>\n",
       "    .dataframe tbody tr th:only-of-type {\n",
       "        vertical-align: middle;\n",
       "    }\n",
       "\n",
       "    .dataframe tbody tr th {\n",
       "        vertical-align: top;\n",
       "    }\n",
       "\n",
       "    .dataframe thead th {\n",
       "        text-align: right;\n",
       "    }\n",
       "</style>\n",
       "<table border=\"1\" class=\"dataframe\">\n",
       "  <thead>\n",
       "    <tr style=\"text-align: right;\">\n",
       "      <th></th>\n",
       "      <th>artist_death</th>\n",
       "    </tr>\n",
       "    <tr>\n",
       "      <th>artist_name</th>\n",
       "      <th></th>\n",
       "    </tr>\n",
       "  </thead>\n",
       "  <tbody>\n",
       "    <tr>\n",
       "      <th>Aaron Curry</th>\n",
       "      <td>2100</td>\n",
       "    </tr>\n",
       "    <tr>\n",
       "      <th>Aaron Garber-Maikovska</th>\n",
       "      <td>2100</td>\n",
       "    </tr>\n",
       "    <tr>\n",
       "      <th>Abigail Varela</th>\n",
       "      <td>2100</td>\n",
       "    </tr>\n",
       "    <tr>\n",
       "      <th>Abraham Palatnik</th>\n",
       "      <td>2100</td>\n",
       "    </tr>\n",
       "    <tr>\n",
       "      <th>Abraham Walkowitz</th>\n",
       "      <td>1965</td>\n",
       "    </tr>\n",
       "  </tbody>\n",
       "</table>\n",
       "</div>"
      ],
      "text/plain": [
       "                        artist_death\n",
       "artist_name                         \n",
       "Aaron Curry                     2100\n",
       "Aaron Garber-Maikovska          2100\n",
       "Abigail Varela                  2100\n",
       "Abraham Palatnik                2100\n",
       "Abraham Walkowitz               1965"
      ]
     },
     "execution_count": 20,
     "metadata": {},
     "output_type": "execute_result"
    }
   ],
   "source": [
    "df_christies.head()"
   ]
  },
  {
   "cell_type": "code",
   "execution_count": 21,
   "metadata": {},
   "outputs": [
    {
     "data": {
      "text/plain": [
       "(1142, 1)"
      ]
     },
     "execution_count": 21,
     "metadata": {},
     "output_type": "execute_result"
    }
   ],
   "source": [
    "df_christies.shape"
   ]
  },
  {
   "cell_type": "code",
   "execution_count": 22,
   "metadata": {},
   "outputs": [],
   "source": [
    "df_artists = df_artists.merge(df_christies, how='left', left_on='name_pretty', right_index=True)"
   ]
  },
  {
   "cell_type": "code",
   "execution_count": 23,
   "metadata": {},
   "outputs": [
    {
     "data": {
      "text/plain": [
       "(6389, 16)"
      ]
     },
     "execution_count": 23,
     "metadata": {},
     "output_type": "execute_result"
    }
   ],
   "source": [
    "df_artists.shape"
   ]
  },
  {
   "cell_type": "code",
   "execution_count": 25,
   "metadata": {},
   "outputs": [
    {
     "data": {
      "text/plain": [
       "count     415.000000\n",
       "mean     2070.968675\n",
       "std        49.092061\n",
       "min      1910.000000\n",
       "25%      2014.500000\n",
       "50%      2100.000000\n",
       "75%      2100.000000\n",
       "max      2100.000000\n",
       "Name: artist_death, dtype: float64"
      ]
     },
     "execution_count": 25,
     "metadata": {},
     "output_type": "execute_result"
    }
   ],
   "source": [
    "df_artists['artist_death'].describe()"
   ]
  },
  {
   "cell_type": "code",
   "execution_count": 26,
   "metadata": {},
   "outputs": [],
   "source": [
    "df_artists['dead'] = df_artists['artist_death']"
   ]
  },
  {
   "cell_type": "code",
   "execution_count": 27,
   "metadata": {},
   "outputs": [
    {
     "data": {
      "text/plain": [
       "count    6389.000000\n",
       "mean        0.017530\n",
       "std         0.131246\n",
       "min         0.000000\n",
       "25%         0.000000\n",
       "50%         0.000000\n",
       "75%         0.000000\n",
       "max         1.000000\n",
       "Name: dead, dtype: float64"
      ]
     },
     "execution_count": 27,
     "metadata": {},
     "output_type": "execute_result"
    }
   ],
   "source": [
    "df_artists.loc[df_artists['dead'].isna(), 'dead'] = 0\n",
    "df_artists.loc[df_artists['dead'] == 2100, 'dead'] = 0\n",
    "df_artists.loc[(df_artists['dead'] >= 1700) & (df_artists['dead'] <= 2018), 'dead'] = 1\n",
    "df_artists['dead'].describe()"
   ]
  },
  {
   "cell_type": "markdown",
   "metadata": {},
   "source": [
    "##### Degrees"
   ]
  },
  {
   "cell_type": "code",
   "execution_count": 31,
   "metadata": {},
   "outputs": [],
   "source": [
    "df_artists.rename(index=str, columns={\"degree_count\": \"degrees_n\"}, inplace=True)"
   ]
  },
  {
   "cell_type": "code",
   "execution_count": 32,
   "metadata": {},
   "outputs": [],
   "source": [
    "df_artists['degrees_cat'] = df_artists['degrees_n']\n",
    "df_artists.loc[df_artists['degrees_cat'] >= 3, 'degrees_cat'] = 3"
   ]
  },
  {
   "cell_type": "markdown",
   "metadata": {},
   "source": [
    "##### Galleries"
   ]
  },
  {
   "cell_type": "code",
   "execution_count": 33,
   "metadata": {},
   "outputs": [],
   "source": [
    "df_artists.rename(index=str, columns={\"gallery_count\": \"galleries_n\"}, inplace=True)"
   ]
  },
  {
   "cell_type": "code",
   "execution_count": 34,
   "metadata": {},
   "outputs": [],
   "source": [
    "# Make the assumption that if none were listed, there are none.\n",
    "df_artists.loc[df_artists['galleries_n'].isna(), 'galleries_n'] = 0"
   ]
  },
  {
   "cell_type": "code",
   "execution_count": 35,
   "metadata": {},
   "outputs": [],
   "source": [
    "df_artists['galleries_cat'] = df_artists['galleries_n']\n",
    "df_artists.loc[df_artists['galleries_cat'] >= 3, 'galleries_cat'] = 3"
   ]
  },
  {
   "cell_type": "markdown",
   "metadata": {},
   "source": [
    "##### Permanent collections (renamed Museums)"
   ]
  },
  {
   "cell_type": "code",
   "execution_count": 36,
   "metadata": {},
   "outputs": [],
   "source": [
    "df_artists.rename(index=str, columns={\"permanent_collections\": \"museums\", \"permanent_collection_count\": \"museums_n\"}, inplace=True)"
   ]
  },
  {
   "cell_type": "code",
   "execution_count": 38,
   "metadata": {},
   "outputs": [],
   "source": [
    "# Make the assumption that if none were listed, there are none.\n",
    "df_artists.loc[df_artists['museums_n'].isna(), 'museums_n'] = 0"
   ]
  },
  {
   "cell_type": "code",
   "execution_count": 39,
   "metadata": {},
   "outputs": [],
   "source": [
    "df_artists['museums_cat'] = None\n",
    "df_artists.loc[df_artists['museums_n'] == 0, 'museums_cat'] = 0\n",
    "df_artists.loc[df_artists['museums_n'] == 1, 'museums_cat'] = 1\n",
    "df_artists.loc[(df_artists['museums_n'] >= 2) & (df_artists['museums_n'] <= 5), 'museums_cat'] = 2\n",
    "df_artists.loc[(df_artists['museums_n'] >= 6) & (df_artists['museums_n'] <= 10), 'museums_cat'] = 3\n",
    "df_artists.loc[df_artists['museums_n'] >= 11, 'museums_cat'] = 4"
   ]
  },
  {
   "cell_type": "code",
   "execution_count": 40,
   "metadata": {},
   "outputs": [
    {
     "name": "stderr",
     "output_type": "stream",
     "text": [
      "/Users/LBF/anaconda3/lib/python3.6/site-packages/ipykernel_launcher.py:1: RuntimeWarning: divide by zero encountered in log\n",
      "  \"\"\"Entry point for launching an IPython kernel.\n"
     ]
    }
   ],
   "source": [
    "df_artists['log_museums_n'] = np.log(df_artists['museums_n'])"
   ]
  },
  {
   "cell_type": "code",
   "execution_count": 41,
   "metadata": {},
   "outputs": [],
   "source": [
    "# Pickle the artists data.\n",
    "pickle.dump(df_artists, open('df_artists.pickle', 'wb'))\n",
    "# Also write out a CSV.\n",
    "df_artists.to_csv('df_artists.csv')"
   ]
  },
  {
   "cell_type": "markdown",
   "metadata": {},
   "source": [
    "#### <a id=\"s3b\"></a>Artwork data"
   ]
  },
  {
   "cell_type": "code",
   "execution_count": 2,
   "metadata": {
    "ExecuteTime": {
     "end_time": "2019-03-08T18:47:01.839775Z",
     "start_time": "2019-03-08T18:47:01.546038Z"
    }
   },
   "outputs": [],
   "source": [
    "# Reload artwork data from pickle file.\n",
    "artworks = pickle.load(open('artworks.pickle', 'rb'))"
   ]
  },
  {
   "cell_type": "code",
   "execution_count": 4,
   "metadata": {
    "ExecuteTime": {
     "end_time": "2019-03-08T18:47:59.757714Z",
     "start_time": "2019-03-08T18:47:59.746832Z"
    }
   },
   "outputs": [],
   "source": [
    "# New code to move the artwork ID into the main dictionary where it belonged to begin with.\n",
    "# Thanks, Vaughn!\n",
    "artworkslist = []\n",
    "for key, val in artworks.items():\n",
    "    #print('Key:', key)\n",
    "    #print('Value:', val)\n",
    "    newdict = val\n",
    "    newdict['artwork_id'] = key\n",
    "    artworkslist.append(newdict)"
   ]
  },
  {
   "cell_type": "code",
   "execution_count": 6,
   "metadata": {
    "ExecuteTime": {
     "end_time": "2019-03-08T18:49:18.467765Z",
     "start_time": "2019-03-08T18:49:18.329407Z"
    }
   },
   "outputs": [],
   "source": [
    "# Load artworks into a dataframe.\n",
    "df_artworks = pd.DataFrame(artworkslist)\n",
    "df_artworks.rename(index=str, columns={'year': 'year_created'}, inplace=True)\n",
    "# df_artworks.head()"
   ]
  },
  {
   "cell_type": "code",
   "execution_count": 44,
   "metadata": {},
   "outputs": [],
   "source": [
    "# Load artworks into a dataframe.\n",
    "df_artworks = pd.DataFrame.from_dict(artworks, orient='index')\n",
    "df_artworks.rename(index=str, columns={'year': 'year_created'}, inplace=True)\n",
    "# df_artworks.head()"
   ]
  },
  {
   "cell_type": "code",
   "execution_count": 7,
   "metadata": {
    "ExecuteTime": {
     "end_time": "2019-03-08T18:49:22.733365Z",
     "start_time": "2019-03-08T18:49:22.727397Z"
    }
   },
   "outputs": [
    {
     "data": {
      "text/plain": [
       "(22110, 17)"
      ]
     },
     "execution_count": 7,
     "metadata": {},
     "output_type": "execute_result"
    }
   ],
   "source": [
    "df_artworks.shape"
   ]
  },
  {
   "cell_type": "code",
   "execution_count": 8,
   "metadata": {
    "ExecuteTime": {
     "end_time": "2019-03-08T18:49:43.889001Z",
     "start_time": "2019-03-08T18:49:43.884044Z"
    }
   },
   "outputs": [
    {
     "data": {
      "text/plain": [
       "Index(['artist', 'artwork_id', 'artwork_url', 'authentication', 'edition_size',\n",
       "       'fame_cat', 'height', 'image_url', 'location', 'medium',\n",
       "       'physical_description', 'price', 'styles', 'tags', 'title', 'width',\n",
       "       'year_created'],\n",
       "      dtype='object')"
      ]
     },
     "execution_count": 8,
     "metadata": {},
     "output_type": "execute_result"
    }
   ],
   "source": [
    "df_artworks.columns"
   ]
  },
  {
   "cell_type": "markdown",
   "metadata": {},
   "source": [
    "##### Fix the URLs that I mucked up on import"
   ]
  },
  {
   "cell_type": "code",
   "execution_count": 9,
   "metadata": {
    "ExecuteTime": {
     "end_time": "2019-03-08T18:53:18.745938Z",
     "start_time": "2019-03-08T18:53:18.739000Z"
    }
   },
   "outputs": [
    {
     "data": {
      "text/plain": [
       "0    http://www.artspace.comhttps:/www.artspace.com...\n",
       "1    http://www.artspace.comhttps:/www.artspace.com...\n",
       "2    http://www.artspace.comhttps:/www.artspace.com...\n",
       "3    http://www.artspace.comhttps:/www.artspace.com...\n",
       "4    http://www.artspace.comhttps:/www.artspace.com...\n",
       "Name: artwork_url, dtype: object"
      ]
     },
     "execution_count": 9,
     "metadata": {},
     "output_type": "execute_result"
    }
   ],
   "source": [
    "df_artworks['artwork_url'].head()"
   ]
  },
  {
   "cell_type": "code",
   "execution_count": 10,
   "metadata": {
    "ExecuteTime": {
     "end_time": "2019-03-08T18:53:23.339522Z",
     "start_time": "2019-03-08T18:53:23.285344Z"
    }
   },
   "outputs": [],
   "source": [
    "df_artworks['artwork_url'] = df_artworks['artwork_url'].str.replace('http://www.artspace.comhttps:/w', 'https://w', regex=True)\n",
    "df_artworks['artwork_url'] = df_artworks['artwork_url'].str.strip()"
   ]
  },
  {
   "cell_type": "code",
   "execution_count": 11,
   "metadata": {
    "ExecuteTime": {
     "end_time": "2019-03-08T18:53:26.183196Z",
     "start_time": "2019-03-08T18:53:26.177186Z"
    }
   },
   "outputs": [
    {
     "data": {
      "text/plain": [
       "0    https://www.artspace.com/lola-soloveychik/the-...\n",
       "1    https://www.artspace.com/lola-soloveychik/cali...\n",
       "2    https://www.artspace.com/mimmo_paladino/horse-...\n",
       "3    https://www.artspace.com/mimmo_paladino/gli-an...\n",
       "4    https://www.artspace.com/mimmo_paladino/il-sog...\n",
       "Name: artwork_url, dtype: object"
      ]
     },
     "execution_count": 11,
     "metadata": {},
     "output_type": "execute_result"
    }
   ],
   "source": [
    "df_artworks['artwork_url'].head()"
   ]
  },
  {
   "cell_type": "code",
   "execution_count": 12,
   "metadata": {
    "ExecuteTime": {
     "end_time": "2019-03-08T18:53:27.605997Z",
     "start_time": "2019-03-08T18:53:27.571156Z"
    }
   },
   "outputs": [],
   "source": [
    "df_artworks['image_url'] = df_artworks['image_url'].replace('http://', '//', regex=True)\n",
    "df_artworks['image_url'] = 'https:' + df_artworks['image_url'].astype(str)"
   ]
  },
  {
   "cell_type": "code",
   "execution_count": 13,
   "metadata": {
    "ExecuteTime": {
     "end_time": "2019-03-08T18:53:28.409861Z",
     "start_time": "2019-03-08T18:53:28.404122Z"
    }
   },
   "outputs": [
    {
     "data": {
      "text/plain": [
       "0    https://d5wt70d4gnm1t.cloudfront.net/media/a-s...\n",
       "1    https://d5wt70d4gnm1t.cloudfront.net/media/a-s...\n",
       "2    https://d5wt70d4gnm1t.cloudfront.net/media/a-s...\n",
       "3    https://d5wt70d4gnm1t.cloudfront.net/media/a-s...\n",
       "4    https://d5wt70d4gnm1t.cloudfront.net/media/a-s...\n",
       "Name: image_url, dtype: object"
      ]
     },
     "execution_count": 13,
     "metadata": {},
     "output_type": "execute_result"
    }
   ],
   "source": [
    "df_artworks['image_url'].head()"
   ]
  },
  {
   "cell_type": "markdown",
   "metadata": {},
   "source": [
    "##### Medium"
   ]
  },
  {
   "cell_type": "code",
   "execution_count": 14,
   "metadata": {
    "ExecuteTime": {
     "end_time": "2019-03-08T18:53:29.316935Z",
     "start_time": "2019-03-08T18:53:29.313166Z"
    }
   },
   "outputs": [],
   "source": [
    "# df_artworks['medium'].value_counts()"
   ]
  },
  {
   "cell_type": "code",
   "execution_count": 15,
   "metadata": {
    "ExecuteTime": {
     "end_time": "2019-03-08T18:53:29.692170Z",
     "start_time": "2019-03-08T18:53:29.663363Z"
    }
   },
   "outputs": [],
   "source": [
    "df_artworks.loc[df_artworks['medium'] == '', 'medium'] = \"no-medium\""
   ]
  },
  {
   "cell_type": "code",
   "execution_count": 16,
   "metadata": {
    "ExecuteTime": {
     "end_time": "2019-03-08T18:53:29.987570Z",
     "start_time": "2019-03-08T18:53:29.925598Z"
    }
   },
   "outputs": [],
   "source": [
    "df_artworks['medium'] = df_artworks['medium'].str.lower()\n",
    "df_artworks['medium'] = df_artworks['medium'].str.replace(' ', '-', regex=True)\n",
    "df_artworks['medium'] = df_artworks['medium'].str.replace('design-and-', '', regex=True)"
   ]
  },
  {
   "cell_type": "code",
   "execution_count": 17,
   "metadata": {
    "ExecuteTime": {
     "end_time": "2019-03-08T18:53:30.231186Z",
     "start_time": "2019-03-08T18:53:30.228133Z"
    }
   },
   "outputs": [],
   "source": [
    "# df_artworks['medium'].value_counts()"
   ]
  },
  {
   "cell_type": "code",
   "execution_count": 18,
   "metadata": {
    "ExecuteTime": {
     "end_time": "2019-03-08T18:53:30.545414Z",
     "start_time": "2019-03-08T18:53:30.516937Z"
    }
   },
   "outputs": [
    {
     "data": {
      "text/html": [
       "<div>\n",
       "<style scoped>\n",
       "    .dataframe tbody tr th:only-of-type {\n",
       "        vertical-align: middle;\n",
       "    }\n",
       "\n",
       "    .dataframe tbody tr th {\n",
       "        vertical-align: top;\n",
       "    }\n",
       "\n",
       "    .dataframe thead th {\n",
       "        text-align: right;\n",
       "    }\n",
       "</style>\n",
       "<table border=\"1\" class=\"dataframe\">\n",
       "  <thead>\n",
       "    <tr style=\"text-align: right;\">\n",
       "      <th></th>\n",
       "      <th>book</th>\n",
       "      <th>decorative-arts</th>\n",
       "      <th>mixed-media</th>\n",
       "      <th>new-media</th>\n",
       "      <th>no-medium</th>\n",
       "      <th>painting</th>\n",
       "      <th>photograph</th>\n",
       "      <th>print</th>\n",
       "      <th>sculpture</th>\n",
       "      <th>work-on-paper</th>\n",
       "    </tr>\n",
       "  </thead>\n",
       "  <tbody>\n",
       "    <tr>\n",
       "      <th>0</th>\n",
       "      <td>0</td>\n",
       "      <td>0</td>\n",
       "      <td>0</td>\n",
       "      <td>0</td>\n",
       "      <td>0</td>\n",
       "      <td>0</td>\n",
       "      <td>1</td>\n",
       "      <td>0</td>\n",
       "      <td>0</td>\n",
       "      <td>0</td>\n",
       "    </tr>\n",
       "    <tr>\n",
       "      <th>1</th>\n",
       "      <td>0</td>\n",
       "      <td>0</td>\n",
       "      <td>0</td>\n",
       "      <td>0</td>\n",
       "      <td>0</td>\n",
       "      <td>0</td>\n",
       "      <td>1</td>\n",
       "      <td>0</td>\n",
       "      <td>0</td>\n",
       "      <td>0</td>\n",
       "    </tr>\n",
       "    <tr>\n",
       "      <th>2</th>\n",
       "      <td>0</td>\n",
       "      <td>0</td>\n",
       "      <td>0</td>\n",
       "      <td>0</td>\n",
       "      <td>0</td>\n",
       "      <td>0</td>\n",
       "      <td>0</td>\n",
       "      <td>1</td>\n",
       "      <td>0</td>\n",
       "      <td>0</td>\n",
       "    </tr>\n",
       "    <tr>\n",
       "      <th>3</th>\n",
       "      <td>0</td>\n",
       "      <td>0</td>\n",
       "      <td>0</td>\n",
       "      <td>0</td>\n",
       "      <td>0</td>\n",
       "      <td>0</td>\n",
       "      <td>0</td>\n",
       "      <td>1</td>\n",
       "      <td>0</td>\n",
       "      <td>0</td>\n",
       "    </tr>\n",
       "    <tr>\n",
       "      <th>4</th>\n",
       "      <td>0</td>\n",
       "      <td>0</td>\n",
       "      <td>0</td>\n",
       "      <td>0</td>\n",
       "      <td>0</td>\n",
       "      <td>0</td>\n",
       "      <td>0</td>\n",
       "      <td>1</td>\n",
       "      <td>0</td>\n",
       "      <td>0</td>\n",
       "    </tr>\n",
       "  </tbody>\n",
       "</table>\n",
       "</div>"
      ],
      "text/plain": [
       "   book  decorative-arts  mixed-media  new-media  no-medium  painting  \\\n",
       "0     0                0            0          0          0         0   \n",
       "1     0                0            0          0          0         0   \n",
       "2     0                0            0          0          0         0   \n",
       "3     0                0            0          0          0         0   \n",
       "4     0                0            0          0          0         0   \n",
       "\n",
       "   photograph  print  sculpture  work-on-paper  \n",
       "0           1      0          0              0  \n",
       "1           1      0          0              0  \n",
       "2           0      1          0              0  \n",
       "3           0      1          0              0  \n",
       "4           0      1          0              0  "
      ]
     },
     "execution_count": 18,
     "metadata": {},
     "output_type": "execute_result"
    }
   ],
   "source": [
    "medium_dummies = pd.get_dummies(df_artworks['medium'])\n",
    "medium_dummies.head()"
   ]
  },
  {
   "cell_type": "code",
   "execution_count": 19,
   "metadata": {
    "ExecuteTime": {
     "end_time": "2019-03-08T18:53:30.886591Z",
     "start_time": "2019-03-08T18:53:30.860113Z"
    }
   },
   "outputs": [],
   "source": [
    "df_artworks = df_artworks.merge(medium_dummies, left_index=True, right_index=True)"
   ]
  },
  {
   "cell_type": "code",
   "execution_count": 20,
   "metadata": {
    "ExecuteTime": {
     "end_time": "2019-03-08T18:53:31.262771Z",
     "start_time": "2019-03-08T18:53:31.255369Z"
    }
   },
   "outputs": [],
   "source": [
    "# df_artworks['medium_cat'] = df_artworks['medium'].astype('category')"
   ]
  },
  {
   "cell_type": "code",
   "execution_count": 21,
   "metadata": {
    "ExecuteTime": {
     "end_time": "2019-03-08T18:53:31.645028Z",
     "start_time": "2019-03-08T18:53:31.629222Z"
    }
   },
   "outputs": [
    {
     "data": {
      "text/plain": [
       "Index(['artist', 'artwork_id', 'artwork_url', 'authentication', 'edition_size',\n",
       "       'fame_cat', 'height', 'image_url', 'location', 'medium',\n",
       "       'physical_description', 'price', 'styles', 'tags', 'title', 'width',\n",
       "       'year_created', 'book', 'decorative-arts', 'mixed-media', 'new-media',\n",
       "       'no-medium', 'painting', 'photograph', 'print', 'sculpture',\n",
       "       'work-on-paper'],\n",
       "      dtype='object')"
      ]
     },
     "execution_count": 21,
     "metadata": {},
     "output_type": "execute_result"
    }
   ],
   "source": [
    "df_artworks.columns"
   ]
  },
  {
   "cell_type": "markdown",
   "metadata": {},
   "source": [
    "##### Edition size"
   ]
  },
  {
   "cell_type": "code",
   "execution_count": 22,
   "metadata": {
    "ExecuteTime": {
     "end_time": "2019-03-08T18:53:32.599778Z",
     "start_time": "2019-03-08T18:53:32.533646Z"
    }
   },
   "outputs": [],
   "source": [
    "df_artworks['edition_size'] = df_artworks['edition_size'].str.replace('Edition of ', '', regex=True)\n",
    "df_artworks['edition_size'] = df_artworks['edition_size'].str.replace('Unique Work', '1', regex=True)\n",
    "df_artworks['edition_size'] = df_artworks['edition_size'].replace('', '-1')\n",
    "df_artworks.loc[df_artworks['edition_size'].isna(), 'edition_size'] = -2"
   ]
  },
  {
   "cell_type": "code",
   "execution_count": 23,
   "metadata": {
    "ExecuteTime": {
     "end_time": "2019-03-08T18:53:33.370754Z",
     "start_time": "2019-03-08T18:53:33.344641Z"
    }
   },
   "outputs": [],
   "source": [
    "df_artworks['edition_size'] = pd.to_numeric(df_artworks['edition_size'])"
   ]
  },
  {
   "cell_type": "code",
   "execution_count": 24,
   "metadata": {
    "ExecuteTime": {
     "end_time": "2019-03-08T18:53:33.612208Z",
     "start_time": "2019-03-08T18:53:33.599478Z"
    }
   },
   "outputs": [],
   "source": [
    "df_artworks.loc[df_artworks['edition_size'] < 0, 'edition_size'] = None"
   ]
  },
  {
   "cell_type": "code",
   "execution_count": 25,
   "metadata": {
    "ExecuteTime": {
     "end_time": "2019-03-08T18:53:34.016632Z",
     "start_time": "2019-03-08T18:53:33.970908Z"
    }
   },
   "outputs": [
    {
     "data": {
      "text/plain": [
       "medium           edition_size\n",
       "book             NaN              103\n",
       "                 100.0              3\n",
       "                 200.0              3\n",
       "                 50.0               2\n",
       "                 1.0                1\n",
       "                 40.0               1\n",
       "                 150.0              1\n",
       "                 235.0              1\n",
       "                 250.0              1\n",
       "                 300.0              1\n",
       "                 335.0              1\n",
       "                 400.0              1\n",
       "                 440.0              1\n",
       "                 500.0              1\n",
       "                 750.0              1\n",
       "                 1000.0             1\n",
       "decorative-arts  NaN              674\n",
       "                 1.0               68\n",
       "                 100.0             54\n",
       "                 50.0              42\n",
       "                 10.0              29\n",
       "                 500.0             22\n",
       "                 200.0             18\n",
       "                 12.0              17\n",
       "                 250.0             16\n",
       "                 25.0              12\n",
       "                 30.0              12\n",
       "                 300.0              9\n",
       "                 400.0              9\n",
       "                 75.0               7\n",
       "                                 ... \n",
       "sculpture        2500.0             1\n",
       "                 4093.0             1\n",
       "                 5000.0             1\n",
       "work-on-paper    1.0             2076\n",
       "                 NaN              290\n",
       "                 20.0              30\n",
       "                 3.0               16\n",
       "                 25.0              16\n",
       "                 5.0               15\n",
       "                 10.0              12\n",
       "                 30.0               8\n",
       "                 2.0                7\n",
       "                 35.0               5\n",
       "                 40.0               5\n",
       "                 7.0                3\n",
       "                 15.0               3\n",
       "                 50.0               3\n",
       "                 100.0              3\n",
       "                 4.0                1\n",
       "                 12.0               1\n",
       "                 24.0               1\n",
       "                 45.0               1\n",
       "                 55.0               1\n",
       "                 60.0               1\n",
       "                 65.0               1\n",
       "                 80.0               1\n",
       "                 140.0              1\n",
       "                 150.0              1\n",
       "                 230.0              1\n",
       "                 1000.0             1\n",
       "Name: edition_size, Length: 491, dtype: int64"
      ]
     },
     "execution_count": 25,
     "metadata": {},
     "output_type": "execute_result"
    }
   ],
   "source": [
    "# Try to assign some edition sizes if they are null.\n",
    "# Look by medium.\n",
    "df_artworks['edition_size'].groupby(df_artworks['medium']).value_counts(dropna=False)"
   ]
  },
  {
   "cell_type": "code",
   "execution_count": 26,
   "metadata": {
    "ExecuteTime": {
     "end_time": "2019-03-08T18:53:34.599997Z",
     "start_time": "2019-03-08T18:53:34.583645Z"
    }
   },
   "outputs": [],
   "source": [
    "# Virtually all paintings have an edition size of 1.\n",
    "# So set those paintings that have no edition size to 1.\n",
    "df_artworks.loc[(df_artworks['edition_size'].isna()) & (df_artworks['medium'] == 'Painting'), 'edition_size'] = 1"
   ]
  },
  {
   "cell_type": "code",
   "execution_count": 27,
   "metadata": {
    "ExecuteTime": {
     "end_time": "2019-03-08T18:53:35.198581Z",
     "start_time": "2019-03-08T18:53:35.184410Z"
    }
   },
   "outputs": [
    {
     "data": {
      "text/plain": [
       "Series([], Name: edition_size, dtype: int64)"
      ]
     },
     "execution_count": 27,
     "metadata": {},
     "output_type": "execute_result"
    }
   ],
   "source": [
    "df_artworks['edition_size'][df_artworks['medium'] == 'Painting'].value_counts()"
   ]
  },
  {
   "cell_type": "code",
   "execution_count": 28,
   "metadata": {
    "ExecuteTime": {
     "end_time": "2019-03-08T18:53:35.967623Z",
     "start_time": "2019-03-08T18:53:35.958159Z"
    }
   },
   "outputs": [],
   "source": [
    "df_artworks['unique'] = (df_artworks['edition_size'] == 1)\n",
    "df_artworks.loc[df_artworks['edition_size'].isna(), 'unique'] = None"
   ]
  },
  {
   "cell_type": "code",
   "execution_count": 29,
   "metadata": {
    "ExecuteTime": {
     "end_time": "2019-03-08T18:53:36.294036Z",
     "start_time": "2019-03-08T18:53:36.285443Z"
    }
   },
   "outputs": [],
   "source": [
    "# df_artworks['unique'].value_counts()"
   ]
  },
  {
   "cell_type": "code",
   "execution_count": 30,
   "metadata": {
    "ExecuteTime": {
     "end_time": "2019-03-08T18:53:36.650117Z",
     "start_time": "2019-03-08T18:53:36.643133Z"
    }
   },
   "outputs": [],
   "source": [
    "df_artworks['edition_size2'] = df_artworks['edition_size']"
   ]
  },
  {
   "cell_type": "code",
   "execution_count": 31,
   "metadata": {
    "ExecuteTime": {
     "end_time": "2019-03-08T18:53:37.095610Z",
     "start_time": "2019-03-08T18:53:37.081284Z"
    }
   },
   "outputs": [],
   "source": [
    "df_artworks.loc[df_artworks['edition_size'] == 1, 'edition_size2'] = None"
   ]
  },
  {
   "cell_type": "code",
   "execution_count": 32,
   "metadata": {
    "ExecuteTime": {
     "end_time": "2019-03-08T18:53:37.663240Z",
     "start_time": "2019-03-08T18:53:37.659022Z"
    }
   },
   "outputs": [],
   "source": [
    "# df_artworks['edition_size2'].value_counts().sort_index()"
   ]
  },
  {
   "cell_type": "code",
   "execution_count": 33,
   "metadata": {
    "ExecuteTime": {
     "end_time": "2019-03-08T18:53:38.039261Z",
     "start_time": "2019-03-08T18:53:38.032658Z"
    }
   },
   "outputs": [],
   "source": [
    "# Create log(edition size) if edition_size > 1.\n",
    "df_artworks['log_edition'] = np.log(df_artworks['edition_size2'])"
   ]
  },
  {
   "cell_type": "code",
   "execution_count": 34,
   "metadata": {
    "ExecuteTime": {
     "end_time": "2019-03-08T18:53:38.490864Z",
     "start_time": "2019-03-08T18:53:38.410371Z"
    }
   },
   "outputs": [],
   "source": [
    "df_artworks['edition_grp'] = None\n",
    "df_artworks.loc[df_artworks['edition_size'] == 1, 'edition_grp'] = 'ed-1'\n",
    "df_artworks.loc[(df_artworks['edition_size'] >= 2) & (df_artworks['edition_size'] <= 10), 'edition_grp'] = 'ed-2-10'\n",
    "df_artworks.loc[(df_artworks['edition_size'] >= 11) & (df_artworks['edition_size'] <= 30), 'edition_grp'] = 'ed-11-30'\n",
    "df_artworks.loc[(df_artworks['edition_size'] >= 31) & (df_artworks['edition_size'] <= 50), 'edition_grp'] = 'ed-31-50'\n",
    "df_artworks.loc[(df_artworks['edition_size'] >= 51) & (df_artworks['edition_size'] <= 100), 'edition_grp'] = 'ed-51-100'\n",
    "df_artworks.loc[df_artworks['edition_size'] >= 101, 'edition_grp'] = 'ed-101-more'\n",
    "\n",
    "# df_artworks['edition_grp'] = pd.to_numeric(df_artworks['edition_grp'])"
   ]
  },
  {
   "cell_type": "code",
   "execution_count": 35,
   "metadata": {
    "ExecuteTime": {
     "end_time": "2019-03-08T18:53:40.156102Z",
     "start_time": "2019-03-08T18:53:40.153407Z"
    }
   },
   "outputs": [],
   "source": [
    "# df_artworks['edition_grp'].describe()"
   ]
  },
  {
   "cell_type": "code",
   "execution_count": 36,
   "metadata": {
    "ExecuteTime": {
     "end_time": "2019-03-08T18:53:42.175014Z",
     "start_time": "2019-03-08T18:53:42.167283Z"
    }
   },
   "outputs": [],
   "source": [
    "edition_dummies = pd.get_dummies(df_artworks['edition_grp'])"
   ]
  },
  {
   "cell_type": "code",
   "execution_count": 37,
   "metadata": {
    "ExecuteTime": {
     "end_time": "2019-03-08T18:53:43.011251Z",
     "start_time": "2019-03-08T18:53:43.008405Z"
    },
    "scrolled": true
   },
   "outputs": [],
   "source": [
    "# edition_dummies.head()"
   ]
  },
  {
   "cell_type": "code",
   "execution_count": 38,
   "metadata": {
    "ExecuteTime": {
     "end_time": "2019-03-08T18:53:44.278981Z",
     "start_time": "2019-03-08T18:53:44.259896Z"
    }
   },
   "outputs": [],
   "source": [
    "df_artworks = df_artworks.merge(edition_dummies, left_index=True, right_index=True)"
   ]
  },
  {
   "cell_type": "markdown",
   "metadata": {},
   "source": [
    "##### Authentication"
   ]
  },
  {
   "cell_type": "code",
   "execution_count": 39,
   "metadata": {
    "ExecuteTime": {
     "end_time": "2019-03-08T18:53:45.645092Z",
     "start_time": "2019-03-08T18:53:45.642499Z"
    }
   },
   "outputs": [],
   "source": [
    "# df_artworks['authentication'].value_counts(dropna=False)"
   ]
  },
  {
   "cell_type": "code",
   "execution_count": 40,
   "metadata": {
    "ExecuteTime": {
     "end_time": "2019-03-08T18:53:46.078486Z",
     "start_time": "2019-03-08T18:53:46.033473Z"
    }
   },
   "outputs": [
    {
     "data": {
      "text/plain": [
       "14214"
      ]
     },
     "execution_count": 40,
     "metadata": {},
     "output_type": "execute_result"
    }
   ],
   "source": [
    "df_artworks['authentication'][df_artworks.authentication.str.contains('signed', case=False, na=False)].count()"
   ]
  },
  {
   "cell_type": "code",
   "execution_count": 41,
   "metadata": {
    "ExecuteTime": {
     "end_time": "2019-03-08T18:53:46.549954Z",
     "start_time": "2019-03-08T18:53:46.540347Z"
    }
   },
   "outputs": [],
   "source": [
    "df_artworks['signed'] = 0"
   ]
  },
  {
   "cell_type": "code",
   "execution_count": 42,
   "metadata": {
    "ExecuteTime": {
     "end_time": "2019-03-08T18:53:47.168971Z",
     "start_time": "2019-03-08T18:53:46.806026Z"
    }
   },
   "outputs": [],
   "source": [
    "df_artworks.loc[df_artworks.authentication.str.contains('signed', case=False, na=False), 'signed'] = 1\n",
    "df_artworks.loc[df_artworks.authentication.str.contains('signature', case=False, na=False), 'signed'] = 1\n",
    "df_artworks.loc[df_artworks.authentication.str.contains('initial', case=False, na=False), 'signed'] = 1\n",
    "\n",
    "df_artworks.loc[df_artworks.authentication.str.contains('unsigned', case=False, na=False), 'signed'] = 0\n",
    "df_artworks.loc[df_artworks.authentication.str.contains('not signed', case=False, na=False), 'signed'] = 0\n",
    "df_artworks.loc[df_artworks.authentication.str.contains('not hand signed', case=False, na=False), 'signed'] = 0\n",
    "df_artworks.loc[df_artworks.authentication.str.contains('no signature', case=False, na=False), 'signed'] = 0\n",
    "df_artworks.loc[df_artworks.authentication.str.contains('no certificate or signature', case=False, na=False), 'signed'] = 0\n",
    "df_artworks.loc[df_artworks.authentication.str.contains('no certificate of authenticity or signature', case=False, na=False), 'signed'] = 0\n",
    "\n",
    "df_artworks.loc[df_artworks['authentication'] == None, 'signed'] = None\n"
   ]
  },
  {
   "cell_type": "code",
   "execution_count": 43,
   "metadata": {
    "ExecuteTime": {
     "end_time": "2019-03-08T18:53:47.260034Z",
     "start_time": "2019-03-08T18:53:47.249584Z"
    }
   },
   "outputs": [],
   "source": [
    "# df_artworks['authentication'].value_counts(dropna=False)"
   ]
  },
  {
   "cell_type": "code",
   "execution_count": 44,
   "metadata": {
    "ExecuteTime": {
     "end_time": "2019-03-08T18:53:47.535056Z",
     "start_time": "2019-03-08T18:53:47.511434Z"
    }
   },
   "outputs": [],
   "source": [
    "df_artworks.loc[df_artworks['authentication'].isna(), 'signed'] = None"
   ]
  },
  {
   "cell_type": "markdown",
   "metadata": {},
   "source": [
    "##### Price"
   ]
  },
  {
   "cell_type": "code",
   "execution_count": 45,
   "metadata": {
    "ExecuteTime": {
     "end_time": "2019-03-08T18:53:48.446260Z",
     "start_time": "2019-03-08T18:53:48.378354Z"
    }
   },
   "outputs": [],
   "source": [
    "df_artworks['price'] = df_artworks['price'].str.replace('$', '', regex=True)\n",
    "df_artworks['price'] = df_artworks['price'].str.replace(',', '', regex=True)\n",
    "\n",
    "# Convert \"Sold\" to -1\n",
    "df_artworks.loc[df_artworks.price.str[:5] == '<span', 'price'] = -1\n",
    "# Convert \"Inquire for price\" to -2\n",
    "df_artworks.loc[df_artworks.price.str[:7] == '<a href', 'price'] = -2\n",
    "# Convert variable to numeric\n",
    "df_artworks['price'] = pd.to_numeric(df_artworks['price'])"
   ]
  },
  {
   "cell_type": "code",
   "execution_count": 46,
   "metadata": {
    "ExecuteTime": {
     "end_time": "2019-03-08T18:53:49.141364Z",
     "start_time": "2019-03-08T18:53:49.115690Z"
    }
   },
   "outputs": [],
   "source": [
    "# For now, drop \"Sold\" and \"Inquire\" rows\n",
    "df_artworks = df_artworks.drop(df_artworks[df_artworks['price'] <= 0].index)"
   ]
  },
  {
   "cell_type": "code",
   "execution_count": 47,
   "metadata": {
    "ExecuteTime": {
     "end_time": "2019-03-08T18:53:49.467237Z",
     "start_time": "2019-03-08T18:53:49.455709Z"
    }
   },
   "outputs": [],
   "source": [
    "# Create log(price).\n",
    "df_artworks['log_price'] = np.log(df_artworks['price'])"
   ]
  },
  {
   "cell_type": "markdown",
   "metadata": {},
   "source": [
    "##### Size (area)"
   ]
  },
  {
   "cell_type": "code",
   "execution_count": 48,
   "metadata": {
    "ExecuteTime": {
     "end_time": "2019-03-08T18:53:49.998665Z",
     "start_time": "2019-03-08T18:53:49.980837Z"
    }
   },
   "outputs": [],
   "source": [
    "df_artworks['height'] = pd.to_numeric(df_artworks['height'])"
   ]
  },
  {
   "cell_type": "code",
   "execution_count": 49,
   "metadata": {
    "ExecuteTime": {
     "end_time": "2019-03-08T18:53:50.329687Z",
     "start_time": "2019-03-08T18:53:50.267901Z"
    }
   },
   "outputs": [],
   "source": [
    "# Fix a couple errors\n",
    "df_artworks.loc[42678, 'height'] = 34.25\n",
    "df_artworks.loc[36741, 'height'] = 33"
   ]
  },
  {
   "cell_type": "code",
   "execution_count": 50,
   "metadata": {
    "ExecuteTime": {
     "end_time": "2019-03-08T18:53:51.043660Z",
     "start_time": "2019-03-08T18:53:51.031325Z"
    }
   },
   "outputs": [],
   "source": [
    "df_artworks['width'] = pd.to_numeric(df_artworks['width'])"
   ]
  },
  {
   "cell_type": "code",
   "execution_count": 51,
   "metadata": {
    "ExecuteTime": {
     "end_time": "2019-03-08T18:53:51.291264Z",
     "start_time": "2019-03-08T18:53:51.286227Z"
    }
   },
   "outputs": [],
   "source": [
    "df_artworks['area'] = df_artworks['height'] * df_artworks['width']"
   ]
  },
  {
   "cell_type": "code",
   "execution_count": 52,
   "metadata": {
    "ExecuteTime": {
     "end_time": "2019-03-08T18:53:51.631025Z",
     "start_time": "2019-03-08T18:53:51.624630Z"
    }
   },
   "outputs": [],
   "source": [
    "# Create log(area).\n",
    "df_artworks['log_area'] = np.log(df_artworks['area'])"
   ]
  },
  {
   "cell_type": "markdown",
   "metadata": {},
   "source": [
    "##### Year created"
   ]
  },
  {
   "cell_type": "code",
   "execution_count": 53,
   "metadata": {
    "ExecuteTime": {
     "end_time": "2019-03-08T18:53:53.457491Z",
     "start_time": "2019-03-08T18:53:53.370280Z"
    }
   },
   "outputs": [],
   "source": [
    "# Rule cleanups\n",
    "df_artworks.loc[(df_artworks['year_created'].str.find('/') > 0), 'year_created'] = df_artworks['year_created'][:3]\n",
    "df_artworks.loc[(df_artworks['year_created'].str.find(';') > 0), 'year_created'] = df_artworks['year_created'][:3]\n",
    "df_artworks.loc[df_artworks['year_created'].str.find('-') > 0, 'year_created'] = df_artworks['year_created'][-4:]\n",
    "df_artworks.loc[df_artworks['year_created'].str.find('–') > 0, 'year_created'] = df_artworks['year_created'][-4:]\n",
    "df_artworks.loc[df_artworks['year_created'].str.find('—') > 0, 'year_created'] = df_artworks['year_created'][-4:]\n",
    "df_artworks.loc[df_artworks['year_created'].str[:2] == 'c.', 'year_created'] = df_artworks['year_created'][-4:]\n",
    "# df_artworks.loc[df_artworks['year_created'].str[:3] == 'ca.', 'year_created'] = df_artworks['year_created'][-4:]"
   ]
  },
  {
   "cell_type": "code",
   "execution_count": 54,
   "metadata": {
    "ExecuteTime": {
     "end_time": "2019-03-08T18:53:54.875084Z",
     "start_time": "2019-03-08T18:53:54.564111Z"
    }
   },
   "outputs": [],
   "source": [
    "# Case-by-case cleanups\n",
    "df_artworks.loc[df_artworks['year_created'] == 'ND', 'year_created'] = None\n",
    "df_artworks.loc[df_artworks['year_created'] == 'nd', 'year_created'] = None\n",
    "df_artworks.loc[df_artworks['year_created'] == 'n.d.', 'year_created'] = None\n",
    "df_artworks.loc[df_artworks['year_created'] == 'Dated in plate 1921 and monogramed, published 1977', 'year_created'] = 1921\n",
    "df_artworks.loc[df_artworks['year_created'] == '1954, published 1977', 'year_created'] = 1954\n",
    "df_artworks.loc[df_artworks['year_created'] == '2106', 'year_created'] = 2016\n",
    "df_artworks.loc[df_artworks['year_created'] == '201314', 'year_created'] = 2014\n",
    "df_artworks.loc[df_artworks['year_created'] == '218', 'year_created'] = 2018\n",
    "df_artworks.loc[df_artworks['year_created'] == '40179', 'year_created'] = 2010\n",
    "df_artworks.loc[df_artworks['year_created'] == '20142015', 'year_created'] = 2015\n",
    "df_artworks.loc[df_artworks['year_created'] == '2105', 'year_created'] = 2015\n",
    "df_artworks.loc[df_artworks['year_created'] == '2010; Printed 2013', 'year_created'] = 2010\n",
    "df_artworks.loc[df_artworks['year_created'] == '3000', 'year_created'] = 2018\n",
    "df_artworks.loc[df_artworks['year_created'] == '73', 'year_created'] = 1973\n",
    "df_artworks.loc[df_artworks['year_created'] == '19962003', 'year_created'] = 2003\n",
    "df_artworks.loc[df_artworks['year_created'] == '2005, 2006, and 2011', 'year_created'] = 2011\n",
    "df_artworks.loc[df_artworks['year_created'] == '1960’s', 'year_created'] = 1965\n",
    "df_artworks.loc[df_artworks['year_created'] == 'LP, 2015', 'year_created'] = 2015\n",
    "df_artworks.loc[df_artworks['year_created'] == '964', 'year_created'] = 1964\n",
    "df_artworks.loc[df_artworks['year_created'] == '0', 'year_created'] = None\n",
    "df_artworks.loc[df_artworks['year_created'] == '19891990', 'year_created'] = 1990\n",
    "df_artworks.loc[df_artworks['year_created'] == '207', 'year_created'] = 2017\n",
    "df_artworks.loc[df_artworks['year_created'] == 'January 2010', 'year_created'] = 2010\n",
    "df_artworks.loc[df_artworks['year_created'] == '0000', 'year_created'] = None\n",
    "df_artworks.loc[df_artworks['year_created'] == 'ca. 1960–1963', 'year_created'] = 1963\n",
    "df_artworks.loc[df_artworks['year_created'] == '1981, printed in 2014', 'year_created'] = 1981\n",
    "df_artworks.loc[df_artworks['year_created'] == '1980, Printed 2001', 'year_created'] = 1980\n",
    "df_artworks.loc[df_artworks['year_created'] == 'Produced in 2015', 'year_created'] = 2015\n",
    "df_artworks.loc[df_artworks['year_created'] == '1962, Printed in 1994', 'year_created'] = 1962\n",
    "df_artworks.loc[df_artworks['year_created'] == 'Printed in 2004', 'year_created'] = 2004\n",
    "df_artworks.loc[df_artworks['year_created'] == 'Aug 1973', 'year_created'] = 1973\n",
    "df_artworks.loc[df_artworks['year_created'] == 'Dec 2012', 'year_created'] = 2012\n",
    "df_artworks.loc[df_artworks['year_created'] == 'Sep 1976', 'year_created'] = 1976\n",
    "df_artworks.loc[df_artworks['year_created'] == 'July 1971', 'year_created'] = 1971\n",
    "df_artworks.loc[df_artworks['year_created'] == 'Unknown', 'year_created'] = None\n",
    "df_artworks.loc[df_artworks['year_created'] == 'March 1969', 'year_created'] = 1969\n",
    "df_artworks.loc[df_artworks['year_created'] == 'March 2014', 'year_created'] = 2014\n",
    "df_artworks.loc[df_artworks['year_created'] == '216', 'year_created'] = 2016\n",
    "df_artworks.loc[df_artworks['year_created'] == 'July 1966', 'year_created'] = 1966\n",
    "df_artworks.loc[df_artworks['year_created'] == 'November 2015', 'year_created'] = 2015\n",
    "df_artworks.loc[df_artworks['year_created'] == 'Aug 1982', 'year_created'] = 1982\n",
    "df_artworks.loc[df_artworks['year_created'] == '2915', 'year_created'] = 2015\n",
    "df_artworks.loc[df_artworks['year_created'] == '2500', 'year_created'] = 2018\n",
    "df_artworks.loc[df_artworks['year_created'] == '2107', 'year_created'] = 2017\n",
    "\n",
    "# Weird cases with future years -- may need to modify this code in future years\n",
    "df_artworks.loc[df_artworks['year_created'] == '2020', 'year_created'] = None\n",
    "df_artworks.loc[df_artworks['year_created'] == '2021', 'year_created'] = None\n",
    "df_artworks.loc[df_artworks['year_created'] == '2021', 'year_created'] = None\n",
    "df_artworks.loc[df_artworks['year_created'] == '2022', 'year_created'] = None\n",
    "df_artworks.loc[df_artworks['year_created'] == '2023', 'year_created'] = None\n",
    "df_artworks.loc[df_artworks['year_created'] == '2024', 'year_created'] = None\n",
    "df_artworks.loc[df_artworks['year_created'] == '2025', 'year_created'] = None\n",
    "df_artworks.loc[df_artworks['year_created'] == '2026', 'year_created'] = None\n"
   ]
  },
  {
   "cell_type": "code",
   "execution_count": 55,
   "metadata": {
    "ExecuteTime": {
     "end_time": "2019-03-08T18:53:55.773198Z",
     "start_time": "2019-03-08T18:53:55.770689Z"
    }
   },
   "outputs": [],
   "source": [
    "# df_artworks['year_created'].value_counts()"
   ]
  },
  {
   "cell_type": "code",
   "execution_count": 56,
   "metadata": {
    "ExecuteTime": {
     "end_time": "2019-03-08T18:53:56.501434Z",
     "start_time": "2019-03-08T18:53:56.483678Z"
    },
    "scrolled": true
   },
   "outputs": [],
   "source": [
    "df_artworks['year_created'] = pd.to_numeric(df_artworks['year_created'])\n",
    "# df_artworks['year_created'].describe()"
   ]
  },
  {
   "cell_type": "code",
   "execution_count": 57,
   "metadata": {
    "ExecuteTime": {
     "end_time": "2019-03-08T18:53:57.201558Z",
     "start_time": "2019-03-08T18:53:57.140170Z"
    }
   },
   "outputs": [],
   "source": [
    "df_artworks['created_cat'] = None\n",
    "df_artworks.loc[df_artworks['year_created'] < 1960, 'created_cat'] = 'cr-pre-1960'\n",
    "df_artworks.loc[(df_artworks['year_created'] >= 1960) & (df_artworks['year_created'] <= 1979), 'created_cat'] = 'cr-1960s-70s'\n",
    "df_artworks.loc[(df_artworks['year_created'] >= 1980) & (df_artworks['year_created'] <= 1999), 'created_cat'] = 'cr-1980s-90s'\n",
    "df_artworks.loc[(df_artworks['year_created'] >= 2000) & (df_artworks['year_created'] <= 2009), 'created_cat'] = 'cr-2000s'\n",
    "df_artworks.loc[df_artworks['year_created'] >= 2010, 'created_cat'] = 'cr-2010s'"
   ]
  },
  {
   "cell_type": "code",
   "execution_count": 58,
   "metadata": {
    "ExecuteTime": {
     "end_time": "2019-03-08T18:53:58.221846Z",
     "start_time": "2019-03-08T18:53:58.218880Z"
    }
   },
   "outputs": [],
   "source": [
    "# df_artworks['created_cat'].value_counts().sort_index()"
   ]
  },
  {
   "cell_type": "code",
   "execution_count": 59,
   "metadata": {
    "ExecuteTime": {
     "end_time": "2019-03-08T18:53:59.022064Z",
     "start_time": "2019-03-08T18:53:59.010702Z"
    }
   },
   "outputs": [
    {
     "data": {
      "text/html": [
       "<div>\n",
       "<style scoped>\n",
       "    .dataframe tbody tr th:only-of-type {\n",
       "        vertical-align: middle;\n",
       "    }\n",
       "\n",
       "    .dataframe tbody tr th {\n",
       "        vertical-align: top;\n",
       "    }\n",
       "\n",
       "    .dataframe thead th {\n",
       "        text-align: right;\n",
       "    }\n",
       "</style>\n",
       "<table border=\"1\" class=\"dataframe\">\n",
       "  <thead>\n",
       "    <tr style=\"text-align: right;\">\n",
       "      <th></th>\n",
       "      <th>cr-1960s-70s</th>\n",
       "      <th>cr-1980s-90s</th>\n",
       "      <th>cr-2000s</th>\n",
       "      <th>cr-2010s</th>\n",
       "      <th>cr-pre-1960</th>\n",
       "    </tr>\n",
       "  </thead>\n",
       "  <tbody>\n",
       "    <tr>\n",
       "      <th>0</th>\n",
       "      <td>0</td>\n",
       "      <td>0</td>\n",
       "      <td>0</td>\n",
       "      <td>1</td>\n",
       "      <td>0</td>\n",
       "    </tr>\n",
       "    <tr>\n",
       "      <th>1</th>\n",
       "      <td>0</td>\n",
       "      <td>0</td>\n",
       "      <td>0</td>\n",
       "      <td>1</td>\n",
       "      <td>0</td>\n",
       "    </tr>\n",
       "    <tr>\n",
       "      <th>2</th>\n",
       "      <td>0</td>\n",
       "      <td>0</td>\n",
       "      <td>1</td>\n",
       "      <td>0</td>\n",
       "      <td>0</td>\n",
       "    </tr>\n",
       "    <tr>\n",
       "      <th>3</th>\n",
       "      <td>0</td>\n",
       "      <td>1</td>\n",
       "      <td>0</td>\n",
       "      <td>0</td>\n",
       "      <td>0</td>\n",
       "    </tr>\n",
       "    <tr>\n",
       "      <th>4</th>\n",
       "      <td>0</td>\n",
       "      <td>1</td>\n",
       "      <td>0</td>\n",
       "      <td>0</td>\n",
       "      <td>0</td>\n",
       "    </tr>\n",
       "  </tbody>\n",
       "</table>\n",
       "</div>"
      ],
      "text/plain": [
       "   cr-1960s-70s  cr-1980s-90s  cr-2000s  cr-2010s  cr-pre-1960\n",
       "0             0             0         0         1            0\n",
       "1             0             0         0         1            0\n",
       "2             0             0         1         0            0\n",
       "3             0             1         0         0            0\n",
       "4             0             1         0         0            0"
      ]
     },
     "execution_count": 59,
     "metadata": {},
     "output_type": "execute_result"
    }
   ],
   "source": [
    "created_dummies = pd.get_dummies(df_artworks['created_cat'])\n",
    "created_dummies.head()"
   ]
  },
  {
   "cell_type": "code",
   "execution_count": 60,
   "metadata": {
    "ExecuteTime": {
     "end_time": "2019-03-08T18:54:03.867163Z",
     "start_time": "2019-03-08T18:54:03.846139Z"
    }
   },
   "outputs": [],
   "source": [
    "df_artworks = df_artworks.merge(created_dummies, left_index=True, right_index=True)"
   ]
  },
  {
   "cell_type": "code",
   "execution_count": 61,
   "metadata": {
    "ExecuteTime": {
     "end_time": "2019-03-08T18:54:04.812939Z",
     "start_time": "2019-03-08T18:54:04.807656Z"
    }
   },
   "outputs": [
    {
     "data": {
      "text/plain": [
       "Index(['artist', 'artwork_id', 'artwork_url', 'authentication', 'edition_size',\n",
       "       'fame_cat', 'height', 'image_url', 'location', 'medium',\n",
       "       'physical_description', 'price', 'styles', 'tags', 'title', 'width',\n",
       "       'year_created', 'book', 'decorative-arts', 'mixed-media', 'new-media',\n",
       "       'no-medium', 'painting', 'photograph', 'print', 'sculpture',\n",
       "       'work-on-paper', 'unique', 'edition_size2', 'log_edition',\n",
       "       'edition_grp', 'ed-1', 'ed-101-more', 'ed-11-30', 'ed-2-10', 'ed-31-50',\n",
       "       'ed-51-100', 'signed', 'log_price', 'area', 'log_area', 'created_cat',\n",
       "       'cr-1960s-70s', 'cr-1980s-90s', 'cr-2000s', 'cr-2010s', 'cr-pre-1960'],\n",
       "      dtype='object')"
      ]
     },
     "execution_count": 61,
     "metadata": {},
     "output_type": "execute_result"
    }
   ],
   "source": [
    "df_artworks.columns"
   ]
  },
  {
   "cell_type": "markdown",
   "metadata": {},
   "source": [
    "##### Fame category"
   ]
  },
  {
   "cell_type": "code",
   "execution_count": 62,
   "metadata": {
    "ExecuteTime": {
     "end_time": "2019-03-08T18:54:08.993221Z",
     "start_time": "2019-03-08T18:54:08.990883Z"
    }
   },
   "outputs": [],
   "source": [
    "# df_artworks['fame_cat'].describe()"
   ]
  },
  {
   "cell_type": "code",
   "execution_count": 63,
   "metadata": {
    "ExecuteTime": {
     "end_time": "2019-03-08T18:54:09.332685Z",
     "start_time": "2019-03-08T18:54:09.319850Z"
    }
   },
   "outputs": [],
   "source": [
    "# df_artworks['fame_cat'].value_counts()"
   ]
  },
  {
   "cell_type": "code",
   "execution_count": 64,
   "metadata": {
    "ExecuteTime": {
     "end_time": "2019-03-08T18:54:09.731282Z",
     "start_time": "2019-03-08T18:54:09.670231Z"
    }
   },
   "outputs": [
    {
     "name": "stdout",
     "output_type": "stream",
     "text": [
      "   blue-chip  established  non-strategic  rising-star  up-and-coming\n",
      "0          0            0              1            0              0\n",
      "1          0            0              1            0              0\n",
      "2          0            0              0            0              1\n",
      "3          0            0              0            0              1\n",
      "4          0            0              0            0              1\n"
     ]
    }
   ],
   "source": [
    "df_artworks.loc[df_artworks['fame_cat'] == '', 'fame_cat'] = 'non-strategic'\n",
    "fame_dummies = pd.get_dummies(df_artworks['fame_cat'])\n",
    "print(fame_dummies.head())\n",
    "df_artworks = df_artworks.merge(fame_dummies, left_index=True, right_index=True)"
   ]
  },
  {
   "cell_type": "code",
   "execution_count": 65,
   "metadata": {
    "ExecuteTime": {
     "end_time": "2019-03-08T18:54:10.176376Z",
     "start_time": "2019-03-08T18:54:10.168941Z"
    }
   },
   "outputs": [],
   "source": [
    "# df_artworks['fame_cat'].value_counts()"
   ]
  },
  {
   "cell_type": "code",
   "execution_count": 66,
   "metadata": {
    "ExecuteTime": {
     "end_time": "2019-03-08T18:54:10.828861Z",
     "start_time": "2019-03-08T18:54:10.758374Z"
    }
   },
   "outputs": [],
   "source": [
    "# Convert fame_cat to numeric\n",
    "df_artworks.loc[df_artworks['fame_cat'] == 'non-strategic', 'fame_cat'] = '0'\n",
    "df_artworks.loc[df_artworks['fame_cat'] == 'up-and-coming', 'fame_cat'] = '1'\n",
    "df_artworks.loc[df_artworks['fame_cat'] == 'rising-star', 'fame_cat'] = '2'\n",
    "df_artworks.loc[df_artworks['fame_cat'] == 'established', 'fame_cat'] = '3'\n",
    "df_artworks.loc[df_artworks['fame_cat'] == 'blue-chip', 'fame_cat'] = '4'\n",
    "\n",
    "\n",
    "df_artworks['fame_cat'] = pd.to_numeric(df_artworks['fame_cat'])"
   ]
  },
  {
   "cell_type": "code",
   "execution_count": 67,
   "metadata": {
    "ExecuteTime": {
     "end_time": "2019-03-08T18:54:11.362258Z",
     "start_time": "2019-03-08T18:54:11.358611Z"
    }
   },
   "outputs": [],
   "source": [
    "# df_artworks['fame_cat'].describe()"
   ]
  },
  {
   "cell_type": "code",
   "execution_count": 68,
   "metadata": {
    "ExecuteTime": {
     "end_time": "2019-03-08T18:54:12.267802Z",
     "start_time": "2019-03-08T18:54:12.262819Z"
    }
   },
   "outputs": [
    {
     "data": {
      "text/plain": [
       "Index(['artist', 'artwork_id', 'artwork_url', 'authentication', 'edition_size',\n",
       "       'fame_cat', 'height', 'image_url', 'location', 'medium',\n",
       "       'physical_description', 'price', 'styles', 'tags', 'title', 'width',\n",
       "       'year_created', 'book', 'decorative-arts', 'mixed-media', 'new-media',\n",
       "       'no-medium', 'painting', 'photograph', 'print', 'sculpture',\n",
       "       'work-on-paper', 'unique', 'edition_size2', 'log_edition',\n",
       "       'edition_grp', 'ed-1', 'ed-101-more', 'ed-11-30', 'ed-2-10', 'ed-31-50',\n",
       "       'ed-51-100', 'signed', 'log_price', 'area', 'log_area', 'created_cat',\n",
       "       'cr-1960s-70s', 'cr-1980s-90s', 'cr-2000s', 'cr-2010s', 'cr-pre-1960',\n",
       "       'blue-chip', 'established', 'non-strategic', 'rising-star',\n",
       "       'up-and-coming'],\n",
       "      dtype='object')"
      ]
     },
     "execution_count": 68,
     "metadata": {},
     "output_type": "execute_result"
    }
   ],
   "source": [
    "df_artworks.columns"
   ]
  },
  {
   "cell_type": "code",
   "execution_count": 69,
   "metadata": {
    "ExecuteTime": {
     "end_time": "2019-03-08T18:54:21.273355Z",
     "start_time": "2019-03-08T18:54:21.150477Z"
    }
   },
   "outputs": [],
   "source": [
    "# Pickle the artworks data.\n",
    "pickle.dump(df_artworks, open('df_artworks.pickle', 'wb'))"
   ]
  },
  {
   "cell_type": "markdown",
   "metadata": {},
   "source": [
    "### Step 4: Merge artist and artwork data"
   ]
  },
  {
   "cell_type": "code",
   "execution_count": 70,
   "metadata": {
    "ExecuteTime": {
     "end_time": "2019-03-08T18:54:23.494458Z",
     "start_time": "2019-03-08T18:54:23.350334Z"
    }
   },
   "outputs": [],
   "source": [
    "# Reload artist and artwork data from pickle files.\n",
    "df_artists = pickle.load(open('df_artists.pickle', 'rb'))\n",
    "df_artworks = pickle.load(open('df_artworks.pickle', 'rb'))"
   ]
  },
  {
   "cell_type": "code",
   "execution_count": 71,
   "metadata": {
    "ExecuteTime": {
     "end_time": "2019-03-08T18:54:29.017168Z",
     "start_time": "2019-03-08T18:54:29.011049Z"
    }
   },
   "outputs": [
    {
     "data": {
      "text/plain": [
       "(6389, 21)"
      ]
     },
     "execution_count": 71,
     "metadata": {},
     "output_type": "execute_result"
    }
   ],
   "source": [
    "df_artists.shape"
   ]
  },
  {
   "cell_type": "code",
   "execution_count": 72,
   "metadata": {
    "ExecuteTime": {
     "end_time": "2019-03-08T18:54:31.426218Z",
     "start_time": "2019-03-08T18:54:31.421320Z"
    }
   },
   "outputs": [
    {
     "data": {
      "text/plain": [
       "(15776, 52)"
      ]
     },
     "execution_count": 72,
     "metadata": {},
     "output_type": "execute_result"
    }
   ],
   "source": [
    "df_artworks.shape"
   ]
  },
  {
   "cell_type": "code",
   "execution_count": 73,
   "metadata": {
    "ExecuteTime": {
     "end_time": "2019-03-08T18:54:36.481687Z",
     "start_time": "2019-03-08T18:54:36.474437Z"
    }
   },
   "outputs": [],
   "source": [
    "df_artists.drop(['fame_cat'], axis=1, inplace=True)"
   ]
  },
  {
   "cell_type": "code",
   "execution_count": 74,
   "metadata": {
    "ExecuteTime": {
     "end_time": "2019-03-08T18:54:37.387849Z",
     "start_time": "2019-03-08T18:54:37.382614Z"
    }
   },
   "outputs": [
    {
     "data": {
      "text/plain": [
       "Index(['name_lf', 'id', 'name_pretty', 'birth_year', 'hometown', 'lives_in',\n",
       "       'degrees', 'degrees_n', 'genres', 'museums', 'museums_n', 'galleries',\n",
       "       'galleries_n', 'name_last', 'artist_death', 'dead', 'degrees_cat',\n",
       "       'galleries_cat', 'museums_cat', 'log_museums_n'],\n",
       "      dtype='object')"
      ]
     },
     "execution_count": 74,
     "metadata": {},
     "output_type": "execute_result"
    }
   ],
   "source": [
    "df_artists.columns"
   ]
  },
  {
   "cell_type": "code",
   "execution_count": 75,
   "metadata": {
    "ExecuteTime": {
     "end_time": "2019-03-08T18:54:41.971511Z",
     "start_time": "2019-03-08T18:54:41.896606Z"
    }
   },
   "outputs": [],
   "source": [
    "# Merge the two files.\n",
    "df = df_artworks.merge(df_artists, right_index=True, left_on=['artist'])"
   ]
  },
  {
   "cell_type": "code",
   "execution_count": 76,
   "metadata": {
    "ExecuteTime": {
     "end_time": "2019-03-08T18:54:51.497681Z",
     "start_time": "2019-03-08T18:54:51.464256Z"
    }
   },
   "outputs": [
    {
     "data": {
      "text/html": [
       "<div>\n",
       "<style scoped>\n",
       "    .dataframe tbody tr th:only-of-type {\n",
       "        vertical-align: middle;\n",
       "    }\n",
       "\n",
       "    .dataframe tbody tr th {\n",
       "        vertical-align: top;\n",
       "    }\n",
       "\n",
       "    .dataframe thead th {\n",
       "        text-align: right;\n",
       "    }\n",
       "</style>\n",
       "<table border=\"1\" class=\"dataframe\">\n",
       "  <thead>\n",
       "    <tr style=\"text-align: right;\">\n",
       "      <th></th>\n",
       "      <th>artist</th>\n",
       "      <th>artwork_id</th>\n",
       "      <th>artwork_url</th>\n",
       "      <th>authentication</th>\n",
       "      <th>edition_size</th>\n",
       "      <th>fame_cat</th>\n",
       "      <th>height</th>\n",
       "      <th>image_url</th>\n",
       "      <th>location</th>\n",
       "      <th>medium</th>\n",
       "      <th>...</th>\n",
       "      <th>museums_n</th>\n",
       "      <th>galleries</th>\n",
       "      <th>galleries_n</th>\n",
       "      <th>name_last</th>\n",
       "      <th>artist_death</th>\n",
       "      <th>dead</th>\n",
       "      <th>degrees_cat</th>\n",
       "      <th>galleries_cat</th>\n",
       "      <th>museums_cat</th>\n",
       "      <th>log_museums_n</th>\n",
       "    </tr>\n",
       "  </thead>\n",
       "  <tbody>\n",
       "    <tr>\n",
       "      <th>0</th>\n",
       "      <td>lola-soloveychik</td>\n",
       "      <td>35537.0</td>\n",
       "      <td>https://www.artspace.com/lola-soloveychik/the-...</td>\n",
       "      <td>Signed and numbered by the artist.</td>\n",
       "      <td>10.0</td>\n",
       "      <td>0.0</td>\n",
       "      <td>10.00000</td>\n",
       "      <td>https://d5wt70d4gnm1t.cloudfront.net/media/a-s...</td>\n",
       "      <td></td>\n",
       "      <td>photograph</td>\n",
       "      <td>...</td>\n",
       "      <td>0.0</td>\n",
       "      <td>n/a</td>\n",
       "      <td>0.0</td>\n",
       "      <td>soloveychik</td>\n",
       "      <td>NaN</td>\n",
       "      <td>0.0</td>\n",
       "      <td>2</td>\n",
       "      <td>0.0</td>\n",
       "      <td>0</td>\n",
       "      <td>-inf</td>\n",
       "    </tr>\n",
       "    <tr>\n",
       "      <th>1</th>\n",
       "      <td>lola-soloveychik</td>\n",
       "      <td>35538.0</td>\n",
       "      <td>https://www.artspace.com/lola-soloveychik/cali...</td>\n",
       "      <td>Signed and numbered by the artist.</td>\n",
       "      <td>10.0</td>\n",
       "      <td>0.0</td>\n",
       "      <td>8.00000</td>\n",
       "      <td>https://d5wt70d4gnm1t.cloudfront.net/media/a-s...</td>\n",
       "      <td></td>\n",
       "      <td>photograph</td>\n",
       "      <td>...</td>\n",
       "      <td>0.0</td>\n",
       "      <td>n/a</td>\n",
       "      <td>0.0</td>\n",
       "      <td>soloveychik</td>\n",
       "      <td>NaN</td>\n",
       "      <td>0.0</td>\n",
       "      <td>2</td>\n",
       "      <td>0.0</td>\n",
       "      <td>0</td>\n",
       "      <td>-inf</td>\n",
       "    </tr>\n",
       "    <tr>\n",
       "      <th>2</th>\n",
       "      <td>mimmo_paladino</td>\n",
       "      <td>53265.0</td>\n",
       "      <td>https://www.artspace.com/mimmo_paladino/horse-...</td>\n",
       "      <td>None</td>\n",
       "      <td>NaN</td>\n",
       "      <td>1.0</td>\n",
       "      <td>37.20465</td>\n",
       "      <td>https://d5wt70d4gnm1t.cloudfront.net/media/a-s...</td>\n",
       "      <td>London</td>\n",
       "      <td>print</td>\n",
       "      <td>...</td>\n",
       "      <td>1.0</td>\n",
       "      <td>[Sperone Westwater, New York, NY]</td>\n",
       "      <td>1.0</td>\n",
       "      <td>paladino</td>\n",
       "      <td>NaN</td>\n",
       "      <td>0.0</td>\n",
       "      <td>0</td>\n",
       "      <td>1.0</td>\n",
       "      <td>1</td>\n",
       "      <td>0.0</td>\n",
       "    </tr>\n",
       "    <tr>\n",
       "      <th>3</th>\n",
       "      <td>mimmo_paladino</td>\n",
       "      <td>32803.0</td>\n",
       "      <td>https://www.artspace.com/mimmo_paladino/gli-an...</td>\n",
       "      <td>This work is signed and dated by the artist in...</td>\n",
       "      <td>60.0</td>\n",
       "      <td>1.0</td>\n",
       "      <td>32.00000</td>\n",
       "      <td>https://d5wt70d4gnm1t.cloudfront.net/media/a-s...</td>\n",
       "      <td>United States</td>\n",
       "      <td>print</td>\n",
       "      <td>...</td>\n",
       "      <td>1.0</td>\n",
       "      <td>[Sperone Westwater, New York, NY]</td>\n",
       "      <td>1.0</td>\n",
       "      <td>paladino</td>\n",
       "      <td>NaN</td>\n",
       "      <td>0.0</td>\n",
       "      <td>0</td>\n",
       "      <td>1.0</td>\n",
       "      <td>1</td>\n",
       "      <td>0.0</td>\n",
       "    </tr>\n",
       "    <tr>\n",
       "      <th>4</th>\n",
       "      <td>mimmo_paladino</td>\n",
       "      <td>33077.0</td>\n",
       "      <td>https://www.artspace.com/mimmo_paladino/il-sog...</td>\n",
       "      <td>This work is signed and dated by the artist in...</td>\n",
       "      <td>60.0</td>\n",
       "      <td>1.0</td>\n",
       "      <td>32.00000</td>\n",
       "      <td>https://d5wt70d4gnm1t.cloudfront.net/media/a-s...</td>\n",
       "      <td>United States</td>\n",
       "      <td>print</td>\n",
       "      <td>...</td>\n",
       "      <td>1.0</td>\n",
       "      <td>[Sperone Westwater, New York, NY]</td>\n",
       "      <td>1.0</td>\n",
       "      <td>paladino</td>\n",
       "      <td>NaN</td>\n",
       "      <td>0.0</td>\n",
       "      <td>0</td>\n",
       "      <td>1.0</td>\n",
       "      <td>1</td>\n",
       "      <td>0.0</td>\n",
       "    </tr>\n",
       "  </tbody>\n",
       "</table>\n",
       "<p>5 rows × 72 columns</p>\n",
       "</div>"
      ],
      "text/plain": [
       "             artist  artwork_id  \\\n",
       "0  lola-soloveychik     35537.0   \n",
       "1  lola-soloveychik     35538.0   \n",
       "2    mimmo_paladino     53265.0   \n",
       "3    mimmo_paladino     32803.0   \n",
       "4    mimmo_paladino     33077.0   \n",
       "\n",
       "                                         artwork_url  \\\n",
       "0  https://www.artspace.com/lola-soloveychik/the-...   \n",
       "1  https://www.artspace.com/lola-soloveychik/cali...   \n",
       "2  https://www.artspace.com/mimmo_paladino/horse-...   \n",
       "3  https://www.artspace.com/mimmo_paladino/gli-an...   \n",
       "4  https://www.artspace.com/mimmo_paladino/il-sog...   \n",
       "\n",
       "                                      authentication  edition_size  fame_cat  \\\n",
       "0                 Signed and numbered by the artist.          10.0       0.0   \n",
       "1                 Signed and numbered by the artist.          10.0       0.0   \n",
       "2                                               None           NaN       1.0   \n",
       "3  This work is signed and dated by the artist in...          60.0       1.0   \n",
       "4  This work is signed and dated by the artist in...          60.0       1.0   \n",
       "\n",
       "     height                                          image_url       location  \\\n",
       "0  10.00000  https://d5wt70d4gnm1t.cloudfront.net/media/a-s...                  \n",
       "1   8.00000  https://d5wt70d4gnm1t.cloudfront.net/media/a-s...                  \n",
       "2  37.20465  https://d5wt70d4gnm1t.cloudfront.net/media/a-s...         London   \n",
       "3  32.00000  https://d5wt70d4gnm1t.cloudfront.net/media/a-s...  United States   \n",
       "4  32.00000  https://d5wt70d4gnm1t.cloudfront.net/media/a-s...  United States   \n",
       "\n",
       "       medium  ... museums_n                          galleries galleries_n  \\\n",
       "0  photograph  ...       0.0                                n/a         0.0   \n",
       "1  photograph  ...       0.0                                n/a         0.0   \n",
       "2       print  ...       1.0  [Sperone Westwater, New York, NY]         1.0   \n",
       "3       print  ...       1.0  [Sperone Westwater, New York, NY]         1.0   \n",
       "4       print  ...       1.0  [Sperone Westwater, New York, NY]         1.0   \n",
       "\n",
       "     name_last artist_death  dead  degrees_cat  galleries_cat  museums_cat  \\\n",
       "0  soloveychik          NaN   0.0            2            0.0            0   \n",
       "1  soloveychik          NaN   0.0            2            0.0            0   \n",
       "2     paladino          NaN   0.0            0            1.0            1   \n",
       "3     paladino          NaN   0.0            0            1.0            1   \n",
       "4     paladino          NaN   0.0            0            1.0            1   \n",
       "\n",
       "   log_museums_n  \n",
       "0           -inf  \n",
       "1           -inf  \n",
       "2            0.0  \n",
       "3            0.0  \n",
       "4            0.0  \n",
       "\n",
       "[5 rows x 72 columns]"
      ]
     },
     "execution_count": 76,
     "metadata": {},
     "output_type": "execute_result"
    }
   ],
   "source": [
    "df.head()"
   ]
  },
  {
   "cell_type": "code",
   "execution_count": 77,
   "metadata": {
    "ExecuteTime": {
     "end_time": "2019-03-08T18:55:06.516123Z",
     "start_time": "2019-03-08T18:55:06.511181Z"
    }
   },
   "outputs": [
    {
     "data": {
      "text/plain": [
       "(15774, 72)"
      ]
     },
     "execution_count": 77,
     "metadata": {},
     "output_type": "execute_result"
    }
   ],
   "source": [
    "df.shape"
   ]
  },
  {
   "cell_type": "code",
   "execution_count": 78,
   "metadata": {
    "ExecuteTime": {
     "end_time": "2019-03-08T18:55:08.355745Z",
     "start_time": "2019-03-08T18:55:08.349842Z"
    }
   },
   "outputs": [
    {
     "data": {
      "text/plain": [
       "Index(['artist', 'artwork_id', 'artwork_url', 'authentication', 'edition_size',\n",
       "       'fame_cat', 'height', 'image_url', 'location', 'medium',\n",
       "       'physical_description', 'price', 'styles', 'tags', 'title', 'width',\n",
       "       'year_created', 'book', 'decorative-arts', 'mixed-media', 'new-media',\n",
       "       'no-medium', 'painting', 'photograph', 'print', 'sculpture',\n",
       "       'work-on-paper', 'unique', 'edition_size2', 'log_edition',\n",
       "       'edition_grp', 'ed-1', 'ed-101-more', 'ed-11-30', 'ed-2-10', 'ed-31-50',\n",
       "       'ed-51-100', 'signed', 'log_price', 'area', 'log_area', 'created_cat',\n",
       "       'cr-1960s-70s', 'cr-1980s-90s', 'cr-2000s', 'cr-2010s', 'cr-pre-1960',\n",
       "       'blue-chip', 'established', 'non-strategic', 'rising-star',\n",
       "       'up-and-coming', 'name_lf', 'id', 'name_pretty', 'birth_year',\n",
       "       'hometown', 'lives_in', 'degrees', 'degrees_n', 'genres', 'museums',\n",
       "       'museums_n', 'galleries', 'galleries_n', 'name_last', 'artist_death',\n",
       "       'dead', 'degrees_cat', 'galleries_cat', 'museums_cat', 'log_museums_n'],\n",
       "      dtype='object')"
      ]
     },
     "execution_count": 78,
     "metadata": {},
     "output_type": "execute_result"
    }
   ],
   "source": [
    "df.columns"
   ]
  },
  {
   "cell_type": "code",
   "execution_count": 79,
   "metadata": {
    "ExecuteTime": {
     "end_time": "2019-03-08T18:55:15.221806Z",
     "start_time": "2019-03-08T18:55:15.087136Z"
    }
   },
   "outputs": [],
   "source": [
    "# Pickle the dataset to this point\n",
    "pickle.dump(df, open('Artists and artworks dataframe.pickle', 'wb'))\n",
    "# Also save out a csv\n",
    "# df.to_csv('Artists and artworks.csv')\n",
    "# df.to_excel('Artists and artworks.xlsx')"
   ]
  },
  {
   "cell_type": "code",
   "execution_count": 80,
   "metadata": {
    "ExecuteTime": {
     "end_time": "2019-03-08T18:55:16.615145Z",
     "start_time": "2019-03-08T18:55:16.611870Z"
    }
   },
   "outputs": [],
   "source": [
    "# Also save out a Stata file\n",
    "# df_stata = df\n",
    "# myobjects = list(df_stata.select_dtypes(include=['object']).columns)\n",
    "# myobjects"
   ]
  },
  {
   "cell_type": "code",
   "execution_count": 81,
   "metadata": {
    "ExecuteTime": {
     "end_time": "2019-03-08T18:55:17.971917Z",
     "start_time": "2019-03-08T18:55:17.968275Z"
    }
   },
   "outputs": [],
   "source": [
    "#def remove_non_ascii(text):\n",
    "#    return ''.join(i for i in text if ord(i)<128)\n",
    "#df_stata['artist'] = df_stata['artist'].apply(remove_non_ascii)\n",
    "#df_stata.to_stata('Artists and artworks.dta', version=117)"
   ]
  },
  {
   "cell_type": "code",
   "execution_count": 123,
   "metadata": {},
   "outputs": [],
   "source": [
    "# Data for Nora\n",
    "# First get only fame_cat from artworks\n",
    "df_nora_artworks = df_artworks[['artist', 'fame_cat']]\n",
    "\n",
    "# Now get artist variables.\n",
    "df_nora_artists = df_artists.reset_index()\n",
    "df_nora_artists.rename(index=str, columns={'index': 'name_unique'}, inplace=True)\n",
    "df_nora_artists = df_nora_artists[['name_unique', 'name_lf', 'name_pretty', 'name_last', 'degrees_n', 'museums_n', 'degrees', 'museums']]\n",
    "df_nora_artists.head()\n",
    "\n",
    "# Merge.\n",
    "df_nora = df_nora_artists.merge(df_nora_artworks, left_on='name_unique', right_on='artist', how='inner')\n",
    "df_nora.drop(['artist'], axis=1, inplace=True)\n",
    "df_nora.to_csv('Artist data for Nora.csv')"
   ]
  },
  {
   "cell_type": "markdown",
   "metadata": {},
   "source": [
    "---\n",
    "### <a id=\"s5\"></a>Step 5: Data analysis\n",
    "[Back to top](#top)"
   ]
  },
  {
   "cell_type": "markdown",
   "metadata": {},
   "source": [
    "#### <a id=\"s5a\"></a>Step 5a: EDA"
   ]
  },
  {
   "cell_type": "code",
   "execution_count": 124,
   "metadata": {},
   "outputs": [],
   "source": [
    "# Reload data from pickle file.\n",
    "df2 = pickle.load(open('df.pickle', 'rb'))"
   ]
  },
  {
   "cell_type": "code",
   "execution_count": 125,
   "metadata": {},
   "outputs": [
    {
     "data": {
      "text/plain": [
       "Index(['artist', 'title', 'medium', 'price', 'height', 'width', 'year_created',\n",
       "       'location', 'fame_cat', 'styles', 'artwork_url', 'image_url',\n",
       "       'edition_size', 'authentication', 'physical_description', 'tags',\n",
       "       'book', 'decorative-arts', 'mixed-media', 'new-media', 'no-medium',\n",
       "       'painting', 'photograph', 'print', 'sculpture', 'work-on-paper',\n",
       "       'unique', 'edition_size2', 'log_edition', 'edition_grp', 'ed-1',\n",
       "       'ed-101-more', 'ed-11-30', 'ed-2-10', 'ed-31-50', 'ed-51-100', 'signed',\n",
       "       'log_price', 'area', 'log_area', 'created_cat', 'cr-1960s-70s',\n",
       "       'cr-1980s-90s', 'cr-2000s', 'cr-2010s', 'cr-pre-1960', 'blue-chip',\n",
       "       'established', 'non-strategic', 'rising-star', 'up-and-coming',\n",
       "       'name_lf', 'id', 'name_pretty', 'birth_year', 'hometown', 'lives_in',\n",
       "       'degrees', 'degrees_n', 'genres', 'museums', 'museums_n', 'galleries',\n",
       "       'galleries_n', 'name_last', 'artist_death', 'dead', 'degrees_cat',\n",
       "       'galleries_cat', 'museums_cat', 'log_museums_n'],\n",
       "      dtype='object')"
      ]
     },
     "execution_count": 125,
     "metadata": {},
     "output_type": "execute_result"
    }
   ],
   "source": [
    "df2.columns"
   ]
  },
  {
   "cell_type": "code",
   "execution_count": 126,
   "metadata": {},
   "outputs": [
    {
     "data": {
      "text/plain": [
       "<seaborn.axisgrid.PairGrid at 0x1c212afb38>"
      ]
     },
     "execution_count": 126,
     "metadata": {},
     "output_type": "execute_result"
    },
    {
     "data": {
      "image/png": "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\n",
      "text/plain": [
       "<Figure size 360x360 with 6 Axes>"
      ]
     },
     "metadata": {
      "needs_background": "light"
     },
     "output_type": "display_data"
    }
   ],
   "source": [
    "sns.pairplot(df2, vars=['fame_cat', 'galleries_n'])"
   ]
  },
  {
   "cell_type": "code",
   "execution_count": 127,
   "metadata": {},
   "outputs": [],
   "source": [
    "# df2.info()"
   ]
  },
  {
   "cell_type": "code",
   "execution_count": 128,
   "metadata": {},
   "outputs": [],
   "source": [
    "cols = list(df2.columns.values)\n",
    "# cols\n",
    "\n",
    "# df2 = df2[['log_price', 'log_area', 'perm_cat', 'medium_cat', 'log_edition', 'signed', 'artist', 'unique',\n",
    "#           'year_created', 'birth_year', 'fame_cat', 'title', 'medium', 'price', 'height', 'width',\n",
    "#       'location', 'styles', 'artwork_url', 'image_url',\n",
    "#       'edition_size', 'authentication', 'physical_description', 'tags',\n",
    "#       'name_lf', 'id', 'name_pretty', 'hometown', 'lives_in',\n",
    "#       'degrees', 'degree_count', 'genres', 'permanent_collections', 'perm_n',\n",
    "#       'galleries', 'gallery_count', 'name_last', 'log_perm_n', 'edition_size2', 'area']]"
   ]
  },
  {
   "cell_type": "code",
   "execution_count": 129,
   "metadata": {
    "scrolled": true
   },
   "outputs": [],
   "source": [
    "# df_subset = df2[['log_area', 'museums_cat', 'year_created', \n",
    "#                 'birth_year', 'unique', 'edition_cat', 'signed', \n",
    " #                'log_price']]"
   ]
  },
  {
   "cell_type": "code",
   "execution_count": 130,
   "metadata": {},
   "outputs": [],
   "source": [
    "# sns.pairplot(df_subset.dropna())"
   ]
  },
  {
   "cell_type": "code",
   "execution_count": 131,
   "metadata": {},
   "outputs": [
    {
     "data": {
      "text/plain": [
       "<matplotlib.axes._subplots.AxesSubplot at 0x1c212af940>"
      ]
     },
     "execution_count": 131,
     "metadata": {},
     "output_type": "execute_result"
    },
    {
     "data": {
      "image/png": "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\n",
      "text/plain": [
       "<Figure size 432x288 with 1 Axes>"
      ]
     },
     "metadata": {
      "needs_background": "light"
     },
     "output_type": "display_data"
    }
   ],
   "source": [
    "sns.boxplot(df2['fame_cat'], df2['log_price'])"
   ]
  },
  {
   "cell_type": "code",
   "execution_count": 132,
   "metadata": {},
   "outputs": [
    {
     "data": {
      "text/plain": [
       "<matplotlib.axes._subplots.AxesSubplot at 0x1c26416198>"
      ]
     },
     "execution_count": 132,
     "metadata": {},
     "output_type": "execute_result"
    },
    {
     "data": {
      "image/png": "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\n",
      "text/plain": [
       "<Figure size 432x288 with 1 Axes>"
      ]
     },
     "metadata": {
      "needs_background": "light"
     },
     "output_type": "display_data"
    }
   ],
   "source": [
    "sns.scatterplot(df2['log_edition'], df2['log_price'])"
   ]
  },
  {
   "cell_type": "code",
   "execution_count": 133,
   "metadata": {},
   "outputs": [
    {
     "data": {
      "text/plain": [
       "<matplotlib.axes._subplots.AxesSubplot at 0x1c2735b908>"
      ]
     },
     "execution_count": 133,
     "metadata": {},
     "output_type": "execute_result"
    },
    {
     "data": {
      "image/png": "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\n",
      "text/plain": [
       "<Figure size 432x288 with 1 Axes>"
      ]
     },
     "metadata": {
      "needs_background": "light"
     },
     "output_type": "display_data"
    }
   ],
   "source": [
    "sns.boxplot(df2['unique'], df2['log_price'])"
   ]
  },
  {
   "cell_type": "code",
   "execution_count": 134,
   "metadata": {},
   "outputs": [
    {
     "data": {
      "text/plain": [
       "<matplotlib.axes._subplots.AxesSubplot at 0x1c201ab978>"
      ]
     },
     "execution_count": 134,
     "metadata": {},
     "output_type": "execute_result"
    },
    {
     "data": {
      "image/png": "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\n",
      "text/plain": [
       "<Figure size 432x288 with 1 Axes>"
      ]
     },
     "metadata": {
      "needs_background": "light"
     },
     "output_type": "display_data"
    }
   ],
   "source": [
    "sns.boxplot(df2['price'], df2['log_price'])"
   ]
  },
  {
   "cell_type": "code",
   "execution_count": 135,
   "metadata": {},
   "outputs": [
    {
     "data": {
      "text/plain": [
       "<matplotlib.axes._subplots.AxesSubplot at 0x1c2b8b4048>"
      ]
     },
     "execution_count": 135,
     "metadata": {},
     "output_type": "execute_result"
    },
    {
     "data": {
      "image/png": "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\n",
      "text/plain": [
       "<Figure size 432x288 with 1 Axes>"
      ]
     },
     "metadata": {
      "needs_background": "light"
     },
     "output_type": "display_data"
    }
   ],
   "source": [
    "sns.scatterplot(df2['log_area'], df2['log_price'])"
   ]
  },
  {
   "cell_type": "code",
   "execution_count": 136,
   "metadata": {},
   "outputs": [
    {
     "data": {
      "text/plain": [
       "<matplotlib.axes._subplots.AxesSubplot at 0x1c2b839eb8>"
      ]
     },
     "execution_count": 136,
     "metadata": {},
     "output_type": "execute_result"
    },
    {
     "data": {
      "image/png": "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\n",
      "text/plain": [
       "<Figure size 432x288 with 1 Axes>"
      ]
     },
     "metadata": {
      "needs_background": "light"
     },
     "output_type": "display_data"
    }
   ],
   "source": [
    "sns.scatterplot(df2['museums_cat'], df2['log_price'])"
   ]
  },
  {
   "cell_type": "code",
   "execution_count": 137,
   "metadata": {},
   "outputs": [
    {
     "data": {
      "text/plain": [
       "{'whiskers': [<matplotlib.lines.Line2D at 0x1c2b847dd8>,\n",
       "  <matplotlib.lines.Line2D at 0x1c2b8572b0>],\n",
       " 'caps': [<matplotlib.lines.Line2D at 0x1c2b8576d8>,\n",
       "  <matplotlib.lines.Line2D at 0x1c2b857b00>],\n",
       " 'boxes': [<matplotlib.lines.Line2D at 0x1c2b847c88>],\n",
       " 'medians': [<matplotlib.lines.Line2D at 0x1c2b857f28>],\n",
       " 'fliers': [<matplotlib.lines.Line2D at 0x1c2b868390>],\n",
       " 'means': []}"
      ]
     },
     "execution_count": 137,
     "metadata": {},
     "output_type": "execute_result"
    },
    {
     "data": {
      "image/png": "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\n",
      "text/plain": [
       "<Figure size 144x432 with 1 Axes>"
      ]
     },
     "metadata": {
      "needs_background": "light"
     },
     "output_type": "display_data"
    }
   ],
   "source": [
    "fig = plt.figure(figsize=(2,6))\n",
    "plt.boxplot(df2['price'])"
   ]
  },
  {
   "cell_type": "code",
   "execution_count": 138,
   "metadata": {},
   "outputs": [
    {
     "data": {
      "text/plain": [
       "(array([2.200e+01, 1.350e+02, 4.920e+02, 1.430e+03, 2.934e+03, 4.175e+03,\n",
       "        5.110e+03, 1.469e+03, 6.000e+00, 1.000e+00]),\n",
       " array([ 2.19722458,  3.12778963,  4.05835469,  4.98891974,  5.9194848 ,\n",
       "         6.85004985,  7.78061491,  8.71117996,  9.64174502, 10.57231007,\n",
       "        11.50287513]),\n",
       " <a list of 10 Patch objects>)"
      ]
     },
     "execution_count": 138,
     "metadata": {},
     "output_type": "execute_result"
    },
    {
     "data": {
      "image/png": "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\n",
      "text/plain": [
       "<Figure size 432x288 with 1 Axes>"
      ]
     },
     "metadata": {
      "needs_background": "light"
     },
     "output_type": "display_data"
    }
   ],
   "source": [
    "plt.hist(df2['log_price'])"
   ]
  },
  {
   "cell_type": "code",
   "execution_count": 139,
   "metadata": {},
   "outputs": [
    {
     "data": {
      "text/plain": [
       "count    15774.000000\n",
       "mean      2551.506593\n",
       "std       2503.340231\n",
       "min          9.000000\n",
       "25%        700.000000\n",
       "50%       1800.000000\n",
       "75%       3647.000000\n",
       "max      99000.000000\n",
       "Name: price, dtype: float64"
      ]
     },
     "execution_count": 139,
     "metadata": {},
     "output_type": "execute_result"
    }
   ],
   "source": [
    "df2['price'].describe()"
   ]
  },
  {
   "cell_type": "code",
   "execution_count": 140,
   "metadata": {},
   "outputs": [
    {
     "data": {
      "text/plain": [
       "58913    https://www.artspace.com/andy_warhol/john-gotti-1\n",
       "Name: artwork_url, dtype: object"
      ]
     },
     "execution_count": 140,
     "metadata": {},
     "output_type": "execute_result"
    }
   ],
   "source": [
    "df2['artwork_url'][df2['price'] == 99000]"
   ]
  },
  {
   "cell_type": "code",
   "execution_count": 141,
   "metadata": {},
   "outputs": [],
   "source": [
    "df_fame = df2[['log_price', 'fame_cat', 'museums_cat', 'galleries_cat']]"
   ]
  },
  {
   "cell_type": "code",
   "execution_count": 142,
   "metadata": {},
   "outputs": [
    {
     "data": {
      "text/html": [
       "<div>\n",
       "<style scoped>\n",
       "    .dataframe tbody tr th:only-of-type {\n",
       "        vertical-align: middle;\n",
       "    }\n",
       "\n",
       "    .dataframe tbody tr th {\n",
       "        vertical-align: top;\n",
       "    }\n",
       "\n",
       "    .dataframe thead th {\n",
       "        text-align: right;\n",
       "    }\n",
       "</style>\n",
       "<table border=\"1\" class=\"dataframe\">\n",
       "  <thead>\n",
       "    <tr style=\"text-align: right;\">\n",
       "      <th></th>\n",
       "      <th>log_price</th>\n",
       "      <th>fame_cat</th>\n",
       "      <th>museums_cat</th>\n",
       "      <th>galleries_cat</th>\n",
       "    </tr>\n",
       "  </thead>\n",
       "  <tbody>\n",
       "    <tr>\n",
       "      <th>log_price</th>\n",
       "      <td>1.000000</td>\n",
       "      <td>0.038590</td>\n",
       "      <td>0.086445</td>\n",
       "      <td>0.060540</td>\n",
       "    </tr>\n",
       "    <tr>\n",
       "      <th>fame_cat</th>\n",
       "      <td>0.038590</td>\n",
       "      <td>1.000000</td>\n",
       "      <td>0.394911</td>\n",
       "      <td>0.324477</td>\n",
       "    </tr>\n",
       "    <tr>\n",
       "      <th>museums_cat</th>\n",
       "      <td>0.086445</td>\n",
       "      <td>0.394911</td>\n",
       "      <td>1.000000</td>\n",
       "      <td>0.348440</td>\n",
       "    </tr>\n",
       "    <tr>\n",
       "      <th>galleries_cat</th>\n",
       "      <td>0.060540</td>\n",
       "      <td>0.324477</td>\n",
       "      <td>0.348440</td>\n",
       "      <td>1.000000</td>\n",
       "    </tr>\n",
       "  </tbody>\n",
       "</table>\n",
       "</div>"
      ],
      "text/plain": [
       "               log_price  fame_cat  museums_cat  galleries_cat\n",
       "log_price       1.000000  0.038590     0.086445       0.060540\n",
       "fame_cat        0.038590  1.000000     0.394911       0.324477\n",
       "museums_cat     0.086445  0.394911     1.000000       0.348440\n",
       "galleries_cat   0.060540  0.324477     0.348440       1.000000"
      ]
     },
     "execution_count": 142,
     "metadata": {},
     "output_type": "execute_result"
    }
   ],
   "source": [
    "df_fame.corr()"
   ]
  },
  {
   "cell_type": "code",
   "execution_count": 143,
   "metadata": {
    "scrolled": false
   },
   "outputs": [
    {
     "data": {
      "text/html": [
       "<div>\n",
       "<style scoped>\n",
       "    .dataframe tbody tr th:only-of-type {\n",
       "        vertical-align: middle;\n",
       "    }\n",
       "\n",
       "    .dataframe tbody tr th {\n",
       "        vertical-align: top;\n",
       "    }\n",
       "\n",
       "    .dataframe thead th {\n",
       "        text-align: right;\n",
       "    }\n",
       "</style>\n",
       "<table border=\"1\" class=\"dataframe\">\n",
       "  <thead>\n",
       "    <tr style=\"text-align: right;\">\n",
       "      <th></th>\n",
       "      <th>price</th>\n",
       "      <th>height</th>\n",
       "      <th>width</th>\n",
       "      <th>year_created</th>\n",
       "      <th>fame_cat</th>\n",
       "      <th>edition_size</th>\n",
       "      <th>book</th>\n",
       "      <th>decorative-arts</th>\n",
       "      <th>mixed-media</th>\n",
       "      <th>new-media</th>\n",
       "      <th>...</th>\n",
       "      <th>birth_year</th>\n",
       "      <th>degrees_n</th>\n",
       "      <th>museums_n</th>\n",
       "      <th>galleries_n</th>\n",
       "      <th>artist_death</th>\n",
       "      <th>dead</th>\n",
       "      <th>degrees_cat</th>\n",
       "      <th>galleries_cat</th>\n",
       "      <th>museums_cat</th>\n",
       "      <th>log_museums_n</th>\n",
       "    </tr>\n",
       "  </thead>\n",
       "  <tbody>\n",
       "    <tr>\n",
       "      <th>price</th>\n",
       "      <td>1.000000</td>\n",
       "      <td>0.180195</td>\n",
       "      <td>0.325556</td>\n",
       "      <td>0.016345</td>\n",
       "      <td>0.084873</td>\n",
       "      <td>-0.089053</td>\n",
       "      <td>-0.074003</td>\n",
       "      <td>-0.160643</td>\n",
       "      <td>0.001043</td>\n",
       "      <td>-0.005054</td>\n",
       "      <td>...</td>\n",
       "      <td>-0.019432</td>\n",
       "      <td>0.062038</td>\n",
       "      <td>0.083217</td>\n",
       "      <td>0.068395</td>\n",
       "      <td>0.072614</td>\n",
       "      <td>0.031859</td>\n",
       "      <td>0.065741</td>\n",
       "      <td>0.083977</td>\n",
       "      <td>0.091072</td>\n",
       "      <td>0.006539</td>\n",
       "    </tr>\n",
       "    <tr>\n",
       "      <th>height</th>\n",
       "      <td>0.180195</td>\n",
       "      <td>1.000000</td>\n",
       "      <td>0.318734</td>\n",
       "      <td>0.023301</td>\n",
       "      <td>0.013484</td>\n",
       "      <td>-0.020746</td>\n",
       "      <td>-0.035092</td>\n",
       "      <td>0.028834</td>\n",
       "      <td>-0.026888</td>\n",
       "      <td>-0.013814</td>\n",
       "      <td>...</td>\n",
       "      <td>0.006985</td>\n",
       "      <td>0.015630</td>\n",
       "      <td>-0.006063</td>\n",
       "      <td>0.003718</td>\n",
       "      <td>0.082955</td>\n",
       "      <td>-0.000157</td>\n",
       "      <td>0.017432</td>\n",
       "      <td>0.009197</td>\n",
       "      <td>-0.001285</td>\n",
       "      <td>-0.029277</td>\n",
       "    </tr>\n",
       "    <tr>\n",
       "      <th>width</th>\n",
       "      <td>0.325556</td>\n",
       "      <td>0.318734</td>\n",
       "      <td>1.000000</td>\n",
       "      <td>0.031391</td>\n",
       "      <td>-0.020079</td>\n",
       "      <td>-0.057816</td>\n",
       "      <td>-0.067890</td>\n",
       "      <td>0.009580</td>\n",
       "      <td>-0.061333</td>\n",
       "      <td>-0.031707</td>\n",
       "      <td>...</td>\n",
       "      <td>0.021584</td>\n",
       "      <td>0.019382</td>\n",
       "      <td>-0.003809</td>\n",
       "      <td>-0.005160</td>\n",
       "      <td>0.096430</td>\n",
       "      <td>-0.010490</td>\n",
       "      <td>0.022446</td>\n",
       "      <td>-0.002203</td>\n",
       "      <td>-0.002223</td>\n",
       "      <td>-0.033173</td>\n",
       "    </tr>\n",
       "    <tr>\n",
       "      <th>year_created</th>\n",
       "      <td>0.016345</td>\n",
       "      <td>0.023301</td>\n",
       "      <td>0.031391</td>\n",
       "      <td>1.000000</td>\n",
       "      <td>-0.287378</td>\n",
       "      <td>-0.229337</td>\n",
       "      <td>0.016033</td>\n",
       "      <td>0.082434</td>\n",
       "      <td>0.114996</td>\n",
       "      <td>0.020499</td>\n",
       "      <td>...</td>\n",
       "      <td>0.706212</td>\n",
       "      <td>0.207251</td>\n",
       "      <td>-0.111338</td>\n",
       "      <td>0.029865</td>\n",
       "      <td>0.539850</td>\n",
       "      <td>-0.316107</td>\n",
       "      <td>0.222016</td>\n",
       "      <td>0.031377</td>\n",
       "      <td>-0.103952</td>\n",
       "      <td>-0.047563</td>\n",
       "    </tr>\n",
       "    <tr>\n",
       "      <th>fame_cat</th>\n",
       "      <td>0.084873</td>\n",
       "      <td>0.013484</td>\n",
       "      <td>-0.020079</td>\n",
       "      <td>-0.287378</td>\n",
       "      <td>1.000000</td>\n",
       "      <td>0.231813</td>\n",
       "      <td>0.077910</td>\n",
       "      <td>0.233356</td>\n",
       "      <td>-0.113517</td>\n",
       "      <td>-0.007567</td>\n",
       "      <td>...</td>\n",
       "      <td>-0.536700</td>\n",
       "      <td>-0.040723</td>\n",
       "      <td>0.318572</td>\n",
       "      <td>0.306075</td>\n",
       "      <td>-0.119933</td>\n",
       "      <td>0.281560</td>\n",
       "      <td>-0.032124</td>\n",
       "      <td>0.324477</td>\n",
       "      <td>0.394911</td>\n",
       "      <td>0.105736</td>\n",
       "    </tr>\n",
       "    <tr>\n",
       "      <th>edition_size</th>\n",
       "      <td>-0.089053</td>\n",
       "      <td>-0.020746</td>\n",
       "      <td>-0.057816</td>\n",
       "      <td>-0.229337</td>\n",
       "      <td>0.231813</td>\n",
       "      <td>1.000000</td>\n",
       "      <td>0.034914</td>\n",
       "      <td>0.169950</td>\n",
       "      <td>-0.031936</td>\n",
       "      <td>-0.002734</td>\n",
       "      <td>...</td>\n",
       "      <td>-0.257732</td>\n",
       "      <td>-0.075592</td>\n",
       "      <td>0.033425</td>\n",
       "      <td>0.029685</td>\n",
       "      <td>-0.079028</td>\n",
       "      <td>0.127326</td>\n",
       "      <td>-0.081147</td>\n",
       "      <td>0.031275</td>\n",
       "      <td>0.049193</td>\n",
       "      <td>-0.046677</td>\n",
       "    </tr>\n",
       "    <tr>\n",
       "      <th>book</th>\n",
       "      <td>-0.074003</td>\n",
       "      <td>-0.035092</td>\n",
       "      <td>-0.067890</td>\n",
       "      <td>0.016033</td>\n",
       "      <td>0.077910</td>\n",
       "      <td>0.034914</td>\n",
       "      <td>1.000000</td>\n",
       "      <td>-0.020843</td>\n",
       "      <td>-0.027089</td>\n",
       "      <td>-0.005115</td>\n",
       "      <td>...</td>\n",
       "      <td>-0.049619</td>\n",
       "      <td>-0.021296</td>\n",
       "      <td>0.026531</td>\n",
       "      <td>0.032479</td>\n",
       "      <td>-0.046954</td>\n",
       "      <td>0.062589</td>\n",
       "      <td>-0.019411</td>\n",
       "      <td>0.025832</td>\n",
       "      <td>0.027586</td>\n",
       "      <td>0.024668</td>\n",
       "    </tr>\n",
       "    <tr>\n",
       "      <th>decorative-arts</th>\n",
       "      <td>-0.160643</td>\n",
       "      <td>0.028834</td>\n",
       "      <td>0.009580</td>\n",
       "      <td>0.082434</td>\n",
       "      <td>0.233356</td>\n",
       "      <td>0.169950</td>\n",
       "      <td>-0.020843</td>\n",
       "      <td>1.000000</td>\n",
       "      <td>-0.076883</td>\n",
       "      <td>-0.014518</td>\n",
       "      <td>...</td>\n",
       "      <td>-0.166708</td>\n",
       "      <td>-0.067340</td>\n",
       "      <td>0.048027</td>\n",
       "      <td>0.092830</td>\n",
       "      <td>-0.064052</td>\n",
       "      <td>0.132622</td>\n",
       "      <td>-0.065904</td>\n",
       "      <td>0.090069</td>\n",
       "      <td>0.072700</td>\n",
       "      <td>0.026246</td>\n",
       "    </tr>\n",
       "    <tr>\n",
       "      <th>mixed-media</th>\n",
       "      <td>0.001043</td>\n",
       "      <td>-0.026888</td>\n",
       "      <td>-0.061333</td>\n",
       "      <td>0.114996</td>\n",
       "      <td>-0.113517</td>\n",
       "      <td>-0.031936</td>\n",
       "      <td>-0.027089</td>\n",
       "      <td>-0.076883</td>\n",
       "      <td>1.000000</td>\n",
       "      <td>-0.018868</td>\n",
       "      <td>...</td>\n",
       "      <td>0.149900</td>\n",
       "      <td>0.092933</td>\n",
       "      <td>-0.057458</td>\n",
       "      <td>-0.069000</td>\n",
       "      <td>0.062398</td>\n",
       "      <td>-0.048572</td>\n",
       "      <td>0.099490</td>\n",
       "      <td>-0.074942</td>\n",
       "      <td>-0.068360</td>\n",
       "      <td>0.011370</td>\n",
       "    </tr>\n",
       "    <tr>\n",
       "      <th>new-media</th>\n",
       "      <td>-0.005054</td>\n",
       "      <td>-0.013814</td>\n",
       "      <td>-0.031707</td>\n",
       "      <td>0.020499</td>\n",
       "      <td>-0.007567</td>\n",
       "      <td>-0.002734</td>\n",
       "      <td>-0.005115</td>\n",
       "      <td>-0.014518</td>\n",
       "      <td>-0.018868</td>\n",
       "      <td>1.000000</td>\n",
       "      <td>...</td>\n",
       "      <td>0.039456</td>\n",
       "      <td>0.033451</td>\n",
       "      <td>-0.014516</td>\n",
       "      <td>-0.009576</td>\n",
       "      <td>-0.006824</td>\n",
       "      <td>-0.006703</td>\n",
       "      <td>0.037181</td>\n",
       "      <td>-0.008364</td>\n",
       "      <td>-0.018371</td>\n",
       "      <td>-0.007075</td>\n",
       "    </tr>\n",
       "    <tr>\n",
       "      <th>no-medium</th>\n",
       "      <td>0.029378</td>\n",
       "      <td>-0.001710</td>\n",
       "      <td>0.001395</td>\n",
       "      <td>0.006933</td>\n",
       "      <td>0.009218</td>\n",
       "      <td>0.000566</td>\n",
       "      <td>-0.003345</td>\n",
       "      <td>-0.009494</td>\n",
       "      <td>-0.012340</td>\n",
       "      <td>-0.002330</td>\n",
       "      <td>...</td>\n",
       "      <td>0.009581</td>\n",
       "      <td>-0.013362</td>\n",
       "      <td>-0.010511</td>\n",
       "      <td>0.004896</td>\n",
       "      <td>0.028330</td>\n",
       "      <td>-0.007949</td>\n",
       "      <td>-0.013096</td>\n",
       "      <td>0.007824</td>\n",
       "      <td>-0.007027</td>\n",
       "      <td>-0.037514</td>\n",
       "    </tr>\n",
       "    <tr>\n",
       "      <th>painting</th>\n",
       "      <td>0.237791</td>\n",
       "      <td>0.081263</td>\n",
       "      <td>0.147602</td>\n",
       "      <td>0.164855</td>\n",
       "      <td>-0.220335</td>\n",
       "      <td>-0.087779</td>\n",
       "      <td>-0.032636</td>\n",
       "      <td>-0.092626</td>\n",
       "      <td>-0.120384</td>\n",
       "      <td>-0.022732</td>\n",
       "      <td>...</td>\n",
       "      <td>0.199247</td>\n",
       "      <td>0.082085</td>\n",
       "      <td>-0.104039</td>\n",
       "      <td>-0.126003</td>\n",
       "      <td>0.056827</td>\n",
       "      <td>-0.077547</td>\n",
       "      <td>0.085088</td>\n",
       "      <td>-0.136028</td>\n",
       "      <td>-0.137083</td>\n",
       "      <td>-0.015520</td>\n",
       "    </tr>\n",
       "    <tr>\n",
       "      <th>photograph</th>\n",
       "      <td>-0.033319</td>\n",
       "      <td>-0.046446</td>\n",
       "      <td>-0.013640</td>\n",
       "      <td>-0.071911</td>\n",
       "      <td>-0.129268</td>\n",
       "      <td>-0.039978</td>\n",
       "      <td>-0.041265</td>\n",
       "      <td>-0.117115</td>\n",
       "      <td>-0.152212</td>\n",
       "      <td>-0.028742</td>\n",
       "      <td>...</td>\n",
       "      <td>0.106584</td>\n",
       "      <td>-0.058502</td>\n",
       "      <td>-0.056612</td>\n",
       "      <td>-0.051800</td>\n",
       "      <td>0.135800</td>\n",
       "      <td>-0.093902</td>\n",
       "      <td>-0.062814</td>\n",
       "      <td>-0.044654</td>\n",
       "      <td>-0.067254</td>\n",
       "      <td>-0.060760</td>\n",
       "    </tr>\n",
       "    <tr>\n",
       "      <th>print</th>\n",
       "      <td>-0.091323</td>\n",
       "      <td>0.041962</td>\n",
       "      <td>0.061452</td>\n",
       "      <td>-0.284628</td>\n",
       "      <td>0.345861</td>\n",
       "      <td>0.126777</td>\n",
       "      <td>-0.061898</td>\n",
       "      <td>-0.175675</td>\n",
       "      <td>-0.228321</td>\n",
       "      <td>-0.043113</td>\n",
       "      <td>...</td>\n",
       "      <td>-0.354245</td>\n",
       "      <td>-0.035019</td>\n",
       "      <td>0.184320</td>\n",
       "      <td>0.182064</td>\n",
       "      <td>-0.049463</td>\n",
       "      <td>0.152808</td>\n",
       "      <td>-0.041604</td>\n",
       "      <td>0.193922</td>\n",
       "      <td>0.226379</td>\n",
       "      <td>0.025132</td>\n",
       "    </tr>\n",
       "    <tr>\n",
       "      <th>sculpture</th>\n",
       "      <td>0.074666</td>\n",
       "      <td>-0.028485</td>\n",
       "      <td>-0.127502</td>\n",
       "      <td>0.105049</td>\n",
       "      <td>-0.081227</td>\n",
       "      <td>-0.028516</td>\n",
       "      <td>-0.024088</td>\n",
       "      <td>-0.068364</td>\n",
       "      <td>-0.088852</td>\n",
       "      <td>-0.016778</td>\n",
       "      <td>...</td>\n",
       "      <td>0.114533</td>\n",
       "      <td>0.030286</td>\n",
       "      <td>-0.040210</td>\n",
       "      <td>-0.020725</td>\n",
       "      <td>0.054329</td>\n",
       "      <td>-0.048522</td>\n",
       "      <td>0.027536</td>\n",
       "      <td>-0.021314</td>\n",
       "      <td>-0.051552</td>\n",
       "      <td>0.020376</td>\n",
       "    </tr>\n",
       "    <tr>\n",
       "      <th>work-on-paper</th>\n",
       "      <td>-0.000406</td>\n",
       "      <td>-0.050999</td>\n",
       "      <td>-0.057398</td>\n",
       "      <td>0.090621</td>\n",
       "      <td>-0.149243</td>\n",
       "      <td>-0.080013</td>\n",
       "      <td>-0.030126</td>\n",
       "      <td>-0.085502</td>\n",
       "      <td>-0.111126</td>\n",
       "      <td>-0.020983</td>\n",
       "      <td>...</td>\n",
       "      <td>0.127885</td>\n",
       "      <td>-0.021102</td>\n",
       "      <td>-0.050442</td>\n",
       "      <td>-0.072663</td>\n",
       "      <td>-0.018816</td>\n",
       "      <td>-0.059148</td>\n",
       "      <td>-0.014960</td>\n",
       "      <td>-0.079736</td>\n",
       "      <td>-0.064467</td>\n",
       "      <td>-0.004223</td>\n",
       "    </tr>\n",
       "    <tr>\n",
       "      <th>unique</th>\n",
       "      <td>0.189716</td>\n",
       "      <td>-0.002469</td>\n",
       "      <td>-0.015195</td>\n",
       "      <td>0.302873</td>\n",
       "      <td>-0.385724</td>\n",
       "      <td>-0.192137</td>\n",
       "      <td>-0.024967</td>\n",
       "      <td>-0.078036</td>\n",
       "      <td>0.240445</td>\n",
       "      <td>-0.006939</td>\n",
       "      <td>...</td>\n",
       "      <td>0.365286</td>\n",
       "      <td>0.117149</td>\n",
       "      <td>-0.160193</td>\n",
       "      <td>-0.208972</td>\n",
       "      <td>0.019065</td>\n",
       "      <td>-0.127748</td>\n",
       "      <td>0.131960</td>\n",
       "      <td>-0.224923</td>\n",
       "      <td>-0.206348</td>\n",
       "      <td>0.038544</td>\n",
       "    </tr>\n",
       "    <tr>\n",
       "      <th>edition_size2</th>\n",
       "      <td>-0.075086</td>\n",
       "      <td>-0.023190</td>\n",
       "      <td>-0.094254</td>\n",
       "      <td>-0.198523</td>\n",
       "      <td>0.200805</td>\n",
       "      <td>1.000000</td>\n",
       "      <td>0.031707</td>\n",
       "      <td>0.174635</td>\n",
       "      <td>0.030125</td>\n",
       "      <td>-0.005204</td>\n",
       "      <td>...</td>\n",
       "      <td>-0.233923</td>\n",
       "      <td>-0.072953</td>\n",
       "      <td>0.003040</td>\n",
       "      <td>-0.012784</td>\n",
       "      <td>-0.079758</td>\n",
       "      <td>0.109057</td>\n",
       "      <td>-0.077965</td>\n",
       "      <td>-0.014921</td>\n",
       "      <td>0.012006</td>\n",
       "      <td>-0.046037</td>\n",
       "    </tr>\n",
       "    <tr>\n",
       "      <th>log_edition</th>\n",
       "      <td>-0.203557</td>\n",
       "      <td>-0.024701</td>\n",
       "      <td>-0.128832</td>\n",
       "      <td>-0.431567</td>\n",
       "      <td>0.340861</td>\n",
       "      <td>0.544651</td>\n",
       "      <td>0.061106</td>\n",
       "      <td>0.163470</td>\n",
       "      <td>-0.026173</td>\n",
       "      <td>-0.043707</td>\n",
       "      <td>...</td>\n",
       "      <td>-0.470929</td>\n",
       "      <td>-0.240855</td>\n",
       "      <td>0.036699</td>\n",
       "      <td>0.049039</td>\n",
       "      <td>-0.286968</td>\n",
       "      <td>0.216260</td>\n",
       "      <td>-0.237782</td>\n",
       "      <td>0.046986</td>\n",
       "      <td>0.051397</td>\n",
       "      <td>-0.125475</td>\n",
       "    </tr>\n",
       "    <tr>\n",
       "      <th>ed-1</th>\n",
       "      <td>0.182860</td>\n",
       "      <td>-0.000219</td>\n",
       "      <td>-0.009677</td>\n",
       "      <td>0.278181</td>\n",
       "      <td>-0.372163</td>\n",
       "      <td>-0.192137</td>\n",
       "      <td>-0.062768</td>\n",
       "      <td>-0.150347</td>\n",
       "      <td>0.235539</td>\n",
       "      <td>-0.002618</td>\n",
       "      <td>...</td>\n",
       "      <td>0.349782</td>\n",
       "      <td>0.131811</td>\n",
       "      <td>-0.146108</td>\n",
       "      <td>-0.183144</td>\n",
       "      <td>0.038314</td>\n",
       "      <td>-0.136622</td>\n",
       "      <td>0.145811</td>\n",
       "      <td>-0.196626</td>\n",
       "      <td>-0.187288</td>\n",
       "      <td>0.035582</td>\n",
       "    </tr>\n",
       "    <tr>\n",
       "      <th>ed-101-more</th>\n",
       "      <td>-0.111878</td>\n",
       "      <td>-0.020324</td>\n",
       "      <td>-0.055975</td>\n",
       "      <td>-0.374318</td>\n",
       "      <td>0.177720</td>\n",
       "      <td>0.497510</td>\n",
       "      <td>0.002466</td>\n",
       "      <td>0.038254</td>\n",
       "      <td>-0.058939</td>\n",
       "      <td>0.004282</td>\n",
       "      <td>...</td>\n",
       "      <td>-0.289726</td>\n",
       "      <td>-0.125813</td>\n",
       "      <td>0.020036</td>\n",
       "      <td>0.022040</td>\n",
       "      <td>-0.138735</td>\n",
       "      <td>0.142134</td>\n",
       "      <td>-0.137248</td>\n",
       "      <td>0.022003</td>\n",
       "      <td>0.022241</td>\n",
       "      <td>-0.047678</td>\n",
       "    </tr>\n",
       "    <tr>\n",
       "      <th>ed-11-30</th>\n",
       "      <td>-0.044586</td>\n",
       "      <td>-0.016014</td>\n",
       "      <td>-0.016791</td>\n",
       "      <td>0.010674</td>\n",
       "      <td>0.114366</td>\n",
       "      <td>-0.059888</td>\n",
       "      <td>-0.035289</td>\n",
       "      <td>-0.060166</td>\n",
       "      <td>-0.074409</td>\n",
       "      <td>-0.018525</td>\n",
       "      <td>...</td>\n",
       "      <td>-0.036192</td>\n",
       "      <td>0.024753</td>\n",
       "      <td>0.108031</td>\n",
       "      <td>0.160748</td>\n",
       "      <td>0.167209</td>\n",
       "      <td>-0.032279</td>\n",
       "      <td>0.028301</td>\n",
       "      <td>0.163421</td>\n",
       "      <td>0.133223</td>\n",
       "      <td>0.046128</td>\n",
       "    </tr>\n",
       "    <tr>\n",
       "      <th>ed-2-10</th>\n",
       "      <td>0.046150</td>\n",
       "      <td>0.013115</td>\n",
       "      <td>0.068935</td>\n",
       "      <td>0.108099</td>\n",
       "      <td>-0.097967</td>\n",
       "      <td>-0.084739</td>\n",
       "      <td>-0.032972</td>\n",
       "      <td>-0.077104</td>\n",
       "      <td>-0.058435</td>\n",
       "      <td>0.043823</td>\n",
       "      <td>...</td>\n",
       "      <td>0.154461</td>\n",
       "      <td>0.077235</td>\n",
       "      <td>-0.008910</td>\n",
       "      <td>-0.027653</td>\n",
       "      <td>0.109674</td>\n",
       "      <td>-0.074475</td>\n",
       "      <td>0.063482</td>\n",
       "      <td>-0.021148</td>\n",
       "      <td>-0.010152</td>\n",
       "      <td>0.072786</td>\n",
       "    </tr>\n",
       "    <tr>\n",
       "      <th>ed-31-50</th>\n",
       "      <td>-0.029013</td>\n",
       "      <td>0.030204</td>\n",
       "      <td>0.002768</td>\n",
       "      <td>-0.049551</td>\n",
       "      <td>0.147388</td>\n",
       "      <td>-0.010561</td>\n",
       "      <td>-0.015783</td>\n",
       "      <td>-0.028999</td>\n",
       "      <td>-0.052657</td>\n",
       "      <td>-0.012865</td>\n",
       "      <td>...</td>\n",
       "      <td>-0.092291</td>\n",
       "      <td>-0.044274</td>\n",
       "      <td>0.076023</td>\n",
       "      <td>0.082311</td>\n",
       "      <td>0.097267</td>\n",
       "      <td>0.010205</td>\n",
       "      <td>-0.041626</td>\n",
       "      <td>0.090182</td>\n",
       "      <td>0.083187</td>\n",
       "      <td>-0.039546</td>\n",
       "    </tr>\n",
       "    <tr>\n",
       "      <th>ed-51-100</th>\n",
       "      <td>-0.083050</td>\n",
       "      <td>0.003625</td>\n",
       "      <td>0.020129</td>\n",
       "      <td>-0.182458</td>\n",
       "      <td>0.134883</td>\n",
       "      <td>0.047237</td>\n",
       "      <td>-0.016443</td>\n",
       "      <td>-0.009444</td>\n",
       "      <td>-0.070877</td>\n",
       "      <td>-0.001321</td>\n",
       "      <td>...</td>\n",
       "      <td>-0.156281</td>\n",
       "      <td>-0.086795</td>\n",
       "      <td>0.025008</td>\n",
       "      <td>0.050335</td>\n",
       "      <td>0.009855</td>\n",
       "      <td>0.068493</td>\n",
       "      <td>-0.086435</td>\n",
       "      <td>0.061737</td>\n",
       "      <td>0.039637</td>\n",
       "      <td>-0.091848</td>\n",
       "    </tr>\n",
       "    <tr>\n",
       "      <th>signed</th>\n",
       "      <td>0.014585</td>\n",
       "      <td>0.003951</td>\n",
       "      <td>0.030433</td>\n",
       "      <td>0.037677</td>\n",
       "      <td>-0.035330</td>\n",
       "      <td>-0.023619</td>\n",
       "      <td>-0.089409</td>\n",
       "      <td>-0.206040</td>\n",
       "      <td>-0.003962</td>\n",
       "      <td>-0.018551</td>\n",
       "      <td>...</td>\n",
       "      <td>0.030919</td>\n",
       "      <td>0.090927</td>\n",
       "      <td>0.046909</td>\n",
       "      <td>0.022694</td>\n",
       "      <td>0.293260</td>\n",
       "      <td>-0.073839</td>\n",
       "      <td>0.099760</td>\n",
       "      <td>0.025751</td>\n",
       "      <td>0.056645</td>\n",
       "      <td>-0.063616</td>\n",
       "    </tr>\n",
       "    <tr>\n",
       "      <th>log_price</th>\n",
       "      <td>0.810925</td>\n",
       "      <td>0.174134</td>\n",
       "      <td>0.330141</td>\n",
       "      <td>0.023457</td>\n",
       "      <td>0.038590</td>\n",
       "      <td>-0.111578</td>\n",
       "      <td>-0.201698</td>\n",
       "      <td>-0.312174</td>\n",
       "      <td>-0.014942</td>\n",
       "      <td>0.004558</td>\n",
       "      <td>...</td>\n",
       "      <td>0.027402</td>\n",
       "      <td>0.094481</td>\n",
       "      <td>0.073172</td>\n",
       "      <td>0.041002</td>\n",
       "      <td>0.148223</td>\n",
       "      <td>-0.012720</td>\n",
       "      <td>0.098379</td>\n",
       "      <td>0.060540</td>\n",
       "      <td>0.086445</td>\n",
       "      <td>-0.009549</td>\n",
       "    </tr>\n",
       "    <tr>\n",
       "      <th>area</th>\n",
       "      <td>0.229364</td>\n",
       "      <td>0.676214</td>\n",
       "      <td>0.685175</td>\n",
       "      <td>0.044326</td>\n",
       "      <td>-0.012435</td>\n",
       "      <td>-0.035519</td>\n",
       "      <td>-0.034272</td>\n",
       "      <td>0.046865</td>\n",
       "      <td>-0.007353</td>\n",
       "      <td>-0.015457</td>\n",
       "      <td>...</td>\n",
       "      <td>0.032080</td>\n",
       "      <td>0.022153</td>\n",
       "      <td>-0.019997</td>\n",
       "      <td>-0.006360</td>\n",
       "      <td>0.081245</td>\n",
       "      <td>-0.011401</td>\n",
       "      <td>0.025558</td>\n",
       "      <td>-0.002652</td>\n",
       "      <td>-0.023186</td>\n",
       "      <td>-0.037805</td>\n",
       "    </tr>\n",
       "    <tr>\n",
       "      <th>log_area</th>\n",
       "      <td>0.363684</td>\n",
       "      <td>0.422318</td>\n",
       "      <td>0.784600</td>\n",
       "      <td>-0.012824</td>\n",
       "      <td>0.025105</td>\n",
       "      <td>-0.043451</td>\n",
       "      <td>-0.094549</td>\n",
       "      <td>-0.024087</td>\n",
       "      <td>-0.132994</td>\n",
       "      <td>-0.037536</td>\n",
       "      <td>...</td>\n",
       "      <td>-0.022680</td>\n",
       "      <td>0.010346</td>\n",
       "      <td>0.020403</td>\n",
       "      <td>0.010184</td>\n",
       "      <td>0.096740</td>\n",
       "      <td>0.006809</td>\n",
       "      <td>0.014176</td>\n",
       "      <td>0.021208</td>\n",
       "      <td>0.032862</td>\n",
       "      <td>-0.044045</td>\n",
       "    </tr>\n",
       "    <tr>\n",
       "      <th>cr-1960s-70s</th>\n",
       "      <td>-0.036835</td>\n",
       "      <td>-0.010880</td>\n",
       "      <td>-0.015294</td>\n",
       "      <td>-0.617999</td>\n",
       "      <td>0.160736</td>\n",
       "      <td>0.195870</td>\n",
       "      <td>-0.014828</td>\n",
       "      <td>-0.057848</td>\n",
       "      <td>-0.060293</td>\n",
       "      <td>-0.014778</td>\n",
       "      <td>...</td>\n",
       "      <td>-0.460143</td>\n",
       "      <td>-0.129776</td>\n",
       "      <td>0.058429</td>\n",
       "      <td>-0.076766</td>\n",
       "      <td>-0.308000</td>\n",
       "      <td>0.228969</td>\n",
       "      <td>-0.140055</td>\n",
       "      <td>-0.085776</td>\n",
       "      <td>0.046877</td>\n",
       "      <td>0.062685</td>\n",
       "    </tr>\n",
       "    <tr>\n",
       "      <th>cr-1980s-90s</th>\n",
       "      <td>0.064084</td>\n",
       "      <td>0.002405</td>\n",
       "      <td>0.015905</td>\n",
       "      <td>-0.321961</td>\n",
       "      <td>0.195410</td>\n",
       "      <td>0.059623</td>\n",
       "      <td>-0.004217</td>\n",
       "      <td>-0.052773</td>\n",
       "      <td>-0.057107</td>\n",
       "      <td>-0.012761</td>\n",
       "      <td>...</td>\n",
       "      <td>-0.221869</td>\n",
       "      <td>-0.044900</td>\n",
       "      <td>0.116955</td>\n",
       "      <td>0.051547</td>\n",
       "      <td>-0.009860</td>\n",
       "      <td>0.101367</td>\n",
       "      <td>-0.046162</td>\n",
       "      <td>0.059266</td>\n",
       "      <td>0.116956</td>\n",
       "      <td>0.010555</td>\n",
       "    </tr>\n",
       "    <tr>\n",
       "      <th>cr-2000s</th>\n",
       "      <td>0.034187</td>\n",
       "      <td>-0.001234</td>\n",
       "      <td>0.025505</td>\n",
       "      <td>-0.056289</td>\n",
       "      <td>0.113596</td>\n",
       "      <td>-0.001548</td>\n",
       "      <td>-0.003429</td>\n",
       "      <td>-0.071463</td>\n",
       "      <td>-0.041812</td>\n",
       "      <td>-0.005183</td>\n",
       "      <td>...</td>\n",
       "      <td>-0.056508</td>\n",
       "      <td>-0.009106</td>\n",
       "      <td>0.066590</td>\n",
       "      <td>0.131338</td>\n",
       "      <td>0.174575</td>\n",
       "      <td>-0.026825</td>\n",
       "      <td>-0.005274</td>\n",
       "      <td>0.138117</td>\n",
       "      <td>0.110836</td>\n",
       "      <td>-0.090608</td>\n",
       "    </tr>\n",
       "    <tr>\n",
       "      <th>cr-2010s</th>\n",
       "      <td>-0.000469</td>\n",
       "      <td>0.008989</td>\n",
       "      <td>-0.001746</td>\n",
       "      <td>0.738230</td>\n",
       "      <td>-0.320560</td>\n",
       "      <td>-0.156774</td>\n",
       "      <td>-0.001309</td>\n",
       "      <td>-0.055437</td>\n",
       "      <td>0.133817</td>\n",
       "      <td>0.028494</td>\n",
       "      <td>...</td>\n",
       "      <td>0.530934</td>\n",
       "      <td>0.161428</td>\n",
       "      <td>-0.136924</td>\n",
       "      <td>-0.063669</td>\n",
       "      <td>0.237180</td>\n",
       "      <td>-0.218643</td>\n",
       "      <td>0.169878</td>\n",
       "      <td>-0.069367</td>\n",
       "      <td>-0.156368</td>\n",
       "      <td>0.020339</td>\n",
       "    </tr>\n",
       "    <tr>\n",
       "      <th>cr-pre-1960</th>\n",
       "      <td>-0.030252</td>\n",
       "      <td>-0.023157</td>\n",
       "      <td>-0.047085</td>\n",
       "      <td>-0.584860</td>\n",
       "      <td>0.030821</td>\n",
       "      <td>0.060907</td>\n",
       "      <td>-0.005659</td>\n",
       "      <td>-0.030160</td>\n",
       "      <td>-0.040259</td>\n",
       "      <td>-0.007921</td>\n",
       "      <td>...</td>\n",
       "      <td>-0.294737</td>\n",
       "      <td>-0.118671</td>\n",
       "      <td>-0.010836</td>\n",
       "      <td>-0.055064</td>\n",
       "      <td>-0.337102</td>\n",
       "      <td>0.109723</td>\n",
       "      <td>-0.129620</td>\n",
       "      <td>-0.060017</td>\n",
       "      <td>-0.024792</td>\n",
       "      <td>0.031011</td>\n",
       "    </tr>\n",
       "    <tr>\n",
       "      <th>blue-chip</th>\n",
       "      <td>0.018961</td>\n",
       "      <td>-0.006826</td>\n",
       "      <td>-0.035986</td>\n",
       "      <td>-0.247498</td>\n",
       "      <td>0.596671</td>\n",
       "      <td>0.343360</td>\n",
       "      <td>0.074646</td>\n",
       "      <td>0.289674</td>\n",
       "      <td>-0.068495</td>\n",
       "      <td>-0.009522</td>\n",
       "      <td>...</td>\n",
       "      <td>-0.468733</td>\n",
       "      <td>-0.093179</td>\n",
       "      <td>0.139343</td>\n",
       "      <td>0.140417</td>\n",
       "      <td>-0.251310</td>\n",
       "      <td>0.393572</td>\n",
       "      <td>-0.093046</td>\n",
       "      <td>0.140571</td>\n",
       "      <td>0.191064</td>\n",
       "      <td>-0.027383</td>\n",
       "    </tr>\n",
       "    <tr>\n",
       "      <th>established</th>\n",
       "      <td>0.044248</td>\n",
       "      <td>0.017035</td>\n",
       "      <td>0.006488</td>\n",
       "      <td>-0.191784</td>\n",
       "      <td>0.592331</td>\n",
       "      <td>0.004857</td>\n",
       "      <td>0.027629</td>\n",
       "      <td>0.015155</td>\n",
       "      <td>-0.067659</td>\n",
       "      <td>-0.018210</td>\n",
       "      <td>...</td>\n",
       "      <td>-0.269781</td>\n",
       "      <td>-0.025889</td>\n",
       "      <td>0.264190</td>\n",
       "      <td>0.172963</td>\n",
       "      <td>0.223250</td>\n",
       "      <td>-0.003614</td>\n",
       "      <td>-0.020188</td>\n",
       "      <td>0.184021</td>\n",
       "      <td>0.292125</td>\n",
       "      <td>0.173175</td>\n",
       "    </tr>\n",
       "    <tr>\n",
       "      <th>non-strategic</th>\n",
       "      <td>-0.121696</td>\n",
       "      <td>-0.024159</td>\n",
       "      <td>0.000484</td>\n",
       "      <td>0.078704</td>\n",
       "      <td>-0.742242</td>\n",
       "      <td>-0.089248</td>\n",
       "      <td>-0.040749</td>\n",
       "      <td>-0.115021</td>\n",
       "      <td>0.080702</td>\n",
       "      <td>-0.028027</td>\n",
       "      <td>...</td>\n",
       "      <td>0.189296</td>\n",
       "      <td>-0.073826</td>\n",
       "      <td>-0.204054</td>\n",
       "      <td>-0.267916</td>\n",
       "      <td>-0.147306</td>\n",
       "      <td>-0.113081</td>\n",
       "      <td>-0.086547</td>\n",
       "      <td>-0.294611</td>\n",
       "      <td>-0.270317</td>\n",
       "      <td>-0.038343</td>\n",
       "    </tr>\n",
       "    <tr>\n",
       "      <th>rising-star</th>\n",
       "      <td>0.036160</td>\n",
       "      <td>-0.003812</td>\n",
       "      <td>-0.006573</td>\n",
       "      <td>0.068934</td>\n",
       "      <td>0.080098</td>\n",
       "      <td>-0.014832</td>\n",
       "      <td>-0.002050</td>\n",
       "      <td>-0.002359</td>\n",
       "      <td>-0.011978</td>\n",
       "      <td>0.001373</td>\n",
       "      <td>...</td>\n",
       "      <td>0.111086</td>\n",
       "      <td>0.067221</td>\n",
       "      <td>0.011797</td>\n",
       "      <td>0.146621</td>\n",
       "      <td>0.130783</td>\n",
       "      <td>-0.046034</td>\n",
       "      <td>0.072761</td>\n",
       "      <td>0.164686</td>\n",
       "      <td>0.039259</td>\n",
       "      <td>-0.017942</td>\n",
       "    </tr>\n",
       "    <tr>\n",
       "      <th>up-and-coming</th>\n",
       "      <td>0.054902</td>\n",
       "      <td>0.015435</td>\n",
       "      <td>0.020144</td>\n",
       "      <td>0.221562</td>\n",
       "      <td>-0.224032</td>\n",
       "      <td>-0.103467</td>\n",
       "      <td>-0.032678</td>\n",
       "      <td>-0.087603</td>\n",
       "      <td>0.031407</td>\n",
       "      <td>0.052000</td>\n",
       "      <td>...</td>\n",
       "      <td>0.363450</td>\n",
       "      <td>0.131496</td>\n",
       "      <td>-0.135613</td>\n",
       "      <td>-0.048279</td>\n",
       "      <td>0.082625</td>\n",
       "      <td>-0.120727</td>\n",
       "      <td>0.136621</td>\n",
       "      <td>-0.039654</td>\n",
       "      <td>-0.140766</td>\n",
       "      <td>-0.133956</td>\n",
       "    </tr>\n",
       "    <tr>\n",
       "      <th>birth_year</th>\n",
       "      <td>-0.019432</td>\n",
       "      <td>0.006985</td>\n",
       "      <td>0.021584</td>\n",
       "      <td>0.706212</td>\n",
       "      <td>-0.536700</td>\n",
       "      <td>-0.257732</td>\n",
       "      <td>-0.049619</td>\n",
       "      <td>-0.166708</td>\n",
       "      <td>0.149900</td>\n",
       "      <td>0.039456</td>\n",
       "      <td>...</td>\n",
       "      <td>1.000000</td>\n",
       "      <td>0.245388</td>\n",
       "      <td>-0.272990</td>\n",
       "      <td>-0.080226</td>\n",
       "      <td>0.820013</td>\n",
       "      <td>-0.483736</td>\n",
       "      <td>0.258014</td>\n",
       "      <td>-0.071307</td>\n",
       "      <td>-0.315524</td>\n",
       "      <td>-0.193131</td>\n",
       "    </tr>\n",
       "    <tr>\n",
       "      <th>degrees_n</th>\n",
       "      <td>0.062038</td>\n",
       "      <td>0.015630</td>\n",
       "      <td>0.019382</td>\n",
       "      <td>0.207251</td>\n",
       "      <td>-0.040723</td>\n",
       "      <td>-0.075592</td>\n",
       "      <td>-0.021296</td>\n",
       "      <td>-0.067340</td>\n",
       "      <td>0.092933</td>\n",
       "      <td>0.033451</td>\n",
       "      <td>...</td>\n",
       "      <td>0.245388</td>\n",
       "      <td>1.000000</td>\n",
       "      <td>0.106303</td>\n",
       "      <td>0.047540</td>\n",
       "      <td>0.151494</td>\n",
       "      <td>-0.042710</td>\n",
       "      <td>0.957962</td>\n",
       "      <td>0.055560</td>\n",
       "      <td>0.145503</td>\n",
       "      <td>0.254909</td>\n",
       "    </tr>\n",
       "    <tr>\n",
       "      <th>museums_n</th>\n",
       "      <td>0.083217</td>\n",
       "      <td>-0.006063</td>\n",
       "      <td>-0.003809</td>\n",
       "      <td>-0.111338</td>\n",
       "      <td>0.318572</td>\n",
       "      <td>0.033425</td>\n",
       "      <td>0.026531</td>\n",
       "      <td>0.048027</td>\n",
       "      <td>-0.057458</td>\n",
       "      <td>-0.014516</td>\n",
       "      <td>...</td>\n",
       "      <td>-0.272990</td>\n",
       "      <td>0.106303</td>\n",
       "      <td>1.000000</td>\n",
       "      <td>0.242185</td>\n",
       "      <td>-0.112596</td>\n",
       "      <td>0.139799</td>\n",
       "      <td>0.123682</td>\n",
       "      <td>0.244322</td>\n",
       "      <td>0.848747</td>\n",
       "      <td>0.860095</td>\n",
       "    </tr>\n",
       "    <tr>\n",
       "      <th>galleries_n</th>\n",
       "      <td>0.068395</td>\n",
       "      <td>0.003718</td>\n",
       "      <td>-0.005160</td>\n",
       "      <td>0.029865</td>\n",
       "      <td>0.306075</td>\n",
       "      <td>0.029685</td>\n",
       "      <td>0.032479</td>\n",
       "      <td>0.092830</td>\n",
       "      <td>-0.069000</td>\n",
       "      <td>-0.009576</td>\n",
       "      <td>...</td>\n",
       "      <td>-0.080226</td>\n",
       "      <td>0.047540</td>\n",
       "      <td>0.242185</td>\n",
       "      <td>1.000000</td>\n",
       "      <td>0.395248</td>\n",
       "      <td>-0.033708</td>\n",
       "      <td>0.061952</td>\n",
       "      <td>0.967381</td>\n",
       "      <td>0.340021</td>\n",
       "      <td>0.087356</td>\n",
       "    </tr>\n",
       "    <tr>\n",
       "      <th>artist_death</th>\n",
       "      <td>0.072614</td>\n",
       "      <td>0.082955</td>\n",
       "      <td>0.096430</td>\n",
       "      <td>0.539850</td>\n",
       "      <td>-0.119933</td>\n",
       "      <td>-0.079028</td>\n",
       "      <td>-0.046954</td>\n",
       "      <td>-0.064052</td>\n",
       "      <td>0.062398</td>\n",
       "      <td>-0.006824</td>\n",
       "      <td>...</td>\n",
       "      <td>0.820013</td>\n",
       "      <td>0.151494</td>\n",
       "      <td>-0.112596</td>\n",
       "      <td>0.395248</td>\n",
       "      <td>1.000000</td>\n",
       "      <td>-0.967028</td>\n",
       "      <td>0.166458</td>\n",
       "      <td>0.470163</td>\n",
       "      <td>-0.123613</td>\n",
       "      <td>-0.280557</td>\n",
       "    </tr>\n",
       "    <tr>\n",
       "      <th>dead</th>\n",
       "      <td>0.031859</td>\n",
       "      <td>-0.000157</td>\n",
       "      <td>-0.010490</td>\n",
       "      <td>-0.316107</td>\n",
       "      <td>0.281560</td>\n",
       "      <td>0.127326</td>\n",
       "      <td>0.062589</td>\n",
       "      <td>0.132622</td>\n",
       "      <td>-0.048572</td>\n",
       "      <td>-0.006703</td>\n",
       "      <td>...</td>\n",
       "      <td>-0.483736</td>\n",
       "      <td>-0.042710</td>\n",
       "      <td>0.139799</td>\n",
       "      <td>-0.033708</td>\n",
       "      <td>-0.967028</td>\n",
       "      <td>1.000000</td>\n",
       "      <td>-0.043850</td>\n",
       "      <td>-0.040034</td>\n",
       "      <td>0.156521</td>\n",
       "      <td>0.087404</td>\n",
       "    </tr>\n",
       "    <tr>\n",
       "      <th>degrees_cat</th>\n",
       "      <td>0.065741</td>\n",
       "      <td>0.017432</td>\n",
       "      <td>0.022446</td>\n",
       "      <td>0.222016</td>\n",
       "      <td>-0.032124</td>\n",
       "      <td>-0.081147</td>\n",
       "      <td>-0.019411</td>\n",
       "      <td>-0.065904</td>\n",
       "      <td>0.099490</td>\n",
       "      <td>0.037181</td>\n",
       "      <td>...</td>\n",
       "      <td>0.258014</td>\n",
       "      <td>0.957962</td>\n",
       "      <td>0.123682</td>\n",
       "      <td>0.061952</td>\n",
       "      <td>0.166458</td>\n",
       "      <td>-0.043850</td>\n",
       "      <td>1.000000</td>\n",
       "      <td>0.071805</td>\n",
       "      <td>0.168655</td>\n",
       "      <td>0.269677</td>\n",
       "    </tr>\n",
       "    <tr>\n",
       "      <th>galleries_cat</th>\n",
       "      <td>0.083977</td>\n",
       "      <td>0.009197</td>\n",
       "      <td>-0.002203</td>\n",
       "      <td>0.031377</td>\n",
       "      <td>0.324477</td>\n",
       "      <td>0.031275</td>\n",
       "      <td>0.025832</td>\n",
       "      <td>0.090069</td>\n",
       "      <td>-0.074942</td>\n",
       "      <td>-0.008364</td>\n",
       "      <td>...</td>\n",
       "      <td>-0.071307</td>\n",
       "      <td>0.055560</td>\n",
       "      <td>0.244322</td>\n",
       "      <td>0.967381</td>\n",
       "      <td>0.470163</td>\n",
       "      <td>-0.040034</td>\n",
       "      <td>0.071805</td>\n",
       "      <td>1.000000</td>\n",
       "      <td>0.348440</td>\n",
       "      <td>0.054872</td>\n",
       "    </tr>\n",
       "    <tr>\n",
       "      <th>museums_cat</th>\n",
       "      <td>0.091072</td>\n",
       "      <td>-0.001285</td>\n",
       "      <td>-0.002223</td>\n",
       "      <td>-0.103952</td>\n",
       "      <td>0.394911</td>\n",
       "      <td>0.049193</td>\n",
       "      <td>0.027586</td>\n",
       "      <td>0.072700</td>\n",
       "      <td>-0.068360</td>\n",
       "      <td>-0.018371</td>\n",
       "      <td>...</td>\n",
       "      <td>-0.315524</td>\n",
       "      <td>0.145503</td>\n",
       "      <td>0.848747</td>\n",
       "      <td>0.340021</td>\n",
       "      <td>-0.123613</td>\n",
       "      <td>0.156521</td>\n",
       "      <td>0.168655</td>\n",
       "      <td>0.348440</td>\n",
       "      <td>1.000000</td>\n",
       "      <td>0.970193</td>\n",
       "    </tr>\n",
       "    <tr>\n",
       "      <th>log_museums_n</th>\n",
       "      <td>0.006539</td>\n",
       "      <td>-0.029277</td>\n",
       "      <td>-0.033173</td>\n",
       "      <td>-0.047563</td>\n",
       "      <td>0.105736</td>\n",
       "      <td>-0.046677</td>\n",
       "      <td>0.024668</td>\n",
       "      <td>0.026246</td>\n",
       "      <td>0.011370</td>\n",
       "      <td>-0.007075</td>\n",
       "      <td>...</td>\n",
       "      <td>-0.193131</td>\n",
       "      <td>0.254909</td>\n",
       "      <td>0.860095</td>\n",
       "      <td>0.087356</td>\n",
       "      <td>-0.280557</td>\n",
       "      <td>0.087404</td>\n",
       "      <td>0.269677</td>\n",
       "      <td>0.054872</td>\n",
       "      <td>0.970193</td>\n",
       "      <td>1.000000</td>\n",
       "    </tr>\n",
       "  </tbody>\n",
       "</table>\n",
       "<p>49 rows × 49 columns</p>\n",
       "</div>"
      ],
      "text/plain": [
       "                    price    height     width  year_created  fame_cat  \\\n",
       "price            1.000000  0.180195  0.325556      0.016345  0.084873   \n",
       "height           0.180195  1.000000  0.318734      0.023301  0.013484   \n",
       "width            0.325556  0.318734  1.000000      0.031391 -0.020079   \n",
       "year_created     0.016345  0.023301  0.031391      1.000000 -0.287378   \n",
       "fame_cat         0.084873  0.013484 -0.020079     -0.287378  1.000000   \n",
       "edition_size    -0.089053 -0.020746 -0.057816     -0.229337  0.231813   \n",
       "book            -0.074003 -0.035092 -0.067890      0.016033  0.077910   \n",
       "decorative-arts -0.160643  0.028834  0.009580      0.082434  0.233356   \n",
       "mixed-media      0.001043 -0.026888 -0.061333      0.114996 -0.113517   \n",
       "new-media       -0.005054 -0.013814 -0.031707      0.020499 -0.007567   \n",
       "no-medium        0.029378 -0.001710  0.001395      0.006933  0.009218   \n",
       "painting         0.237791  0.081263  0.147602      0.164855 -0.220335   \n",
       "photograph      -0.033319 -0.046446 -0.013640     -0.071911 -0.129268   \n",
       "print           -0.091323  0.041962  0.061452     -0.284628  0.345861   \n",
       "sculpture        0.074666 -0.028485 -0.127502      0.105049 -0.081227   \n",
       "work-on-paper   -0.000406 -0.050999 -0.057398      0.090621 -0.149243   \n",
       "unique           0.189716 -0.002469 -0.015195      0.302873 -0.385724   \n",
       "edition_size2   -0.075086 -0.023190 -0.094254     -0.198523  0.200805   \n",
       "log_edition     -0.203557 -0.024701 -0.128832     -0.431567  0.340861   \n",
       "ed-1             0.182860 -0.000219 -0.009677      0.278181 -0.372163   \n",
       "ed-101-more     -0.111878 -0.020324 -0.055975     -0.374318  0.177720   \n",
       "ed-11-30        -0.044586 -0.016014 -0.016791      0.010674  0.114366   \n",
       "ed-2-10          0.046150  0.013115  0.068935      0.108099 -0.097967   \n",
       "ed-31-50        -0.029013  0.030204  0.002768     -0.049551  0.147388   \n",
       "ed-51-100       -0.083050  0.003625  0.020129     -0.182458  0.134883   \n",
       "signed           0.014585  0.003951  0.030433      0.037677 -0.035330   \n",
       "log_price        0.810925  0.174134  0.330141      0.023457  0.038590   \n",
       "area             0.229364  0.676214  0.685175      0.044326 -0.012435   \n",
       "log_area         0.363684  0.422318  0.784600     -0.012824  0.025105   \n",
       "cr-1960s-70s    -0.036835 -0.010880 -0.015294     -0.617999  0.160736   \n",
       "cr-1980s-90s     0.064084  0.002405  0.015905     -0.321961  0.195410   \n",
       "cr-2000s         0.034187 -0.001234  0.025505     -0.056289  0.113596   \n",
       "cr-2010s        -0.000469  0.008989 -0.001746      0.738230 -0.320560   \n",
       "cr-pre-1960     -0.030252 -0.023157 -0.047085     -0.584860  0.030821   \n",
       "blue-chip        0.018961 -0.006826 -0.035986     -0.247498  0.596671   \n",
       "established      0.044248  0.017035  0.006488     -0.191784  0.592331   \n",
       "non-strategic   -0.121696 -0.024159  0.000484      0.078704 -0.742242   \n",
       "rising-star      0.036160 -0.003812 -0.006573      0.068934  0.080098   \n",
       "up-and-coming    0.054902  0.015435  0.020144      0.221562 -0.224032   \n",
       "birth_year      -0.019432  0.006985  0.021584      0.706212 -0.536700   \n",
       "degrees_n        0.062038  0.015630  0.019382      0.207251 -0.040723   \n",
       "museums_n        0.083217 -0.006063 -0.003809     -0.111338  0.318572   \n",
       "galleries_n      0.068395  0.003718 -0.005160      0.029865  0.306075   \n",
       "artist_death     0.072614  0.082955  0.096430      0.539850 -0.119933   \n",
       "dead             0.031859 -0.000157 -0.010490     -0.316107  0.281560   \n",
       "degrees_cat      0.065741  0.017432  0.022446      0.222016 -0.032124   \n",
       "galleries_cat    0.083977  0.009197 -0.002203      0.031377  0.324477   \n",
       "museums_cat      0.091072 -0.001285 -0.002223     -0.103952  0.394911   \n",
       "log_museums_n    0.006539 -0.029277 -0.033173     -0.047563  0.105736   \n",
       "\n",
       "                 edition_size      book  decorative-arts  mixed-media  \\\n",
       "price               -0.089053 -0.074003        -0.160643     0.001043   \n",
       "height              -0.020746 -0.035092         0.028834    -0.026888   \n",
       "width               -0.057816 -0.067890         0.009580    -0.061333   \n",
       "year_created        -0.229337  0.016033         0.082434     0.114996   \n",
       "fame_cat             0.231813  0.077910         0.233356    -0.113517   \n",
       "edition_size         1.000000  0.034914         0.169950    -0.031936   \n",
       "book                 0.034914  1.000000        -0.020843    -0.027089   \n",
       "decorative-arts      0.169950 -0.020843         1.000000    -0.076883   \n",
       "mixed-media         -0.031936 -0.027089        -0.076883     1.000000   \n",
       "new-media           -0.002734 -0.005115        -0.014518    -0.018868   \n",
       "no-medium            0.000566 -0.003345        -0.009494    -0.012340   \n",
       "painting            -0.087779 -0.032636        -0.092626    -0.120384   \n",
       "photograph          -0.039978 -0.041265        -0.117115    -0.152212   \n",
       "print                0.126777 -0.061898        -0.175675    -0.228321   \n",
       "sculpture           -0.028516 -0.024088        -0.068364    -0.088852   \n",
       "work-on-paper       -0.080013 -0.030126        -0.085502    -0.111126   \n",
       "unique              -0.192137 -0.024967        -0.078036     0.240445   \n",
       "edition_size2        1.000000  0.031707         0.174635     0.030125   \n",
       "log_edition          0.544651  0.061106         0.163470    -0.026173   \n",
       "ed-1                -0.192137 -0.062768        -0.150347     0.235539   \n",
       "ed-101-more          0.497510  0.002466         0.038254    -0.058939   \n",
       "ed-11-30            -0.059888 -0.035289        -0.060166    -0.074409   \n",
       "ed-2-10             -0.084739 -0.032972        -0.077104    -0.058435   \n",
       "ed-31-50            -0.010561 -0.015783        -0.028999    -0.052657   \n",
       "ed-51-100            0.047237 -0.016443        -0.009444    -0.070877   \n",
       "signed              -0.023619 -0.089409        -0.206040    -0.003962   \n",
       "log_price           -0.111578 -0.201698        -0.312174    -0.014942   \n",
       "area                -0.035519 -0.034272         0.046865    -0.007353   \n",
       "log_area            -0.043451 -0.094549        -0.024087    -0.132994   \n",
       "cr-1960s-70s         0.195870 -0.014828        -0.057848    -0.060293   \n",
       "cr-1980s-90s         0.059623 -0.004217        -0.052773    -0.057107   \n",
       "cr-2000s            -0.001548 -0.003429        -0.071463    -0.041812   \n",
       "cr-2010s            -0.156774 -0.001309        -0.055437     0.133817   \n",
       "cr-pre-1960          0.060907 -0.005659        -0.030160    -0.040259   \n",
       "blue-chip            0.343360  0.074646         0.289674    -0.068495   \n",
       "established          0.004857  0.027629         0.015155    -0.067659   \n",
       "non-strategic       -0.089248 -0.040749        -0.115021     0.080702   \n",
       "rising-star         -0.014832 -0.002050        -0.002359    -0.011978   \n",
       "up-and-coming       -0.103467 -0.032678        -0.087603     0.031407   \n",
       "birth_year          -0.257732 -0.049619        -0.166708     0.149900   \n",
       "degrees_n           -0.075592 -0.021296        -0.067340     0.092933   \n",
       "museums_n            0.033425  0.026531         0.048027    -0.057458   \n",
       "galleries_n          0.029685  0.032479         0.092830    -0.069000   \n",
       "artist_death        -0.079028 -0.046954        -0.064052     0.062398   \n",
       "dead                 0.127326  0.062589         0.132622    -0.048572   \n",
       "degrees_cat         -0.081147 -0.019411        -0.065904     0.099490   \n",
       "galleries_cat        0.031275  0.025832         0.090069    -0.074942   \n",
       "museums_cat          0.049193  0.027586         0.072700    -0.068360   \n",
       "log_museums_n       -0.046677  0.024668         0.026246     0.011370   \n",
       "\n",
       "                 new-media      ...        birth_year  degrees_n  museums_n  \\\n",
       "price            -0.005054      ...         -0.019432   0.062038   0.083217   \n",
       "height           -0.013814      ...          0.006985   0.015630  -0.006063   \n",
       "width            -0.031707      ...          0.021584   0.019382  -0.003809   \n",
       "year_created      0.020499      ...          0.706212   0.207251  -0.111338   \n",
       "fame_cat         -0.007567      ...         -0.536700  -0.040723   0.318572   \n",
       "edition_size     -0.002734      ...         -0.257732  -0.075592   0.033425   \n",
       "book             -0.005115      ...         -0.049619  -0.021296   0.026531   \n",
       "decorative-arts  -0.014518      ...         -0.166708  -0.067340   0.048027   \n",
       "mixed-media      -0.018868      ...          0.149900   0.092933  -0.057458   \n",
       "new-media         1.000000      ...          0.039456   0.033451  -0.014516   \n",
       "no-medium        -0.002330      ...          0.009581  -0.013362  -0.010511   \n",
       "painting         -0.022732      ...          0.199247   0.082085  -0.104039   \n",
       "photograph       -0.028742      ...          0.106584  -0.058502  -0.056612   \n",
       "print            -0.043113      ...         -0.354245  -0.035019   0.184320   \n",
       "sculpture        -0.016778      ...          0.114533   0.030286  -0.040210   \n",
       "work-on-paper    -0.020983      ...          0.127885  -0.021102  -0.050442   \n",
       "unique           -0.006939      ...          0.365286   0.117149  -0.160193   \n",
       "edition_size2    -0.005204      ...         -0.233923  -0.072953   0.003040   \n",
       "log_edition      -0.043707      ...         -0.470929  -0.240855   0.036699   \n",
       "ed-1             -0.002618      ...          0.349782   0.131811  -0.146108   \n",
       "ed-101-more       0.004282      ...         -0.289726  -0.125813   0.020036   \n",
       "ed-11-30         -0.018525      ...         -0.036192   0.024753   0.108031   \n",
       "ed-2-10           0.043823      ...          0.154461   0.077235  -0.008910   \n",
       "ed-31-50         -0.012865      ...         -0.092291  -0.044274   0.076023   \n",
       "ed-51-100        -0.001321      ...         -0.156281  -0.086795   0.025008   \n",
       "signed           -0.018551      ...          0.030919   0.090927   0.046909   \n",
       "log_price         0.004558      ...          0.027402   0.094481   0.073172   \n",
       "area             -0.015457      ...          0.032080   0.022153  -0.019997   \n",
       "log_area         -0.037536      ...         -0.022680   0.010346   0.020403   \n",
       "cr-1960s-70s     -0.014778      ...         -0.460143  -0.129776   0.058429   \n",
       "cr-1980s-90s     -0.012761      ...         -0.221869  -0.044900   0.116955   \n",
       "cr-2000s         -0.005183      ...         -0.056508  -0.009106   0.066590   \n",
       "cr-2010s          0.028494      ...          0.530934   0.161428  -0.136924   \n",
       "cr-pre-1960      -0.007921      ...         -0.294737  -0.118671  -0.010836   \n",
       "blue-chip        -0.009522      ...         -0.468733  -0.093179   0.139343   \n",
       "established      -0.018210      ...         -0.269781  -0.025889   0.264190   \n",
       "non-strategic    -0.028027      ...          0.189296  -0.073826  -0.204054   \n",
       "rising-star       0.001373      ...          0.111086   0.067221   0.011797   \n",
       "up-and-coming     0.052000      ...          0.363450   0.131496  -0.135613   \n",
       "birth_year        0.039456      ...          1.000000   0.245388  -0.272990   \n",
       "degrees_n         0.033451      ...          0.245388   1.000000   0.106303   \n",
       "museums_n        -0.014516      ...         -0.272990   0.106303   1.000000   \n",
       "galleries_n      -0.009576      ...         -0.080226   0.047540   0.242185   \n",
       "artist_death     -0.006824      ...          0.820013   0.151494  -0.112596   \n",
       "dead             -0.006703      ...         -0.483736  -0.042710   0.139799   \n",
       "degrees_cat       0.037181      ...          0.258014   0.957962   0.123682   \n",
       "galleries_cat    -0.008364      ...         -0.071307   0.055560   0.244322   \n",
       "museums_cat      -0.018371      ...         -0.315524   0.145503   0.848747   \n",
       "log_museums_n    -0.007075      ...         -0.193131   0.254909   0.860095   \n",
       "\n",
       "                 galleries_n  artist_death      dead  degrees_cat  \\\n",
       "price               0.068395      0.072614  0.031859     0.065741   \n",
       "height              0.003718      0.082955 -0.000157     0.017432   \n",
       "width              -0.005160      0.096430 -0.010490     0.022446   \n",
       "year_created        0.029865      0.539850 -0.316107     0.222016   \n",
       "fame_cat            0.306075     -0.119933  0.281560    -0.032124   \n",
       "edition_size        0.029685     -0.079028  0.127326    -0.081147   \n",
       "book                0.032479     -0.046954  0.062589    -0.019411   \n",
       "decorative-arts     0.092830     -0.064052  0.132622    -0.065904   \n",
       "mixed-media        -0.069000      0.062398 -0.048572     0.099490   \n",
       "new-media          -0.009576     -0.006824 -0.006703     0.037181   \n",
       "no-medium           0.004896      0.028330 -0.007949    -0.013096   \n",
       "painting           -0.126003      0.056827 -0.077547     0.085088   \n",
       "photograph         -0.051800      0.135800 -0.093902    -0.062814   \n",
       "print               0.182064     -0.049463  0.152808    -0.041604   \n",
       "sculpture          -0.020725      0.054329 -0.048522     0.027536   \n",
       "work-on-paper      -0.072663     -0.018816 -0.059148    -0.014960   \n",
       "unique             -0.208972      0.019065 -0.127748     0.131960   \n",
       "edition_size2      -0.012784     -0.079758  0.109057    -0.077965   \n",
       "log_edition         0.049039     -0.286968  0.216260    -0.237782   \n",
       "ed-1               -0.183144      0.038314 -0.136622     0.145811   \n",
       "ed-101-more         0.022040     -0.138735  0.142134    -0.137248   \n",
       "ed-11-30            0.160748      0.167209 -0.032279     0.028301   \n",
       "ed-2-10            -0.027653      0.109674 -0.074475     0.063482   \n",
       "ed-31-50            0.082311      0.097267  0.010205    -0.041626   \n",
       "ed-51-100           0.050335      0.009855  0.068493    -0.086435   \n",
       "signed              0.022694      0.293260 -0.073839     0.099760   \n",
       "log_price           0.041002      0.148223 -0.012720     0.098379   \n",
       "area               -0.006360      0.081245 -0.011401     0.025558   \n",
       "log_area            0.010184      0.096740  0.006809     0.014176   \n",
       "cr-1960s-70s       -0.076766     -0.308000  0.228969    -0.140055   \n",
       "cr-1980s-90s        0.051547     -0.009860  0.101367    -0.046162   \n",
       "cr-2000s            0.131338      0.174575 -0.026825    -0.005274   \n",
       "cr-2010s           -0.063669      0.237180 -0.218643     0.169878   \n",
       "cr-pre-1960        -0.055064     -0.337102  0.109723    -0.129620   \n",
       "blue-chip           0.140417     -0.251310  0.393572    -0.093046   \n",
       "established         0.172963      0.223250 -0.003614    -0.020188   \n",
       "non-strategic      -0.267916     -0.147306 -0.113081    -0.086547   \n",
       "rising-star         0.146621      0.130783 -0.046034     0.072761   \n",
       "up-and-coming      -0.048279      0.082625 -0.120727     0.136621   \n",
       "birth_year         -0.080226      0.820013 -0.483736     0.258014   \n",
       "degrees_n           0.047540      0.151494 -0.042710     0.957962   \n",
       "museums_n           0.242185     -0.112596  0.139799     0.123682   \n",
       "galleries_n         1.000000      0.395248 -0.033708     0.061952   \n",
       "artist_death        0.395248      1.000000 -0.967028     0.166458   \n",
       "dead               -0.033708     -0.967028  1.000000    -0.043850   \n",
       "degrees_cat         0.061952      0.166458 -0.043850     1.000000   \n",
       "galleries_cat       0.967381      0.470163 -0.040034     0.071805   \n",
       "museums_cat         0.340021     -0.123613  0.156521     0.168655   \n",
       "log_museums_n       0.087356     -0.280557  0.087404     0.269677   \n",
       "\n",
       "                 galleries_cat  museums_cat  log_museums_n  \n",
       "price                 0.083977     0.091072       0.006539  \n",
       "height                0.009197    -0.001285      -0.029277  \n",
       "width                -0.002203    -0.002223      -0.033173  \n",
       "year_created          0.031377    -0.103952      -0.047563  \n",
       "fame_cat              0.324477     0.394911       0.105736  \n",
       "edition_size          0.031275     0.049193      -0.046677  \n",
       "book                  0.025832     0.027586       0.024668  \n",
       "decorative-arts       0.090069     0.072700       0.026246  \n",
       "mixed-media          -0.074942    -0.068360       0.011370  \n",
       "new-media            -0.008364    -0.018371      -0.007075  \n",
       "no-medium             0.007824    -0.007027      -0.037514  \n",
       "painting             -0.136028    -0.137083      -0.015520  \n",
       "photograph           -0.044654    -0.067254      -0.060760  \n",
       "print                 0.193922     0.226379       0.025132  \n",
       "sculpture            -0.021314    -0.051552       0.020376  \n",
       "work-on-paper        -0.079736    -0.064467      -0.004223  \n",
       "unique               -0.224923    -0.206348       0.038544  \n",
       "edition_size2        -0.014921     0.012006      -0.046037  \n",
       "log_edition           0.046986     0.051397      -0.125475  \n",
       "ed-1                 -0.196626    -0.187288       0.035582  \n",
       "ed-101-more           0.022003     0.022241      -0.047678  \n",
       "ed-11-30              0.163421     0.133223       0.046128  \n",
       "ed-2-10              -0.021148    -0.010152       0.072786  \n",
       "ed-31-50              0.090182     0.083187      -0.039546  \n",
       "ed-51-100             0.061737     0.039637      -0.091848  \n",
       "signed                0.025751     0.056645      -0.063616  \n",
       "log_price             0.060540     0.086445      -0.009549  \n",
       "area                 -0.002652    -0.023186      -0.037805  \n",
       "log_area              0.021208     0.032862      -0.044045  \n",
       "cr-1960s-70s         -0.085776     0.046877       0.062685  \n",
       "cr-1980s-90s          0.059266     0.116956       0.010555  \n",
       "cr-2000s              0.138117     0.110836      -0.090608  \n",
       "cr-2010s             -0.069367    -0.156368       0.020339  \n",
       "cr-pre-1960          -0.060017    -0.024792       0.031011  \n",
       "blue-chip             0.140571     0.191064      -0.027383  \n",
       "established           0.184021     0.292125       0.173175  \n",
       "non-strategic        -0.294611    -0.270317      -0.038343  \n",
       "rising-star           0.164686     0.039259      -0.017942  \n",
       "up-and-coming        -0.039654    -0.140766      -0.133956  \n",
       "birth_year           -0.071307    -0.315524      -0.193131  \n",
       "degrees_n             0.055560     0.145503       0.254909  \n",
       "museums_n             0.244322     0.848747       0.860095  \n",
       "galleries_n           0.967381     0.340021       0.087356  \n",
       "artist_death          0.470163    -0.123613      -0.280557  \n",
       "dead                 -0.040034     0.156521       0.087404  \n",
       "degrees_cat           0.071805     0.168655       0.269677  \n",
       "galleries_cat         1.000000     0.348440       0.054872  \n",
       "museums_cat           0.348440     1.000000       0.970193  \n",
       "log_museums_n         0.054872     0.970193       1.000000  \n",
       "\n",
       "[49 rows x 49 columns]"
      ]
     },
     "execution_count": 143,
     "metadata": {},
     "output_type": "execute_result"
    }
   ],
   "source": [
    "df2.corr()"
   ]
  },
  {
   "cell_type": "code",
   "execution_count": 144,
   "metadata": {
    "scrolled": true
   },
   "outputs": [
    {
     "data": {
      "text/plain": [
       "<matplotlib.axes._subplots.AxesSubplot at 0x1c2ba38048>"
      ]
     },
     "execution_count": 144,
     "metadata": {},
     "output_type": "execute_result"
    },
    {
     "data": {
      "image/png": "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\n",
      "text/plain": [
       "<Figure size 720x720 with 2 Axes>"
      ]
     },
     "metadata": {
      "needs_background": "light"
     },
     "output_type": "display_data"
    }
   ],
   "source": [
    "corr = df2.corr()\n",
    "fig, ax = plt.subplots(figsize=(10,10))         # Sample figsize in inches\n",
    "# sns.heatmap(df1.iloc[:, 1:6:], annot=True, linewidths=.5, ax=ax)\n",
    "sns.heatmap(corr, \n",
    "            xticklabels=corr.columns.values,\n",
    "            yticklabels=corr.columns.values, cmap=\"seismic\", vmin=-1, vmax=1, ax=ax)"
   ]
  },
  {
   "cell_type": "markdown",
   "metadata": {},
   "source": [
    "#### <a id=\"s5b\"></a>Step 5b: Model-building and feature engineering"
   ]
  },
  {
   "cell_type": "code",
   "execution_count": 145,
   "metadata": {},
   "outputs": [
    {
     "data": {
      "text/plain": [
       "Index(['artist', 'title', 'medium', 'price', 'height', 'width', 'year_created',\n",
       "       'location', 'fame_cat', 'styles', 'artwork_url', 'image_url',\n",
       "       'edition_size', 'authentication', 'physical_description', 'tags',\n",
       "       'book', 'decorative-arts', 'mixed-media', 'new-media', 'no-medium',\n",
       "       'painting', 'photograph', 'print', 'sculpture', 'work-on-paper',\n",
       "       'unique', 'edition_size2', 'log_edition', 'edition_grp', 'ed-1',\n",
       "       'ed-101-more', 'ed-11-30', 'ed-2-10', 'ed-31-50', 'ed-51-100', 'signed',\n",
       "       'log_price', 'area', 'log_area', 'created_cat', 'cr-1960s-70s',\n",
       "       'cr-1980s-90s', 'cr-2000s', 'cr-2010s', 'cr-pre-1960', 'blue-chip',\n",
       "       'established', 'non-strategic', 'rising-star', 'up-and-coming',\n",
       "       'name_lf', 'id', 'name_pretty', 'birth_year', 'hometown', 'lives_in',\n",
       "       'degrees', 'degrees_n', 'genres', 'museums', 'museums_n', 'galleries',\n",
       "       'galleries_n', 'name_last', 'artist_death', 'dead', 'degrees_cat',\n",
       "       'galleries_cat', 'museums_cat', 'log_museums_n'],\n",
       "      dtype='object')"
      ]
     },
     "execution_count": 145,
     "metadata": {},
     "output_type": "execute_result"
    }
   ],
   "source": [
    "df2.columns"
   ]
  },
  {
   "cell_type": "code",
   "execution_count": 146,
   "metadata": {},
   "outputs": [],
   "source": [
    "df_subset = df2[['log_price', 'birth_year', 'dead', 'log_area', 'book', \n",
    "               'decorative-arts', 'mixed-media', 'new-media',\n",
    "               'no-medium', 'photograph', 'print', 'sculpture',\n",
    "               'work-on-paper', 'signed', 'degrees_cat',\n",
    "               'museums_cat', 'galleries_cat',\n",
    "                'ed-1', 'ed-101-more', 'ed-11-30', 'ed-2-10', 'ed-31-50', \n",
    "                 'ed-51-100', 'fame_cat',\n",
    "               'up-and-coming', 'rising-star', 'established', 'blue-chip', \n",
    "               'cr-pre-1960', 'cr-1960s-70s', 'cr-1980s-90s', 'cr-2000s']]"
   ]
  },
  {
   "cell_type": "code",
   "execution_count": 147,
   "metadata": {},
   "outputs": [
    {
     "data": {
      "text/plain": [
       "(15774, 32)"
      ]
     },
     "execution_count": 147,
     "metadata": {},
     "output_type": "execute_result"
    }
   ],
   "source": [
    "df_subset.shape"
   ]
  },
  {
   "cell_type": "code",
   "execution_count": 148,
   "metadata": {},
   "outputs": [],
   "source": [
    "# df_subset.info()"
   ]
  },
  {
   "cell_type": "code",
   "execution_count": 149,
   "metadata": {},
   "outputs": [
    {
     "data": {
      "text/plain": [
       "<matplotlib.axes._subplots.AxesSubplot at 0x1c2b9fc4a8>"
      ]
     },
     "execution_count": 149,
     "metadata": {},
     "output_type": "execute_result"
    },
    {
     "data": {
      "image/png": "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\n",
      "text/plain": [
       "<Figure size 720x432 with 2 Axes>"
      ]
     },
     "metadata": {
      "needs_background": "light"
     },
     "output_type": "display_data"
    }
   ],
   "source": [
    "corr = df_subset.corr()\n",
    "fig, ax = plt.subplots(figsize=(10,6))         # Sample figsize in inches\n",
    "# sns.heatmap(df1.iloc[:, 1:6:], annot=True, linewidths=.5, ax=ax)\n",
    "sns.heatmap(corr, \n",
    "            xticklabels=corr.columns.values,\n",
    "            yticklabels=corr.columns.values, cmap=\"seismic\", vmin=-1, vmax=1, ax=ax)"
   ]
  },
  {
   "cell_type": "code",
   "execution_count": 150,
   "metadata": {},
   "outputs": [],
   "source": [
    "df_subset = df_subset.dropna()"
   ]
  },
  {
   "cell_type": "code",
   "execution_count": 151,
   "metadata": {},
   "outputs": [],
   "source": [
    "# df_subset.info()"
   ]
  },
  {
   "cell_type": "markdown",
   "metadata": {},
   "source": [
    "##### Model 1: Straight linear regression\n",
    "\n",
    "- Linear regression, no polynomial features\n",
    "- \"Fame\" included as ordinal\n",
    "- Living/dead not included"
   ]
  },
  {
   "cell_type": "code",
   "execution_count": 152,
   "metadata": {},
   "outputs": [],
   "source": [
    "#Separate our features from our target\n",
    "\n",
    "y = df_subset['log_price']\n",
    "\n",
    "X = df_subset[['birth_year', 'log_area', 'book', \n",
    "               'decorative-arts', 'mixed-media', 'new-media',\n",
    "               'no-medium', 'photograph', 'print', 'sculpture',\n",
    "               'work-on-paper', 'signed', 'degrees_cat',\n",
    "               'museums_cat', 'galleries_cat', 'ed-1',\n",
    "       'ed-101-more', 'ed-11-30', 'ed-2-10', 'ed-31-50', 'ed-51-100', \n",
    "               'fame_cat', \n",
    "               'cr-pre-1960', 'cr-1960s-70s', 'cr-1980s-90s', 'cr-2000s']]"
   ]
  },
  {
   "cell_type": "markdown",
   "metadata": {},
   "source": [
    "##### Test OLS assumption 2"
   ]
  },
  {
   "cell_type": "code",
   "execution_count": 153,
   "metadata": {},
   "outputs": [],
   "source": [
    "lr = LinearRegression()\n",
    "fit = lr.fit(X, y)"
   ]
  },
  {
   "cell_type": "code",
   "execution_count": 154,
   "metadata": {},
   "outputs": [
    {
     "data": {
      "image/png": "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\n",
      "text/plain": [
       "<Figure size 720x432 with 1 Axes>"
      ]
     },
     "metadata": {},
     "output_type": "display_data"
    }
   ],
   "source": [
    "# Plot your predicted values on the x-axis, and your residuals on the y-axis\n",
    "\n",
    "df_subset['predict']=fit.predict(X)\n",
    "df_subset['resid']=df_subset.log_price - df_subset.predict\n",
    "with sns.axes_style('white'):\n",
    "    plot=df_subset.plot(kind='scatter',\n",
    "                  x='predict',y='resid',alpha=0.2,figsize=(10,6))"
   ]
  },
  {
   "cell_type": "code",
   "execution_count": 155,
   "metadata": {},
   "outputs": [
    {
     "data": {
      "image/png": "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\n",
      "text/plain": [
       "<Figure size 432x288 with 1 Axes>"
      ]
     },
     "metadata": {
      "needs_background": "light"
     },
     "output_type": "display_data"
    }
   ],
   "source": [
    "# diagnose/inspect residual normality using qqplot:\n",
    "stats.probplot(df_subset['resid'], dist=\"norm\", plot=plt)\n",
    "plt.title(\"Normal Q-Q plot\")\n",
    "plt.show()"
   ]
  },
  {
   "cell_type": "markdown",
   "metadata": {},
   "source": [
    "##### Test OLS assumption 3"
   ]
  },
  {
   "cell_type": "code",
   "execution_count": 156,
   "metadata": {},
   "outputs": [
    {
     "data": {
      "text/html": [
       "<table class=\"simpletable\">\n",
       "<caption>OLS Regression Results</caption>\n",
       "<tr>\n",
       "  <th>Dep. Variable:</th>        <td>log_price</td>    <th>  R-squared:         </th> <td>   0.987</td> \n",
       "</tr>\n",
       "<tr>\n",
       "  <th>Model:</th>                   <td>OLS</td>       <th>  Adj. R-squared:    </th> <td>   0.987</td> \n",
       "</tr>\n",
       "<tr>\n",
       "  <th>Method:</th>             <td>Least Squares</td>  <th>  F-statistic:       </th> <td>3.318e+04</td>\n",
       "</tr>\n",
       "<tr>\n",
       "  <th>Date:</th>             <td>Sun, 17 Feb 2019</td> <th>  Prob (F-statistic):</th>  <td>  0.00</td>  \n",
       "</tr>\n",
       "<tr>\n",
       "  <th>Time:</th>                 <td>11:32:32</td>     <th>  Log-Likelihood:    </th> <td> -14026.</td> \n",
       "</tr>\n",
       "<tr>\n",
       "  <th>No. Observations:</th>      <td> 11227</td>      <th>  AIC:               </th> <td>2.810e+04</td>\n",
       "</tr>\n",
       "<tr>\n",
       "  <th>Df Residuals:</th>          <td> 11201</td>      <th>  BIC:               </th> <td>2.829e+04</td>\n",
       "</tr>\n",
       "<tr>\n",
       "  <th>Df Model:</th>              <td>    26</td>      <th>                     </th>     <td> </td>    \n",
       "</tr>\n",
       "<tr>\n",
       "  <th>Covariance Type:</th>      <td>nonrobust</td>    <th>                     </th>     <td> </td>    \n",
       "</tr>\n",
       "</table>\n",
       "<table class=\"simpletable\">\n",
       "<tr>\n",
       "         <td></td>            <th>coef</th>     <th>std err</th>      <th>t</th>      <th>P>|t|</th>  <th>[0.025</th>    <th>0.975]</th>  \n",
       "</tr>\n",
       "<tr>\n",
       "  <th>birth_year</th>      <td>    0.0023</td> <td> 3.38e-05</td> <td>   67.525</td> <td> 0.000</td> <td>    0.002</td> <td>    0.002</td>\n",
       "</tr>\n",
       "<tr>\n",
       "  <th>log_area</th>        <td>    0.4070</td> <td>    0.007</td> <td>   55.815</td> <td> 0.000</td> <td>    0.393</td> <td>    0.421</td>\n",
       "</tr>\n",
       "<tr>\n",
       "  <th>book</th>            <td>   -2.4771</td> <td>    0.125</td> <td>  -19.828</td> <td> 0.000</td> <td>   -2.722</td> <td>   -2.232</td>\n",
       "</tr>\n",
       "<tr>\n",
       "  <th>decorative-arts</th> <td>   -1.9634</td> <td>    0.058</td> <td>  -33.922</td> <td> 0.000</td> <td>   -2.077</td> <td>   -1.850</td>\n",
       "</tr>\n",
       "<tr>\n",
       "  <th>mixed-media</th>     <td>   -0.5108</td> <td>    0.037</td> <td>  -13.824</td> <td> 0.000</td> <td>   -0.583</td> <td>   -0.438</td>\n",
       "</tr>\n",
       "<tr>\n",
       "  <th>new-media</th>       <td>   -0.4123</td> <td>    0.183</td> <td>   -2.258</td> <td> 0.024</td> <td>   -0.770</td> <td>   -0.054</td>\n",
       "</tr>\n",
       "<tr>\n",
       "  <th>no-medium</th>       <td>   -0.0425</td> <td>    0.424</td> <td>   -0.100</td> <td> 0.920</td> <td>   -0.874</td> <td>    0.789</td>\n",
       "</tr>\n",
       "<tr>\n",
       "  <th>photograph</th>      <td>   -0.4543</td> <td>    0.039</td> <td>  -11.614</td> <td> 0.000</td> <td>   -0.531</td> <td>   -0.378</td>\n",
       "</tr>\n",
       "<tr>\n",
       "  <th>print</th>           <td>   -0.8938</td> <td>    0.038</td> <td>  -23.584</td> <td> 0.000</td> <td>   -0.968</td> <td>   -0.820</td>\n",
       "</tr>\n",
       "<tr>\n",
       "  <th>sculpture</th>       <td>    0.2369</td> <td>    0.042</td> <td>    5.671</td> <td> 0.000</td> <td>    0.155</td> <td>    0.319</td>\n",
       "</tr>\n",
       "<tr>\n",
       "  <th>work-on-paper</th>   <td>   -0.3908</td> <td>    0.034</td> <td>  -11.411</td> <td> 0.000</td> <td>   -0.458</td> <td>   -0.324</td>\n",
       "</tr>\n",
       "<tr>\n",
       "  <th>signed</th>          <td>    0.0377</td> <td>    0.021</td> <td>    1.815</td> <td> 0.070</td> <td>   -0.003</td> <td>    0.078</td>\n",
       "</tr>\n",
       "<tr>\n",
       "  <th>degrees_cat</th>     <td>   -0.0239</td> <td>    0.009</td> <td>   -2.697</td> <td> 0.007</td> <td>   -0.041</td> <td>   -0.007</td>\n",
       "</tr>\n",
       "<tr>\n",
       "  <th>museums_cat</th>     <td>    0.0942</td> <td>    0.007</td> <td>   12.872</td> <td> 0.000</td> <td>    0.080</td> <td>    0.109</td>\n",
       "</tr>\n",
       "<tr>\n",
       "  <th>galleries_cat</th>   <td>    0.0910</td> <td>    0.010</td> <td>    8.810</td> <td> 0.000</td> <td>    0.071</td> <td>    0.111</td>\n",
       "</tr>\n",
       "<tr>\n",
       "  <th>ed-1</th>            <td>    0.8289</td> <td>    0.038</td> <td>   21.639</td> <td> 0.000</td> <td>    0.754</td> <td>    0.904</td>\n",
       "</tr>\n",
       "<tr>\n",
       "  <th>ed-101-more</th>     <td>   -0.0179</td> <td>    0.043</td> <td>   -0.414</td> <td> 0.679</td> <td>   -0.102</td> <td>    0.067</td>\n",
       "</tr>\n",
       "<tr>\n",
       "  <th>ed-11-30</th>        <td>    0.4772</td> <td>    0.037</td> <td>   12.823</td> <td> 0.000</td> <td>    0.404</td> <td>    0.550</td>\n",
       "</tr>\n",
       "<tr>\n",
       "  <th>ed-2-10</th>         <td>    0.7869</td> <td>    0.038</td> <td>   20.717</td> <td> 0.000</td> <td>    0.712</td> <td>    0.861</td>\n",
       "</tr>\n",
       "<tr>\n",
       "  <th>ed-31-50</th>        <td>    0.3285</td> <td>    0.042</td> <td>    7.895</td> <td> 0.000</td> <td>    0.247</td> <td>    0.410</td>\n",
       "</tr>\n",
       "<tr>\n",
       "  <th>ed-51-100</th>       <td>    0.0406</td> <td>    0.041</td> <td>    0.986</td> <td> 0.324</td> <td>   -0.040</td> <td>    0.121</td>\n",
       "</tr>\n",
       "<tr>\n",
       "  <th>fame_cat</th>        <td>    0.2054</td> <td>    0.007</td> <td>   27.993</td> <td> 0.000</td> <td>    0.191</td> <td>    0.220</td>\n",
       "</tr>\n",
       "<tr>\n",
       "  <th>cr-pre-1960</th>     <td>    0.7252</td> <td>    0.071</td> <td>   10.173</td> <td> 0.000</td> <td>    0.585</td> <td>    0.865</td>\n",
       "</tr>\n",
       "<tr>\n",
       "  <th>cr-1960s-70s</th>    <td>    0.3038</td> <td>    0.036</td> <td>    8.424</td> <td> 0.000</td> <td>    0.233</td> <td>    0.374</td>\n",
       "</tr>\n",
       "<tr>\n",
       "  <th>cr-1980s-90s</th>    <td>    0.4843</td> <td>    0.031</td> <td>   15.614</td> <td> 0.000</td> <td>    0.423</td> <td>    0.545</td>\n",
       "</tr>\n",
       "<tr>\n",
       "  <th>cr-2000s</th>        <td>    0.2429</td> <td>    0.026</td> <td>    9.470</td> <td> 0.000</td> <td>    0.193</td> <td>    0.293</td>\n",
       "</tr>\n",
       "</table>\n",
       "<table class=\"simpletable\">\n",
       "<tr>\n",
       "  <th>Omnibus:</th>       <td>109.503</td> <th>  Durbin-Watson:     </th> <td>   0.831</td>\n",
       "</tr>\n",
       "<tr>\n",
       "  <th>Prob(Omnibus):</th> <td> 0.000</td>  <th>  Jarque-Bera (JB):  </th> <td> 164.245</td>\n",
       "</tr>\n",
       "<tr>\n",
       "  <th>Skew:</th>          <td>-0.097</td>  <th>  Prob(JB):          </th> <td>2.16e-36</td>\n",
       "</tr>\n",
       "<tr>\n",
       "  <th>Kurtosis:</th>      <td> 3.560</td>  <th>  Cond. No.          </th> <td>1.04e+05</td>\n",
       "</tr>\n",
       "</table><br/><br/>Warnings:<br/>[1] Standard Errors assume that the covariance matrix of the errors is correctly specified.<br/>[2] The condition number is large, 1.04e+05. This might indicate that there are<br/>strong multicollinearity or other numerical problems."
      ],
      "text/plain": [
       "<class 'statsmodels.iolib.summary.Summary'>\n",
       "\"\"\"\n",
       "                            OLS Regression Results                            \n",
       "==============================================================================\n",
       "Dep. Variable:              log_price   R-squared:                       0.987\n",
       "Model:                            OLS   Adj. R-squared:                  0.987\n",
       "Method:                 Least Squares   F-statistic:                 3.318e+04\n",
       "Date:                Sun, 17 Feb 2019   Prob (F-statistic):               0.00\n",
       "Time:                        11:32:32   Log-Likelihood:                -14026.\n",
       "No. Observations:               11227   AIC:                         2.810e+04\n",
       "Df Residuals:                   11201   BIC:                         2.829e+04\n",
       "Df Model:                          26                                         \n",
       "Covariance Type:            nonrobust                                         \n",
       "===================================================================================\n",
       "                      coef    std err          t      P>|t|      [0.025      0.975]\n",
       "-----------------------------------------------------------------------------------\n",
       "birth_year          0.0023   3.38e-05     67.525      0.000       0.002       0.002\n",
       "log_area            0.4070      0.007     55.815      0.000       0.393       0.421\n",
       "book               -2.4771      0.125    -19.828      0.000      -2.722      -2.232\n",
       "decorative-arts    -1.9634      0.058    -33.922      0.000      -2.077      -1.850\n",
       "mixed-media        -0.5108      0.037    -13.824      0.000      -0.583      -0.438\n",
       "new-media          -0.4123      0.183     -2.258      0.024      -0.770      -0.054\n",
       "no-medium          -0.0425      0.424     -0.100      0.920      -0.874       0.789\n",
       "photograph         -0.4543      0.039    -11.614      0.000      -0.531      -0.378\n",
       "print              -0.8938      0.038    -23.584      0.000      -0.968      -0.820\n",
       "sculpture           0.2369      0.042      5.671      0.000       0.155       0.319\n",
       "work-on-paper      -0.3908      0.034    -11.411      0.000      -0.458      -0.324\n",
       "signed              0.0377      0.021      1.815      0.070      -0.003       0.078\n",
       "degrees_cat        -0.0239      0.009     -2.697      0.007      -0.041      -0.007\n",
       "museums_cat         0.0942      0.007     12.872      0.000       0.080       0.109\n",
       "galleries_cat       0.0910      0.010      8.810      0.000       0.071       0.111\n",
       "ed-1                0.8289      0.038     21.639      0.000       0.754       0.904\n",
       "ed-101-more        -0.0179      0.043     -0.414      0.679      -0.102       0.067\n",
       "ed-11-30            0.4772      0.037     12.823      0.000       0.404       0.550\n",
       "ed-2-10             0.7869      0.038     20.717      0.000       0.712       0.861\n",
       "ed-31-50            0.3285      0.042      7.895      0.000       0.247       0.410\n",
       "ed-51-100           0.0406      0.041      0.986      0.324      -0.040       0.121\n",
       "fame_cat            0.2054      0.007     27.993      0.000       0.191       0.220\n",
       "cr-pre-1960         0.7252      0.071     10.173      0.000       0.585       0.865\n",
       "cr-1960s-70s        0.3038      0.036      8.424      0.000       0.233       0.374\n",
       "cr-1980s-90s        0.4843      0.031     15.614      0.000       0.423       0.545\n",
       "cr-2000s            0.2429      0.026      9.470      0.000       0.193       0.293\n",
       "==============================================================================\n",
       "Omnibus:                      109.503   Durbin-Watson:                   0.831\n",
       "Prob(Omnibus):                  0.000   Jarque-Bera (JB):              164.245\n",
       "Skew:                          -0.097   Prob(JB):                     2.16e-36\n",
       "Kurtosis:                       3.560   Cond. No.                     1.04e+05\n",
       "==============================================================================\n",
       "\n",
       "Warnings:\n",
       "[1] Standard Errors assume that the covariance matrix of the errors is correctly specified.\n",
       "[2] The condition number is large, 1.04e+05. This might indicate that there are\n",
       "strong multicollinearity or other numerical problems.\n",
       "\"\"\""
      ]
     },
     "execution_count": 156,
     "metadata": {},
     "output_type": "execute_result"
    }
   ],
   "source": [
    "model = sm.OLS(y,X)\n",
    "fit = model.fit()\n",
    "fit.summary()"
   ]
  },
  {
   "cell_type": "code",
   "execution_count": 157,
   "metadata": {
    "scrolled": true
   },
   "outputs": [
    {
     "data": {
      "image/png": "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
